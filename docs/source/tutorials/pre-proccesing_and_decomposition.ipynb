{
 "cells": [
  {
   "cell_type": "markdown",
   "id": "c5295838",
   "metadata": {},
   "source": [
    "## New Pre-processing methods and decomposition models\n",
    "\n",
    "Useful methods for pre-processing the galaxy object to perform the dynamical decomposition:\n",
    "\n",
    " - Center funtion: `preproc.Centralizer()`\n",
    " - Star align function : `preproc.Aligner(r_cut=30)`\n",
    " - Stellar half mass radius: `preproc.Cutter(num_radii=3)`\n",
    " - Potential energy: `preproc.Potentializer(backend=\"POTENTIAL_BACKENDS\")`"
   ]
  },
  {
   "cell_type": "code",
   "execution_count": 2,
   "metadata": {},
   "outputs": [
    {
     "data": {
      "text/plain": [
       "<Galaxy stars=32067, dark_matter=21156, gas=4061, potential=True>"
      ]
     },
     "execution_count": 2,
     "metadata": {},
     "output_type": "execute_result"
    }
   ],
   "source": [
    "import galaxychop as gchop\n",
    "\n",
    "gal = gchop.io.read_hdf5(\"gal394242.h5\")\n",
    "gal"
   ]
  },
  {
   "cell_type": "markdown",
   "metadata": {},
   "source": [
    "The packages provides two function to validate if a galaxy is centered and aligned:"
   ]
  },
  {
   "cell_type": "code",
   "execution_count": null,
   "id": "f9cbcb01",
   "metadata": {},
   "outputs": [
    {
     "name": "stdout",
     "output_type": "stream",
     "text": [
      "Centered: False\n",
      "Aligned: False\n"
     ]
    }
   ],
   "source": [
    "center = gchop.preproc.Centralizer()\n",
    "align = gchop.preproc.Aligner(r_cut=30) \n",
    "\n",
    "print(\"Centered:\", center.checker(gal))\n",
    "print(\"Aligned:\", align.checker(gal))"
   ]
  },
  {
   "cell_type": "markdown",
   "id": "6575c4a1",
   "metadata": {},
   "source": [
    "First of all, to perform the dynamical decomposition is necesary center the position of all galaxy particles respect to the position of the lowest potential particle."
   ]
  },
  {
   "cell_type": "code",
   "execution_count": null,
   "id": "c681779d",
   "metadata": {},
   "outputs": [
    {
     "data": {
      "text/plain": [
       "<Galaxy stars=32067, dark_matter=21156, gas=4061, potential=True>"
      ]
     },
     "execution_count": 3,
     "metadata": {},
     "output_type": "execute_result"
    }
   ],
   "source": [
    "gal = center.transform(gal)  "
   ]
  },
  {
   "cell_type": "markdown",
   "id": "1e3dd2e5",
   "metadata": {},
   "source": [
    "Secondly, the position particles are rotatated so that the total angular moment of the stars particles coincides\n",
    "with the z-axis.\n",
    "\n",
    "Optionally, only stars particles within a cutting radius `(r_cut)` can be used to calculate the rotation matrix."
   ]
  },
  {
   "cell_type": "code",
   "execution_count": null,
   "id": "12144dcc",
   "metadata": {},
   "outputs": [],
   "source": [
    "gal= align.transform(gal)"
   ]
  },
  {
   "cell_type": "code",
   "execution_count": null,
   "id": "94ca3cf4",
   "metadata": {},
   "outputs": [
    {
     "name": "stdout",
     "output_type": "stream",
     "text": [
      "Centered: True\n",
      "Aligned: True\n",
      "Centered & Aligned: True\n"
     ]
    }
   ],
   "source": [
    "print(\"Centered:\", center.checker(gal))\n",
    "print(\"Aligned:\", align.checker(gal))"
   ]
  },
  {
   "cell_type": "markdown",
   "id": "e1256aee",
   "metadata": {},
   "source": [
    "Optionally one could perform the calculus of the stellar half mass radius"
   ]
  },
  {
   "cell_type": "code",
   "execution_count": null,
   "id": "a9fa1d3d",
   "metadata": {},
   "outputs": [],
   "source": [
    "cutter = gchop.preproc.Cutter(num_radii=3)\n",
    "gal = cutter.transform(gal)"
   ]
  },
  {
   "cell_type": "code",
   "execution_count": null,
   "id": "0fa95465",
   "metadata": {},
   "outputs": [
    {
     "name": "stdout",
     "output_type": "stream",
     "text": [
      "Cutted: True\n"
     ]
    }
   ],
   "source": [
    "print(\"Cutted:\", cutter.checker(gal))\n",
    "\n",
    "r_sh = gchop.preproc.smr_crop.get_radius_half_mass(gal, particle='stars')\n",
    "print(\"Stellar half-mass radius:\" + f' {r_sh:.2f} kpc\\n')"
   ]
  },
  {
   "cell_type": "markdown",
   "id": "a7d680f1",
   "metadata": {},
   "source": [
    "And the calculation of the potential energy, using this backends to perform the calculation\n",
    "\n",
    "`POTENTIAL_BACKENDS = {\n",
    "    \"fortran\",\n",
    "    \"grispy\",\n",
    "    \"numpy\"\n",
    "}`"
   ]
  },
  {
   "cell_type": "code",
   "execution_count": 4,
   "id": "e9a8bb95",
   "metadata": {},
   "outputs": [
    {
     "name": "stdout",
     "output_type": "stream",
     "text": [
      "CREATED POTENCIALIZER WITH BACKEND  fortran\n"
     ]
    }
   ],
   "source": [
    "pot = gchop.preproc.Potentializer(\"fortran\")\n",
    "\n",
    "gal=pot.transform(gal)"
   ]
  },
  {
   "cell_type": "markdown",
   "id": "294371e9",
   "metadata": {},
   "source": [
    "## Decomposition"
   ]
  },
  {
   "cell_type": "markdown",
   "id": "f11cdf11",
   "metadata": {},
   "source": [
    "To perform the dynamical decomposition the package provides several model:\n",
    "\n",
    "    - JThreshold\n",
    "    - JHistogram\n",
    "    - JEHistogram\n",
    "    - KMeans\n",
    "    - GaussianMixture\n",
    "    - AutoGaussianMixture\n",
    "    \n",
    "The procedure to find to which stellar component each star particle belongs is exactly the same for all models:\n",
    "\n",
    "First instantiate the decomposer"
   ]
  },
  {
   "cell_type": "code",
   "execution_count": 7,
   "id": "81077626",
   "metadata": {},
   "outputs": [
    {
     "data": {
      "text/plain": [
       "JThreshold(cbins=(0.05, 0.005), eps_cut=0.6)"
      ]
     },
     "execution_count": 7,
     "metadata": {},
     "output_type": "execute_result"
    }
   ],
   "source": [
    "decomposer = gchop.models.JThreshold()\n",
    "decomposer"
   ]
  },
  {
   "cell_type": "markdown",
   "id": "75525cb9",
   "metadata": {},
   "source": [
    "Decompose the galaxy into components"
   ]
  },
  {
   "cell_type": "code",
   "execution_count": null,
   "id": "a8b74d78",
   "metadata": {},
   "outputs": [
    {
     "data": {
      "text/plain": [
       "<Components length=57284, labels={'Spheroid', nan, 'Disk'}, probabilities=False, lmap=True>"
      ]
     },
     "execution_count": 8,
     "metadata": {},
     "output_type": "execute_result"
    }
   ],
   "source": [
    "gal_decomposed = decomposer.decompose(gal)\n",
    "components = gal_decomposed.components"
   ]
  },
  {
   "cell_type": "code",
   "execution_count": 9,
   "id": "bbc37796",
   "metadata": {},
   "outputs": [
    {
     "data": {
      "text/plain": [
       "array([ 0.,  0.,  0., ..., nan, nan, nan])"
      ]
     },
     "execution_count": 9,
     "metadata": {},
     "output_type": "execute_result"
    }
   ],
   "source": [
    "components.labels"
   ]
  },
  {
   "cell_type": "code",
   "execution_count": 10,
   "id": "fa748f8d",
   "metadata": {},
   "outputs": [
    {
     "data": {
      "text/plain": [
       "array(['stars', 'stars', 'stars', ..., 'gas', 'gas', 'gas'], dtype='<U11')"
      ]
     },
     "execution_count": 10,
     "metadata": {},
     "output_type": "execute_result"
    }
   ],
   "source": [
    "components.ptypes"
   ]
  },
  {
   "cell_type": "code",
   "execution_count": 11,
   "id": "f65f1d4f",
   "metadata": {},
   "outputs": [],
   "source": [
    "components.to_dataframe()"
   ]
  }
 ],
 "metadata": {
  "kernelspec": {
   "display_name": "Python 3",
   "language": "python",
   "name": "python3"
  },
  "language_info": {
   "codemirror_mode": {
    "name": "ipython",
    "version": 3
   },
   "file_extension": ".py",
   "mimetype": "text/x-python",
   "name": "python",
   "nbconvert_exporter": "python",
   "pygments_lexer": "ipython3",
   "version": "3.11.6"
  },
  "toc": {
   "base_numbering": 1,
   "nav_menu": {},
   "number_sections": true,
   "sideBar": true,
   "skip_h1_title": false,
   "title_cell": "Table of Contents",
   "title_sidebar": "Contents",
   "toc_cell": false,
   "toc_position": {},
   "toc_section_display": true,
   "toc_window_display": false
  },
  "varInspector": {
   "cols": {
    "lenName": 16,
    "lenType": 16,
    "lenVar": 40
   },
   "kernels_config": {
    "python": {
     "delete_cmd_postfix": "",
     "delete_cmd_prefix": "del ",
     "library": "var_list.py",
     "varRefreshCmd": "print(var_dic_list())"
    },
    "r": {
     "delete_cmd_postfix": ") ",
     "delete_cmd_prefix": "rm(",
     "library": "var_list.r",
     "varRefreshCmd": "cat(var_dic_list()) "
    }
   },
   "types_to_exclude": [
    "module",
    "function",
    "builtin_function_or_method",
    "instance",
    "_Feature"
   ],
   "window_display": false
  }
 },
 "nbformat": 4,
 "nbformat_minor": 5
}
