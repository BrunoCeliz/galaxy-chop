{
 "cells": [
  {
   "cell_type": "code",
   "execution_count": 2,
   "metadata": {},
   "outputs": [
    {
     "name": "stdout",
     "output_type": "stream",
     "text": [
      "Populating the interactive namespace from numpy and matplotlib\n"
     ]
    }
   ],
   "source": [
    "%pylab inline"
   ]
  },
  {
   "cell_type": "markdown",
   "metadata": {},
   "source": [
    "# Illustris TNG"
   ]
  },
  {
   "cell_type": "code",
   "execution_count": null,
   "metadata": {},
   "outputs": [],
   "source": [
    "## Leemos los ID de las galaxias a las que le vamos a calcular el potencial\n",
    "ID_ = np.loadtxt('/home/vcristiani/doctorado/TNG/galaxias_con_errores_1e115-12.txt')\n",
    "ID_ = np.int_(ID_[:,0])\n",
    "# print(ID_)\n",
    "print(len(ID_))"
   ]
  },
  {
   "cell_type": "code",
   "execution_count": null,
   "metadata": {},
   "outputs": [],
   "source": [
    "## Leemos los ID de las galaxias a las que le vamos a calcular el potencial\n",
    "ID_ = np.loadtxt('/home/vcristiani/doctorado/TNG/galaxias_con_errores_1e115-12.txt')\n",
    "# ID_ = np.int_(ID_[:,0])\n",
    "# # print(ID_)\n",
    "# print(len(ID_))\n",
    "ID_=np.int(ID_[0])\n",
    "ID_"
   ]
  },
  {
   "cell_type": "markdown",
   "metadata": {},
   "source": [
    "## Sin gas"
   ]
  },
  {
   "cell_type": "code",
   "execution_count": 7,
   "metadata": {},
   "outputs": [],
   "source": [
    "j = np.int(0)\n",
    "for k in range(0,len(ID_)):\n",
    "    ID = ID_[k]\n",
    "    \n",
    "    ## Leemos los archivos de la galaxia\n",
    "    path = '/home/vcristiani/doctorado/TNG/TNG_galaxias/TNG100-1_gal_ID_'\n",
    "\n",
    "    dark = np.load(path+str(ID)+'_particle_type_1.npy')\n",
    "    star = np.load(path+str(ID)+'_particle_type_4.npy')\n",
    "#     print('sin gas')\n",
    "\n",
    "    ## Creamos los archivos con el que vamos a correr los potenciales\n",
    "\n",
    "    ## Número de partículas de gas, dark matter y estrellas\n",
    "    path = '/home/vcristiani/doctorado/TNG/TNG_nro/'\n",
    "\n",
    "    f = open(path+'nro_particulas_ID_'+str(ID)+'.dat','a+')\n",
    "    f.write('%s'%j + '    ' + '%s'%len(dark) + '    ' + '%s'%len(star) + '\\n')\n",
    "    f.close()\n",
    "\n",
    "\n",
    "    ## Posiciones y masas para las particulas de gas, dark matter y estrellas\n",
    "    path = '/home/vcristiani/doctorado/TNG/TNG_galaxias_dat/'\n",
    "\n",
    "    f = open(path+'dark_ID_'+str(ID)+'.dat','a+')\n",
    "    for i in range(0,len(dark)):\n",
    "         f.write('%s'%(i) + '    ' + '%s'%dark[i,1] + '    ' + '%s'%dark[i,2] + '    ' + '%s'%dark[i,3] + '    ' + '%s'%dark[i,0] + '\\n')\n",
    "    f.close()\n",
    "\n",
    "    f = open(path+'star_ID_'+str(ID)+'.dat','a+')\n",
    "    for i in range(0,len(star)):\n",
    "         f.write('%s'%(i+len(dark)) + '    ' + '%s'%star[i,1] + '    ' + '%s'%star[i,2] + '    ' + '%s'%star[i,3] + '    ' + '%s'%star[i,0] + '\\n')\n",
    "    f.close()    "
   ]
  },
  {
   "cell_type": "markdown",
   "metadata": {},
   "source": [
    "## Con gas"
   ]
  },
  {
   "cell_type": "code",
   "execution_count": 44,
   "metadata": {},
   "outputs": [],
   "source": [
    "todas = np.loadtxt('/home/vcristiani/doctorado/TNG/ID_gal_cut_1e115-12.txt')\n",
    "todas = np.int_(todas[:,0])"
   ]
  },
  {
   "cell_type": "code",
   "execution_count": 24,
   "metadata": {},
   "outputs": [
    {
     "data": {
      "text/plain": [
       "array([     1,      2,  17186,  17187,  31343,  31344,  41582,  41583,\n",
       "        41586,  52618,  52619,  60731,  76086,  76087,  76088,  83281,\n",
       "       108012, 114388, 114389, 118679, 121863, 125027, 125028, 128393,\n",
       "       131047, 134847, 137885, 140721, 146176, 146177, 149169, 152031,\n",
       "       154493, 156809, 158847, 161162, 163675, 165727, 168390, 170540,\n",
       "       175238, 177719, 179886, 184828, 186927, 188859, 191079, 194947,\n",
       "       199321, 204234, 206226, 207473, 210764, 212836, 214452, 219032,\n",
       "       225155, 226194, 227574, 230235, 234514, 235692, 239245, 242214,\n",
       "       247348, 252245, 254925, 256507, 265267, 267323, 268295, 268908,\n",
       "       271729])"
      ]
     },
     "execution_count": 24,
     "metadata": {},
     "output_type": "execute_result"
    }
   ],
   "source": [
    "con_gas = set(todas).difference(ID_) #---> esto compara y devuelve los que esta sólo en el primer conjunto\n",
    "con_gas = list(con_gas)\n",
    "ID_g = np.asarray(con_gas)"
   ]
  },
  {
   "cell_type": "code",
   "execution_count": 47,
   "metadata": {},
   "outputs": [
    {
     "data": {
      "text/plain": [
       "72"
      ]
     },
     "execution_count": 47,
     "metadata": {},
     "output_type": "execute_result"
    }
   ],
   "source": [
    "# len(ID_g)+len(ID_)\n",
    "len(todas)\n",
    "len(ID_g)"
   ]
  },
  {
   "cell_type": "code",
   "execution_count": 48,
   "metadata": {},
   "outputs": [],
   "source": [
    "for k in range(0,len(ID_g)):\n",
    "    ID = ID_g[k]\n",
    "    \n",
    "    ## Leemos los archivos de la galaxia\n",
    "    path = '/home/vcristiani/doctorado/TNG/TNG_galaxias/TNG100-1_gal_ID_'\n",
    "\n",
    "    gas_ = np.load(path+str(ID)+'_particle_type_0.npy')\n",
    "    dark = np.load(path+str(ID)+'_particle_type_1.npy')\n",
    "    star = np.load(path+str(ID)+'_particle_type_4.npy')\n",
    "#     print('con gas')  \n",
    "\n",
    "    ## Creamos los archivos con el que vamos a correr los potenciales\n",
    "\n",
    "    ## Número de partículas de gas, dark matter y estrellas\n",
    "    path = '/home/vcristiani/doctorado/TNG/TNG_nro/'\n",
    "\n",
    "    f = open(path+'nro_particulas_ID_'+str(ID)+'.dat','a+')\n",
    "    f.write('%s'%len(gas_) + '    ' + '%s'%len(dark) + '    ' + '%s'%len(star) + '\\n')\n",
    "    f.close()\n",
    "\n",
    "    ## Posiciones y masas para las particulas de gas, dark matter y estrellas\n",
    "    path = '/home/vcristiani/doctorado/TNG/TNG_galaxias_dat/'\n",
    "\n",
    "    f = open(path+'gas_ID_'+str(ID)+'.dat','a+')\n",
    "    for i in range(0,len(gas_)):\n",
    "         f.write('%s'%(i) + '    ' + '%s'%gas_[i,1] + '    ' + '%s'%gas_[i,2] + '    ' + '%s'%gas_[i,3] + '    ' + '%s'%gas_[i,0] + '\\n')\n",
    "    f.close()\n",
    "\n",
    "    f = open(path+'dark_ID_'+str(ID)+'.dat','a+')\n",
    "    for i in range(0,len(dark)):\n",
    "         f.write('%s'%(i+len(gas_)) + '    ' + '%s'%dark[i,1] + '    ' + '%s'%dark[i,2] + '    ' + '%s'%dark[i,3] + '    ' + '%s'%dark[i,0] + '\\n')\n",
    "    f.close()\n",
    "\n",
    "    f = open(path+'star_ID_'+str(ID)+'.dat','a+')\n",
    "    for i in range(0,len(star)):\n",
    "         f.write('%s'%(i+len(gas_)+len(dark)) + '    ' + '%s'%star[i,1] + '    ' + '%s'%star[i,2] + '    ' + '%s'%star[i,3] + '    ' + '%s'%star[i,0] + '\\n')\n",
    "    f.close()    "
   ]
  },
  {
   "cell_type": "code",
   "execution_count": null,
   "metadata": {},
   "outputs": [],
   "source": []
  }
 ],
 "metadata": {
  "kernelspec": {
   "display_name": "Python 3",
   "language": "python",
   "name": "python3"
  },
  "language_info": {
   "codemirror_mode": {
    "name": "ipython",
    "version": 3
   },
   "file_extension": ".py",
   "mimetype": "text/x-python",
   "name": "python",
   "nbconvert_exporter": "python",
   "pygments_lexer": "ipython3",
   "version": "3.8.2"
  }
 },
 "nbformat": 4,
 "nbformat_minor": 4
}
