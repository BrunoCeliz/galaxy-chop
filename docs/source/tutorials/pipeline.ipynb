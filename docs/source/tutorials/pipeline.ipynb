{
 "cells": [
  {
   "cell_type": "markdown",
   "metadata": {},
   "source": [
    "## Pipeline\n",
    "\n",
    "Useful method for pre-processing the galaxy object to perform  transform methods with a final decomposer.\n",
    "\n",
    "Sequentially apply a list of transforms and a final decomposer.\n",
    "The purpose of the pipeline is to assemble several steps that can be applied together while setting different parameters.\n"
   ]
  },
  {
   "cell_type": "code",
   "execution_count": 1,
   "metadata": {},
   "outputs": [
    {
     "data": {
      "text/plain": [
       "<Galaxy stars=37393, dark_matter=155101, gas=80153, potential=True>"
      ]
     },
     "execution_count": 1,
     "metadata": {},
     "output_type": "execute_result"
    }
   ],
   "source": [
    "import galaxychop as gchop\n",
    "\n",
    "gal = gchop.io.read_hdf5(\"../../../tests/datasets/gal394242.h5\")\n",
    "gal\n"
   ]
  },
  {
   "cell_type": "code",
   "execution_count": null,
   "metadata": {},
   "outputs": [
    {
     "name": "stdout",
     "output_type": "stream",
     "text": [
      "Centered: False\n",
      "Galaxy must have be centered before alignment!\n",
      "Aligned: False\n"
     ]
    }
   ],
   "source": [
    "center = gchop.preproc.Centralizer()\n",
    "align = gchop.preproc.Aligner(r_cut=30) \n",
    "\n",
    "print(\"Centered:\", center.checker(gal))\n",
    "print(\"Aligned:\", align.checker(gal))"
   ]
  },
  {
   "cell_type": "markdown",
   "metadata": {},
   "source": [
    "Here an example that performs the aligner, the centralizer and after that the `JThreshold` decomposer"
   ]
  },
  {
   "cell_type": "code",
   "execution_count": null,
   "metadata": {},
   "outputs": [],
   "source": [
    "Centralizer = gchop.preproc.Centralizer(with_potential=True)\n",
    "Aligner = gchop.preproc.Aligner(r_cut=30)\n",
    "Decomposer_0 = gchop.models.JThreshold()\n",
    "\n",
    "pipe = gchop.GchopPipeline(\n",
    "        [\n",
    "        (\"transformer_0\",Centralizer),\n",
    "        (\"transformer_1\",Aligner),\n",
    "        (\"decomposer_0\",Decomposer_0)\n",
    "        ]\n",
    "    )"
   ]
  },
  {
   "cell_type": "markdown",
   "metadata": {},
   "source": [
    "First we perform the transformation"
   ]
  },
  {
   "cell_type": "code",
   "execution_count": null,
   "metadata": {},
   "outputs": [
    {
     "name": "stdout",
     "output_type": "stream",
     "text": [
      "Centered: True\n",
      "Aligned: True\n"
     ]
    }
   ],
   "source": [
    "tranformed_gal = pipe.transform(gal)\n",
    "\n",
    "print(\"Centered:\", center.checker(tranformed_gal))\n",
    "print(\"Aligned:\", align.checker(tranformed_gal))"
   ]
  },
  {
   "cell_type": "markdown",
   "metadata": {},
   "source": [
    "And then the decomposition"
   ]
  },
  {
   "cell_type": "code",
   "execution_count": null,
   "metadata": {},
   "outputs": [],
   "source": [
    "gal_decomposed = pipe.decompose(gal) "
   ]
  },
  {
   "cell_type": "code",
   "execution_count": null,
   "metadata": {},
   "outputs": [
    {
     "data": {
      "text/plain": [
       "<Galaxy stars=37393, dark_matter=155101, gas=80153, potential=True>\n",
       "<Components length=272647, labels=['Disk', 'Spheroid', 'nan'], probabilities=False, lmap=True>"
      ]
     },
     "execution_count": 8,
     "metadata": {},
     "output_type": "execute_result"
    }
   ],
   "source": [
    "gal_decomposed"
   ]
  }
 ],
 "metadata": {
  "kernelspec": {
   "display_name": "try2_glxchop",
   "language": "python",
   "name": "python3"
  },
  "language_info": {
   "codemirror_mode": {
    "name": "ipython",
    "version": 3
   },
   "file_extension": ".py",
   "mimetype": "text/x-python",
   "name": "python",
   "nbconvert_exporter": "python",
   "pygments_lexer": "ipython3",
   "version": "3.11.11"
  }
 },
 "nbformat": 4,
 "nbformat_minor": 2
}
