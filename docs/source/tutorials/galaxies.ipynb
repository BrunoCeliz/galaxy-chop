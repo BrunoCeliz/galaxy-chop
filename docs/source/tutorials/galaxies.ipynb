{
 "cells": [
  {
   "cell_type": "markdown",
   "metadata": {},
   "source": [
    "# Understanding the GalaxyChop Galaxies"
   ]
  },
  {
   "cell_type": "markdown",
   "metadata": {},
   "source": [
    "GalaxyChop was designed to define a class Galaxy which encapsulates all the physical properties useful for the dynamic decomposition.\n",
    "\n",
    "This chapter aims to explain the funcionalities of a class Galaxy, which is represented with a class called `galaxychop.Galaxy`"
   ]
  },
  {
   "cell_type": "markdown",
   "metadata": {},
   "source": [
    "Objectives:"
   ]
  },
  {
   "cell_type": "markdown",
   "metadata": {},
   "source": [
    " - Contruir el objeto galaxia\n",
    " - Describir la clase Galaxy\n",
    " - Detallar sus atributos\n",
    " - Detallar sus propiedades \n",
    " - Detallar sus funcionalidades (crear DataFrame, centrar, alinear, plotear, descomponer)"
   ]
  },
  {
   "cell_type": "markdown",
   "metadata": {},
   "source": [
    "# Creating the galaxy object"
   ]
  },
  {
   "cell_type": "markdown",
   "metadata": {},
   "source": [
    "To create an object of type Galaxy it is necessary to collect data from a single galaxy.\n",
    "The data should include stellar, dark matter and gas particles, each with their masses (m), positions (x, y, z) and velocities (vx, vy, vz). \n",
    "\n",
    "There are several alternatives to load the Galaxy object:\n",
    "\n",
    "    - Load data manually, \n",
    "    - Reading data from a npy file,\n",
    "    - Reading the data from a HDF5 file.\n",
    "\n",
    "So first of all it is necessary to obtain a file with the appropriate content."
   ]
  },
  {
   "cell_type": "markdown",
   "metadata": {},
   "source": [
    "<div class=\"alert alert-info\">\n",
    "Note: Units\n",
    "    \n",
    "To create a galaxy object, the data must be entered with units. Masses in M⊙, positions in kpc, velocities in km/s and potential energy in (km/s)^2.\n",
    "    \n",
    "Note that the potential energy we use here is an specific potential energy. For this we use the package units from astropy.\n",
    "    \n",
    "For more details, see the documentation.\n",
    "</div>"
   ]
  },
  {
   "cell_type": "markdown",
   "metadata": {},
   "source": [
    "## Load data manually\n",
    "This is a example of load a data from three differents files for each type of particle (star, gas and dark matter).\n",
    "\n",
    "Every file has information of mass, positions, and velocities for each particle.\n",
    "\n",
    "We load the data using the `mkgalaxy` function. (hacer link a la docu)\n",
    "This will generate an instance of the gchop.Galaxy class"
   ]
  },
  {
   "cell_type": "code",
   "execution_count": 167,
   "metadata": {},
   "outputs": [
    {
     "data": {
      "text/plain": [
       "<Galaxy stars=32067, dark_matter=21156, gas=4061, potential=False>"
      ]
     },
     "execution_count": 167,
     "metadata": {},
     "output_type": "execute_result"
    }
   ],
   "source": [
    "import numpy as np\n",
    "import galaxychop as gchop\n",
    "\n",
    "star = np.load(\"../../../tests/datasets/star_ID_394242.npy\")\n",
    "dark = np.load(\"../../../tests/datasets/dark_ID_394242.npy\")\n",
    "gas = np.load(\"../../../tests/datasets/gas_ID_394242.npy\")\n",
    "\n",
    "galaxy = gchop.mkgalaxy(m_s=star[:, 0],\n",
    "                        x_s=star[:, 1],\n",
    "                        y_s=star[:, 2],\n",
    "                        z_s=star[:, 3],\n",
    "                        vx_s=star[:, 4],\n",
    "                        vy_s=star[:, 5],\n",
    "                        vz_s=star[:, 6],\n",
    "                        m_dm=dark[:, 0], \n",
    "                        x_dm=dark[:, 1], \n",
    "                        y_dm=dark[:, 2], \n",
    "                        z_dm=dark[:, 3],\n",
    "                        vx_dm=dark[:, 4], \n",
    "                        vy_dm=dark[:, 5], \n",
    "                        vz_dm=dark[:, 6],\n",
    "                        m_g=gas[:, 0],\n",
    "                        x_g=gas[:, 1],\n",
    "                        y_g=gas[:, 2],\n",
    "                        z_g=gas[:, 3],\n",
    "                        vx_g=gas[:, 4],\n",
    "                        vy_g=gas[:, 5],\n",
    "                        vz_g=gas[:, 6])\n",
    "galaxy"
   ]
  },
  {
   "cell_type": "markdown",
   "metadata": {},
   "source": [
    "<div class=\"alert alert-info\">\n",
    "Nota: Specific potential energy\n",
    "    \n",
    "Files containing particle potentials can be included.\n",
    "</div>"
   ]
  },
  {
   "cell_type": "markdown",
   "metadata": {},
   "source": [
    "### Load Potential Energy\n",
    " - Load"
   ]
  },
  {
   "cell_type": "markdown",
   "metadata": {},
   "source": [
    "The specific potential energy for all particles can be load at the same time as the galaxy is instantiated.\n",
    "Particle potentials can be included as attributes of `mkgalaxy` function."
   ]
  },
  {
   "cell_type": "code",
   "execution_count": 168,
   "metadata": {},
   "outputs": [
    {
     "data": {
      "text/plain": [
       "<Galaxy stars=32067, dark_matter=21156, gas=4061, potential=True>"
      ]
     },
     "execution_count": 168,
     "metadata": {},
     "output_type": "execute_result"
    }
   ],
   "source": [
    "pot_star = np.load(\"../../../tests/datasets/potential_star_ID_394242.npy\")\n",
    "pot_dark = np.load(\"../../../tests/datasets/potential_dark_ID_394242.npy\")\n",
    "pot_gas = np.load(\"../../../tests/datasets/potential_gas_ID_394242.npy\")\n",
    "\n",
    "\n",
    "galpot = gchop.mkgalaxy(m_s=star[:, 0],\n",
    "                        x_s=star[:, 1],\n",
    "                        y_s=star[:, 2],\n",
    "                        z_s=star[:, 3],\n",
    "                        vx_s=star[:, 4],\n",
    "                        vy_s=star[:, 5],\n",
    "                        vz_s=star[:, 6],\n",
    "                        m_dm=dark[:, 0], \n",
    "                        x_dm=dark[:, 1], \n",
    "                        y_dm=dark[:, 2], \n",
    "                        z_dm=dark[:, 3],\n",
    "                        vx_dm=dark[:, 4], \n",
    "                        vy_dm=dark[:, 5], \n",
    "                        vz_dm=dark[:, 6],\n",
    "                        m_g=gas[:, 0],\n",
    "                        x_g=gas[:, 1],\n",
    "                        y_g=gas[:, 2],\n",
    "                        z_g=gas[:, 3],\n",
    "                        vx_g=gas[:, 4],\n",
    "                        vy_g=gas[:, 5],\n",
    "                        vz_g=gas[:, 6],\n",
    "                        potential_s=pot_star[:],\n",
    "                        potential_dm=pot_dark[:],\n",
    "                        potential_g=pot_gas[:])\n",
    "galpot"
   ]
  },
  {
   "cell_type": "code",
   "execution_count": 169,
   "metadata": {},
   "outputs": [
    {
     "data": {
      "text/plain": [
       "True"
      ]
     },
     "execution_count": 169,
     "metadata": {},
     "output_type": "execute_result"
    }
   ],
   "source": [
    "galpot.has_potential_"
   ]
  },
  {
   "cell_type": "code",
   "execution_count": 170,
   "metadata": {},
   "outputs": [
    {
     "data": {
      "text/plain": [
       "False"
      ]
     },
     "execution_count": 170,
     "metadata": {},
     "output_type": "execute_result"
    }
   ],
   "source": [
    "galaxy.has_potential_"
   ]
  },
  {
   "cell_type": "markdown",
   "metadata": {},
   "source": [
    " - Calculated"
   ]
  },
  {
   "cell_type": "raw",
   "metadata": {},
   "source": [
    "galaxy = gchop.preproc.potential(galaxy)"
   ]
  },
  {
   "cell_type": "markdown",
   "metadata": {},
   "source": [
    "### Convert data in HDF5 file"
   ]
  },
  {
   "cell_type": "markdown",
   "metadata": {},
   "source": [
    "Una vez que la galaxia fue instanciada, el paquete ofrece una funcion que permite generar un unico archivo hdf5 para luego leer e instanciar la galaxia falimente (link a reading hdf5).\n",
    "\n",
    "Function `to_hdf5` is responsible for storing a galaxy in HDF5 format."
   ]
  },
  {
   "cell_type": "code",
   "execution_count": 34,
   "metadata": {},
   "outputs": [],
   "source": [
    "gg=gchop.io.to_hdf5(\"../../../../newfile.h5\", galaxy)"
   ]
  },
  {
   "cell_type": "code",
   "execution_count": 35,
   "metadata": {},
   "outputs": [],
   "source": [
    "?gchop.io.to_hdf5"
   ]
  },
  {
   "cell_type": "markdown",
   "metadata": {},
   "source": [
    "## Reading the data from a \"npy\" file\n",
    "Using the above files, the galaxy can be loaded using a read function provided by the package: `read_npy` (link a la docu).\n",
    "\n",
    "This will generate an instance of the gchop.Galaxy class.\n",
    "\n",
    "To use this function are nessesary the paths to npy files and specify all column names in the file. "
   ]
  },
  {
   "cell_type": "code",
   "execution_count": 25,
   "metadata": {},
   "outputs": [],
   "source": [
    "?gchop.io.read_hdf5"
   ]
  },
  {
   "cell_type": "code",
   "execution_count": 21,
   "metadata": {},
   "outputs": [
    {
     "data": {
      "text/plain": [
       "<Galaxy stars=32067, dark_matter=21156, gas=4061, potential=False>"
      ]
     },
     "execution_count": 21,
     "metadata": {},
     "output_type": "execute_result"
    }
   ],
   "source": [
    "galaxy = gchop.io.read_npy(\"../../../tests/datasets/star_ID_394242.npy\",\n",
    "                           \"../../../tests/datasets/dark_ID_394242.npy\",\n",
    "                           \"../../../tests/datasets/gas_ID_394242.npy\", \n",
    "                           columns=[\"m\", \"x\", \"y\", \"z\", \"vx\", \"vy\", \"vz\", \"id\"])\n",
    "galaxy"
   ]
  },
  {
   "cell_type": "markdown",
   "metadata": {},
   "source": [
    "## Reading the data from a HDF file\n",
    "\n",
    "The galaxy can be loaded using a read function provided by the package: `read_hdf5` (link a la docu).\n",
    "The file HDF5 must have datasets with the names \"stars\", \"dark_matter\" and \"gas\"."
   ]
  },
  {
   "cell_type": "code",
   "execution_count": 100,
   "metadata": {},
   "outputs": [
    {
     "name": "stdout",
     "output_type": "stream",
     "text": [
      "dark_matter              Dataset {21156}\n",
      "gas                      Dataset {4061}\n",
      "stars                    Dataset {32067}\n",
      "HDF5 \"gal394242.h5\" {\n",
      "FILE_CONTENTS {\n",
      " group      /\n",
      " dataset    /dark_matter\n",
      " dataset    /gas\n",
      " dataset    /stars\n",
      " }\n",
      "}\n"
     ]
    }
   ],
   "source": [
    "!h5ls gal394242.h5\n",
    "!h5dump -n gal394242.h5"
   ]
  },
  {
   "cell_type": "code",
   "execution_count": 101,
   "metadata": {},
   "outputs": [
    {
     "data": {
      "text/plain": [
       "<Galaxy stars=32067, dark_matter=21156, gas=4061, potential=True>"
      ]
     },
     "execution_count": 101,
     "metadata": {},
     "output_type": "execute_result"
    }
   ],
   "source": [
    "galaxy = gchop.io.read_hdf5(\"gal394242.h5\")\n",
    "galaxy"
   ]
  },
  {
   "cell_type": "markdown",
   "metadata": {},
   "source": [
    "This generate an instance of the gchop.Galaxy class"
   ]
  },
  {
   "cell_type": "code",
   "execution_count": null,
   "metadata": {},
   "outputs": [],
   "source": []
  },
  {
   "cell_type": "markdown",
   "metadata": {},
   "source": [
    "The softening value can be included."
   ]
  },
  {
   "cell_type": "markdown",
   "metadata": {},
   "source": []
  },
  {
   "cell_type": "markdown",
   "metadata": {},
   "source": [
    "### Specific Potential Energy"
   ]
  },
  {
   "cell_type": "code",
   "execution_count": null,
   "metadata": {},
   "outputs": [],
   "source": []
  },
  {
   "cell_type": "markdown",
   "metadata": {},
   "source": [
    "gal.stars.softening"
   ]
  },
  {
   "cell_type": "markdown",
   "metadata": {},
   "source": [
    "<div class=\"alert alert-info\">\n",
    "Nota: Softening\n",
    "    \n",
    "The softening value can be included (defoult=0.0).\n",
    "</div>"
   ]
  },
  {
   "cell_type": "markdown",
   "metadata": {},
   "source": [
    "# Instance of the `gchop.Galaxy` class."
   ]
  },
  {
   "cell_type": "code",
   "execution_count": 123,
   "metadata": {},
   "outputs": [
    {
     "data": {
      "text/plain": [
       "<Galaxy stars=32067, dark_matter=21156, gas=4061, potential=True>"
      ]
     },
     "execution_count": 123,
     "metadata": {},
     "output_type": "execute_result"
    }
   ],
   "source": [
    "import galaxychop as gchop\n",
    "gal = gchop.io.read_hdf5(\"gal394242.h5\")\n",
    "gal"
   ]
  },
  {
   "cell_type": "markdown",
   "metadata": {},
   "source": [
    "### Attributes"
   ]
  },
  {
   "cell_type": "markdown",
   "metadata": {},
   "source": [
    "Galaxies internally consist of three sets of particles , one for stars, one for dark_matter and one for gas.\n",
    "\n",
    "All these sets can be accessed, and expose a set of physical properties for each particle:\n",
    "- position (x,y,z)\n",
    "- velocity (vx,vy,vz)\n",
    "- mass\n",
    "- potential y softening"
   ]
  },
  {
   "cell_type": "markdown",
   "metadata": {},
   "source": [
    "For example, if we wanted to access the positions (x, y, and z) of the stellar particles:"
   ]
  },
  {
   "cell_type": "code",
   "execution_count": 128,
   "metadata": {},
   "outputs": [
    {
     "data": {
      "text/plain": [
       "(<Quantity [ 0.12017286, -0.01992682, -0.09766993, ..., 15.06957949,\n",
       "            17.21394372,  9.28556454] kpc>,\n",
       " <Quantity [ 1.51520602e-03,  3.25905789e-02, -2.27875536e-02, ...,\n",
       "             4.52400820e+00, -1.96094867e-01,  1.15665035e+01] kpc>,\n",
       " <Quantity [-3.73908514e-02,  5.12012087e-03,  4.66359649e-02, ...,\n",
       "             1.15501605e+01, -1.40433638e+01,  7.57282498e+00] kpc>)"
      ]
     },
     "execution_count": 128,
     "metadata": {},
     "output_type": "execute_result"
    }
   ],
   "source": [
    "gal.stars.x, gal.stars.y, gal.stars.z"
   ]
  },
  {
   "cell_type": "markdown",
   "metadata": {},
   "source": [
    "It can be observed that the positions have units which can be bypassed using the `arr_ accessor`."
   ]
  },
  {
   "cell_type": "markdown",
   "metadata": {},
   "source": [
    "For example if we would like to access the gas masses (m) but without units:"
   ]
  },
  {
   "cell_type": "code",
   "execution_count": 131,
   "metadata": {},
   "outputs": [
    {
     "data": {
      "text/plain": [
       "array([2579202.70087197, 1368584.63520184, 1392260.60127839, ...,\n",
       "        990849.80320185, 1456959.43501778, 1760535.66974588])"
      ]
     },
     "execution_count": 131,
     "metadata": {},
     "output_type": "execute_result"
    }
   ],
   "source": [
    "gal.gas.arr_.m"
   ]
  },
  {
   "cell_type": "code",
   "execution_count": 162,
   "metadata": {},
   "outputs": [
    {
     "data": {
      "text/latex": [
       "$[-195699.62,~-196176.96,~-195152.12,~\\dots,~-105057.17,~-101280.16,~-111482.52] \\; \\mathrm{\\frac{km^{2}}{s^{2}}}$"
      ],
      "text/plain": [
       "<Quantity [-195699.62020621, -196176.96227715, -195152.12016824, ...,\n",
       "           -105057.17291735, -101280.15575698, -111482.51641398] km2 / s2>"
      ]
     },
     "execution_count": 162,
     "metadata": {},
     "output_type": "execute_result"
    }
   ],
   "source": [
    "gal.stars.potential"
   ]
  },
  {
   "cell_type": "code",
   "execution_count": 133,
   "metadata": {},
   "outputs": [
    {
     "data": {
      "text/plain": [
       "0.0"
      ]
     },
     "execution_count": 133,
     "metadata": {},
     "output_type": "execute_result"
    }
   ],
   "source": [
    "gal.stars.softening"
   ]
  },
  {
   "cell_type": "markdown",
   "metadata": {},
   "source": [
    "### Properties\n",
    "\n",
    "Once the data has been loaded and the galaxy has been created, this is an instantiated object of the `Galaxy class`. The galaxy object contains a series of physical properties for each particle:\n"
   ]
  },
  {
   "cell_type": "markdown",
   "metadata": {},
   "source": [
    "The galaxy instances have useful methods to summarize the data from the three particle sets such as:\n",
    " - Specific potential energy: gal.potential_energy_\n",
    " - Specific kinetical energy: gal.kinetic_energy_\n",
    " - Specific total energy: gal.total_energy_\n",
    " - Specific angular momentum: gal.angular_momentum_\n",
    " - Data Frame of all properties of all galaxy particles: gal.to_dataframe"
   ]
  },
  {
   "cell_type": "markdown",
   "metadata": {},
   "source": [
    "Cuanto cargamos la galaxia, automaticamente se calculan las energias y moemntos angulares.\n",
    "Los podemos ver bla bla.."
   ]
  },
  {
   "cell_type": "code",
   "execution_count": 111,
   "metadata": {},
   "outputs": [
    {
     "data": {
      "text/plain": [
       "((<Quantity [  290.29311099,   274.78291519,   193.69961166, ...,\n",
       "             77586.50211169, 84005.37330246, 98418.90008429] km2 / s2>,\n",
       "  <Quantity [   852.93881446,    352.11250177,    624.76341209, ...,\n",
       "              96858.46837754,  92196.00956268, 108865.99592875] km2 / s2>,\n",
       "  <Quantity [ 2635.95518371,  2705.79372566,  2861.71063971, ...,\n",
       "             34356.53984688, 46006.91390953, 58613.22415986] km2 / s2>),\n",
       " (<Quantity [-195699.62020621, -196176.96227715, -195152.12016824, ...,\n",
       "             -105057.17291735, -101280.15575698, -111482.51641398] km2 / s2>,\n",
       "  <Quantity [-194263.97464369, -193864.21447827, -193553.97933144, ...,\n",
       "             -102896.99665186,  -97464.72565143, -109420.64426509] km2 / s2>,\n",
       "  <Quantity [-189770.98821548, -189253.15479293, -189087.35939466, ...,\n",
       "             -132966.10262098, -132205.10676226, -127609.95554887] km2 / s2>),\n",
       " (<Quantity [-195409.32709522, -195902.17936196, -194958.42055658, ...,\n",
       "              -27470.67080566,  -17274.78245451,  -13063.61632969] km2 / s2>,\n",
       "  <Quantity [-193411.03582923, -193512.1019765 , -192929.21591935, ...,\n",
       "               -6038.52827432,   -5268.71608875,    -554.64833634] km2 / s2>,\n",
       "  <Quantity [-187135.03303177, -186547.36106727, -186225.64875495, ...,\n",
       "              -98609.5627741 ,  -86198.19285273,  -68996.73138901] km2 / s2>))"
      ]
     },
     "execution_count": 111,
     "metadata": {},
     "output_type": "execute_result"
    }
   ],
   "source": [
    "gal.kinetic_energy_, gal.potential_energy_, gal.total_energy_"
   ]
  },
  {
   "cell_type": "code",
   "execution_count": 112,
   "metadata": {},
   "outputs": [
    {
     "data": {
      "text/plain": [
       "(<Quantity [[-2.88156850e-01, -3.03363713e-01, -7.79147710e-02, ...,\n",
       "              2.48736681e+03,  2.97736815e+03, -2.84906599e+03],\n",
       "            [ 2.05174564e+00, -5.45202103e-02, -1.75146144e+00, ...,\n",
       "             -8.54643494e+02,  7.43903994e+03,  5.07802536e+03],\n",
       "            [-8.42982046e-01, -8.33618731e-01, -1.01898720e+00, ...,\n",
       "             -2.91053597e+03,  3.54569539e+03, -4.26258525e+03]] km kpc / s>,\n",
       " <Quantity [[ 2.34709420e+00, -4.94097528e+00,  3.77436572e+00, ...,\n",
       "              5.39453478e+03,  1.40042593e+03,  6.72572808e+03],\n",
       "            [-9.62469259e-01, -2.37170124e+00, -4.74950939e+00, ...,\n",
       "             -7.25121704e+03, -6.40603761e+03, -3.23199926e+03],\n",
       "            [ 7.83975536e+00, -1.90612984e+00,  5.16117519e+00, ...,\n",
       "              2.63450603e+03, -6.35649599e+03, -3.41031955e+03]] km kpc / s>,\n",
       " <Quantity [[ -18.87261051,  -30.83281637,   -2.82274674, ...,\n",
       "             -335.26257476,  391.93947927,  494.97120016],\n",
       "            [  12.30423471,    9.91757106,   18.72167121, ...,\n",
       "             1790.36108489,  697.04388524,  754.61308984],\n",
       "            [ -12.06413682,   -7.77819371,  -18.14063367, ...,\n",
       "             -665.1584195 , -394.18600182, -264.91745659]] km kpc / s>)"
      ]
     },
     "execution_count": 112,
     "metadata": {},
     "output_type": "execute_result"
    }
   ],
   "source": [
    " gal.angular_momentum_"
   ]
  },
  {
   "cell_type": "code",
   "execution_count": null,
   "metadata": {},
   "outputs": [],
   "source": []
  },
  {
   "cell_type": "markdown",
   "metadata": {},
   "source": [
    "Todos estos metodos sirven para representar la galaxia. Lo podemos ver en formato data frame blablabla\n",
    "visualizing the particle data "
   ]
  },
  {
   "cell_type": "code",
   "execution_count": 7,
   "metadata": {},
   "outputs": [
    {
     "data": {
      "text/html": [
       "<div>\n",
       "<style scoped>\n",
       "    .dataframe tbody tr th:only-of-type {\n",
       "        vertical-align: middle;\n",
       "    }\n",
       "\n",
       "    .dataframe tbody tr th {\n",
       "        vertical-align: top;\n",
       "    }\n",
       "\n",
       "    .dataframe thead th {\n",
       "        text-align: right;\n",
       "    }\n",
       "</style>\n",
       "<table border=\"1\" class=\"dataframe\">\n",
       "  <thead>\n",
       "    <tr style=\"text-align: right;\">\n",
       "      <th></th>\n",
       "      <th>ptype</th>\n",
       "      <th>ptypev</th>\n",
       "      <th>m</th>\n",
       "      <th>x</th>\n",
       "      <th>y</th>\n",
       "      <th>z</th>\n",
       "      <th>vx</th>\n",
       "      <th>vy</th>\n",
       "      <th>vz</th>\n",
       "      <th>softening</th>\n",
       "      <th>potential</th>\n",
       "      <th>kinetic_energy</th>\n",
       "      <th>total_energy</th>\n",
       "      <th>Jx</th>\n",
       "      <th>Jy</th>\n",
       "      <th>Jz</th>\n",
       "    </tr>\n",
       "  </thead>\n",
       "  <tbody>\n",
       "    <tr>\n",
       "      <th>0</th>\n",
       "      <td>stars</td>\n",
       "      <td>0</td>\n",
       "      <td>5.224283e+05</td>\n",
       "      <td>0.120173</td>\n",
       "      <td>0.001515</td>\n",
       "      <td>-0.037391</td>\n",
       "      <td>10.773575</td>\n",
       "      <td>-6.878906</td>\n",
       "      <td>-20.425400</td>\n",
       "      <td>0.0</td>\n",
       "      <td>-195699.620206</td>\n",
       "      <td>290.293111</td>\n",
       "      <td>-195409.327095</td>\n",
       "      <td>-0.288157</td>\n",
       "      <td>2.051746</td>\n",
       "      <td>-0.842982</td>\n",
       "    </tr>\n",
       "    <tr>\n",
       "      <th>1</th>\n",
       "      <td>stars</td>\n",
       "      <td>0</td>\n",
       "      <td>9.745897e+05</td>\n",
       "      <td>-0.019927</td>\n",
       "      <td>0.032591</td>\n",
       "      <td>0.005120</td>\n",
       "      <td>20.282349</td>\n",
       "      <td>8.661957</td>\n",
       "      <td>-7.947495</td>\n",
       "      <td>0.0</td>\n",
       "      <td>-196176.962277</td>\n",
       "      <td>274.782915</td>\n",
       "      <td>-195902.179362</td>\n",
       "      <td>-0.303364</td>\n",
       "      <td>-0.054520</td>\n",
       "      <td>-0.833619</td>\n",
       "    </tr>\n",
       "    <tr>\n",
       "      <th>2</th>\n",
       "      <td>stars</td>\n",
       "      <td>0</td>\n",
       "      <td>6.935776e+05</td>\n",
       "      <td>-0.097670</td>\n",
       "      <td>-0.022788</td>\n",
       "      <td>0.046636</td>\n",
       "      <td>-14.897980</td>\n",
       "      <td>6.957092</td>\n",
       "      <td>-10.818886</td>\n",
       "      <td>0.0</td>\n",
       "      <td>-195152.120168</td>\n",
       "      <td>193.699612</td>\n",
       "      <td>-194958.420557</td>\n",
       "      <td>-0.077915</td>\n",
       "      <td>-1.751461</td>\n",
       "      <td>-1.018987</td>\n",
       "    </tr>\n",
       "    <tr>\n",
       "      <th>3</th>\n",
       "      <td>stars</td>\n",
       "      <td>0</td>\n",
       "      <td>1.070959e+06</td>\n",
       "      <td>-0.007224</td>\n",
       "      <td>-0.138971</td>\n",
       "      <td>0.176169</td>\n",
       "      <td>-8.665253</td>\n",
       "      <td>-4.337433</td>\n",
       "      <td>5.506927</td>\n",
       "      <td>0.0</td>\n",
       "      <td>-194695.767625</td>\n",
       "      <td>62.113089</td>\n",
       "      <td>-194633.654536</td>\n",
       "      <td>-0.001182</td>\n",
       "      <td>-1.486768</td>\n",
       "      <td>-1.172886</td>\n",
       "    </tr>\n",
       "    <tr>\n",
       "      <th>4</th>\n",
       "      <td>stars</td>\n",
       "      <td>0</td>\n",
       "      <td>6.013803e+05</td>\n",
       "      <td>0.095277</td>\n",
       "      <td>0.001167</td>\n",
       "      <td>0.100484</td>\n",
       "      <td>23.508469</td>\n",
       "      <td>-7.842865</td>\n",
       "      <td>-3.754723</td>\n",
       "      <td>0.0</td>\n",
       "      <td>-195703.942688</td>\n",
       "      <td>314.128285</td>\n",
       "      <td>-195389.814402</td>\n",
       "      <td>0.783702</td>\n",
       "      <td>2.719973</td>\n",
       "      <td>-0.774688</td>\n",
       "    </tr>\n",
       "    <tr>\n",
       "      <th>...</th>\n",
       "      <td>...</td>\n",
       "      <td>...</td>\n",
       "      <td>...</td>\n",
       "      <td>...</td>\n",
       "      <td>...</td>\n",
       "      <td>...</td>\n",
       "      <td>...</td>\n",
       "      <td>...</td>\n",
       "      <td>...</td>\n",
       "      <td>...</td>\n",
       "      <td>...</td>\n",
       "      <td>...</td>\n",
       "      <td>...</td>\n",
       "      <td>...</td>\n",
       "      <td>...</td>\n",
       "      <td>...</td>\n",
       "    </tr>\n",
       "    <tr>\n",
       "      <th>57279</th>\n",
       "      <td>gas</td>\n",
       "      <td>2</td>\n",
       "      <td>1.400046e+06</td>\n",
       "      <td>2.415113</td>\n",
       "      <td>-8.443658</td>\n",
       "      <td>-0.427454</td>\n",
       "      <td>117.975723</td>\n",
       "      <td>-243.209320</td>\n",
       "      <td>31.390686</td>\n",
       "      <td>0.0</td>\n",
       "      <td>-129252.826165</td>\n",
       "      <td>37027.209909</td>\n",
       "      <td>-92225.616256</td>\n",
       "      <td>-369.012963</td>\n",
       "      <td>-126.241204</td>\n",
       "      <td>408.768823</td>\n",
       "    </tr>\n",
       "    <tr>\n",
       "      <th>57280</th>\n",
       "      <td>gas</td>\n",
       "      <td>2</td>\n",
       "      <td>1.375867e+06</td>\n",
       "      <td>-4.756847</td>\n",
       "      <td>5.970680</td>\n",
       "      <td>-4.109694</td>\n",
       "      <td>-136.718105</td>\n",
       "      <td>232.501099</td>\n",
       "      <td>-56.024063</td>\n",
       "      <td>0.0</td>\n",
       "      <td>-129835.893336</td>\n",
       "      <td>37943.648417</td>\n",
       "      <td>-91892.244919</td>\n",
       "      <td>621.006707</td>\n",
       "      <td>295.371727</td>\n",
       "      <td>-289.672123</td>\n",
       "    </tr>\n",
       "    <tr>\n",
       "      <th>57281</th>\n",
       "      <td>gas</td>\n",
       "      <td>2</td>\n",
       "      <td>9.908498e+05</td>\n",
       "      <td>-9.376904</td>\n",
       "      <td>-1.965296</td>\n",
       "      <td>-0.563573</td>\n",
       "      <td>-188.311616</td>\n",
       "      <td>31.467773</td>\n",
       "      <td>179.615128</td>\n",
       "      <td>0.0</td>\n",
       "      <td>-132966.102621</td>\n",
       "      <td>34356.539847</td>\n",
       "      <td>-98609.562774</td>\n",
       "      <td>-335.262575</td>\n",
       "      <td>1790.361085</td>\n",
       "      <td>-665.158420</td>\n",
       "    </tr>\n",
       "    <tr>\n",
       "      <th>57282</th>\n",
       "      <td>gas</td>\n",
       "      <td>2</td>\n",
       "      <td>1.456959e+06</td>\n",
       "      <td>-6.880090</td>\n",
       "      <td>0.314529</td>\n",
       "      <td>-6.284694</td>\n",
       "      <td>-261.390251</td>\n",
       "      <td>69.243408</td>\n",
       "      <td>-137.456593</td>\n",
       "      <td>0.0</td>\n",
       "      <td>-132205.106762</td>\n",
       "      <td>46006.913910</td>\n",
       "      <td>-86198.192853</td>\n",
       "      <td>391.939479</td>\n",
       "      <td>697.043885</td>\n",
       "      <td>-394.186002</td>\n",
       "    </tr>\n",
       "    <tr>\n",
       "      <th>57283</th>\n",
       "      <td>gas</td>\n",
       "      <td>2</td>\n",
       "      <td>1.760536e+06</td>\n",
       "      <td>-7.371887</td>\n",
       "      <td>2.670409</td>\n",
       "      <td>-6.167000</td>\n",
       "      <td>-282.899384</td>\n",
       "      <td>138.414307</td>\n",
       "      <td>-134.297680</td>\n",
       "      <td>0.0</td>\n",
       "      <td>-127609.955549</td>\n",
       "      <td>58613.224160</td>\n",
       "      <td>-68996.731389</td>\n",
       "      <td>494.971200</td>\n",
       "      <td>754.613090</td>\n",
       "      <td>-264.917457</td>\n",
       "    </tr>\n",
       "  </tbody>\n",
       "</table>\n",
       "<p>57284 rows × 16 columns</p>\n",
       "</div>"
      ],
      "text/plain": [
       "       ptype  ptypev             m         x         y         z          vx  \\\n",
       "0      stars       0  5.224283e+05  0.120173  0.001515 -0.037391   10.773575   \n",
       "1      stars       0  9.745897e+05 -0.019927  0.032591  0.005120   20.282349   \n",
       "2      stars       0  6.935776e+05 -0.097670 -0.022788  0.046636  -14.897980   \n",
       "3      stars       0  1.070959e+06 -0.007224 -0.138971  0.176169   -8.665253   \n",
       "4      stars       0  6.013803e+05  0.095277  0.001167  0.100484   23.508469   \n",
       "...      ...     ...           ...       ...       ...       ...         ...   \n",
       "57279    gas       2  1.400046e+06  2.415113 -8.443658 -0.427454  117.975723   \n",
       "57280    gas       2  1.375867e+06 -4.756847  5.970680 -4.109694 -136.718105   \n",
       "57281    gas       2  9.908498e+05 -9.376904 -1.965296 -0.563573 -188.311616   \n",
       "57282    gas       2  1.456959e+06 -6.880090  0.314529 -6.284694 -261.390251   \n",
       "57283    gas       2  1.760536e+06 -7.371887  2.670409 -6.167000 -282.899384   \n",
       "\n",
       "               vy          vz  softening      potential  kinetic_energy  \\\n",
       "0       -6.878906  -20.425400        0.0 -195699.620206      290.293111   \n",
       "1        8.661957   -7.947495        0.0 -196176.962277      274.782915   \n",
       "2        6.957092  -10.818886        0.0 -195152.120168      193.699612   \n",
       "3       -4.337433    5.506927        0.0 -194695.767625       62.113089   \n",
       "4       -7.842865   -3.754723        0.0 -195703.942688      314.128285   \n",
       "...           ...         ...        ...            ...             ...   \n",
       "57279 -243.209320   31.390686        0.0 -129252.826165    37027.209909   \n",
       "57280  232.501099  -56.024063        0.0 -129835.893336    37943.648417   \n",
       "57281   31.467773  179.615128        0.0 -132966.102621    34356.539847   \n",
       "57282   69.243408 -137.456593        0.0 -132205.106762    46006.913910   \n",
       "57283  138.414307 -134.297680        0.0 -127609.955549    58613.224160   \n",
       "\n",
       "        total_energy          Jx           Jy          Jz  \n",
       "0     -195409.327095   -0.288157     2.051746   -0.842982  \n",
       "1     -195902.179362   -0.303364    -0.054520   -0.833619  \n",
       "2     -194958.420557   -0.077915    -1.751461   -1.018987  \n",
       "3     -194633.654536   -0.001182    -1.486768   -1.172886  \n",
       "4     -195389.814402    0.783702     2.719973   -0.774688  \n",
       "...              ...         ...          ...         ...  \n",
       "57279  -92225.616256 -369.012963  -126.241204  408.768823  \n",
       "57280  -91892.244919  621.006707   295.371727 -289.672123  \n",
       "57281  -98609.562774 -335.262575  1790.361085 -665.158420  \n",
       "57282  -86198.192853  391.939479   697.043885 -394.186002  \n",
       "57283  -68996.731389  494.971200   754.613090 -264.917457  \n",
       "\n",
       "[57284 rows x 16 columns]"
      ]
     },
     "execution_count": 7,
     "metadata": {},
     "output_type": "execute_result"
    }
   ],
   "source": [
    "gal.to_dataframe()"
   ]
  },
  {
   "cell_type": "code",
   "execution_count": 135,
   "metadata": {},
   "outputs": [
    {
     "data": {
      "text/html": [
       "<div>\n",
       "<style scoped>\n",
       "    .dataframe tbody tr th:only-of-type {\n",
       "        vertical-align: middle;\n",
       "    }\n",
       "\n",
       "    .dataframe tbody tr th {\n",
       "        vertical-align: top;\n",
       "    }\n",
       "\n",
       "    .dataframe thead th {\n",
       "        text-align: right;\n",
       "    }\n",
       "</style>\n",
       "<table border=\"1\" class=\"dataframe\">\n",
       "  <thead>\n",
       "    <tr style=\"text-align: right;\">\n",
       "      <th></th>\n",
       "      <th>ptype</th>\n",
       "      <th>ptypev</th>\n",
       "      <th>m</th>\n",
       "      <th>x</th>\n",
       "      <th>y</th>\n",
       "      <th>z</th>\n",
       "      <th>vx</th>\n",
       "      <th>vy</th>\n",
       "      <th>vz</th>\n",
       "      <th>softening</th>\n",
       "      <th>potential</th>\n",
       "      <th>kinetic_energy</th>\n",
       "      <th>total_energy</th>\n",
       "      <th>Jx</th>\n",
       "      <th>Jy</th>\n",
       "      <th>Jz</th>\n",
       "    </tr>\n",
       "  </thead>\n",
       "  <tbody>\n",
       "    <tr>\n",
       "      <th>0</th>\n",
       "      <td>gas</td>\n",
       "      <td>2</td>\n",
       "      <td>2.579203e+06</td>\n",
       "      <td>0.255179</td>\n",
       "      <td>-0.317399</td>\n",
       "      <td>-0.722907</td>\n",
       "      <td>1.739517</td>\n",
       "      <td>-49.440781</td>\n",
       "      <td>-53.145966</td>\n",
       "      <td>0.0</td>\n",
       "      <td>-189770.988215</td>\n",
       "      <td>2635.955184</td>\n",
       "      <td>-187135.033032</td>\n",
       "      <td>-18.872611</td>\n",
       "      <td>12.304235</td>\n",
       "      <td>-12.064137</td>\n",
       "    </tr>\n",
       "    <tr>\n",
       "      <th>1</th>\n",
       "      <td>gas</td>\n",
       "      <td>2</td>\n",
       "      <td>1.368585e+06</td>\n",
       "      <td>0.144436</td>\n",
       "      <td>-0.273204</td>\n",
       "      <td>-0.920894</td>\n",
       "      <td>-2.254318</td>\n",
       "      <td>-49.588120</td>\n",
       "      <td>-54.291103</td>\n",
       "      <td>0.0</td>\n",
       "      <td>-189253.154793</td>\n",
       "      <td>2705.793726</td>\n",
       "      <td>-186547.361067</td>\n",
       "      <td>-30.832816</td>\n",
       "      <td>9.917571</td>\n",
       "      <td>-7.778194</td>\n",
       "    </tr>\n",
       "    <tr>\n",
       "      <th>2</th>\n",
       "      <td>gas</td>\n",
       "      <td>2</td>\n",
       "      <td>1.392261e+06</td>\n",
       "      <td>0.436985</td>\n",
       "      <td>-0.442400</td>\n",
       "      <td>-0.524567</td>\n",
       "      <td>9.799744</td>\n",
       "      <td>-51.434387</td>\n",
       "      <td>-54.606686</td>\n",
       "      <td>0.0</td>\n",
       "      <td>-189087.359395</td>\n",
       "      <td>2861.710640</td>\n",
       "      <td>-186225.648755</td>\n",
       "      <td>-2.822747</td>\n",
       "      <td>18.721671</td>\n",
       "      <td>-18.140634</td>\n",
       "    </tr>\n",
       "    <tr>\n",
       "      <th>3</th>\n",
       "      <td>gas</td>\n",
       "      <td>2</td>\n",
       "      <td>1.548436e+06</td>\n",
       "      <td>0.070196</td>\n",
       "      <td>-0.149943</td>\n",
       "      <td>-0.991583</td>\n",
       "      <td>6.844009</td>\n",
       "      <td>-41.484070</td>\n",
       "      <td>-62.540501</td>\n",
       "      <td>0.0</td>\n",
       "      <td>-189119.151755</td>\n",
       "      <td>2839.541367</td>\n",
       "      <td>-186279.610388</td>\n",
       "      <td>-31.757357</td>\n",
       "      <td>-2.396288</td>\n",
       "      <td>-1.885816</td>\n",
       "    </tr>\n",
       "    <tr>\n",
       "      <th>4</th>\n",
       "      <td>gas</td>\n",
       "      <td>2</td>\n",
       "      <td>1.936515e+06</td>\n",
       "      <td>0.458794</td>\n",
       "      <td>-0.134292</td>\n",
       "      <td>-0.716227</td>\n",
       "      <td>-18.536072</td>\n",
       "      <td>-52.246674</td>\n",
       "      <td>-51.899296</td>\n",
       "      <td>0.0</td>\n",
       "      <td>-189389.528067</td>\n",
       "      <td>2883.418881</td>\n",
       "      <td>-186506.109186</td>\n",
       "      <td>-30.450792</td>\n",
       "      <td>37.087136</td>\n",
       "      <td>-26.459731</td>\n",
       "    </tr>\n",
       "    <tr>\n",
       "      <th>...</th>\n",
       "      <td>...</td>\n",
       "      <td>...</td>\n",
       "      <td>...</td>\n",
       "      <td>...</td>\n",
       "      <td>...</td>\n",
       "      <td>...</td>\n",
       "      <td>...</td>\n",
       "      <td>...</td>\n",
       "      <td>...</td>\n",
       "      <td>...</td>\n",
       "      <td>...</td>\n",
       "      <td>...</td>\n",
       "      <td>...</td>\n",
       "      <td>...</td>\n",
       "      <td>...</td>\n",
       "      <td>...</td>\n",
       "    </tr>\n",
       "    <tr>\n",
       "      <th>4056</th>\n",
       "      <td>gas</td>\n",
       "      <td>2</td>\n",
       "      <td>1.400046e+06</td>\n",
       "      <td>2.415113</td>\n",
       "      <td>-8.443658</td>\n",
       "      <td>-0.427454</td>\n",
       "      <td>117.975723</td>\n",
       "      <td>-243.209320</td>\n",
       "      <td>31.390686</td>\n",
       "      <td>0.0</td>\n",
       "      <td>-129252.826165</td>\n",
       "      <td>37027.209909</td>\n",
       "      <td>-92225.616256</td>\n",
       "      <td>-369.012963</td>\n",
       "      <td>-126.241204</td>\n",
       "      <td>408.768823</td>\n",
       "    </tr>\n",
       "    <tr>\n",
       "      <th>4057</th>\n",
       "      <td>gas</td>\n",
       "      <td>2</td>\n",
       "      <td>1.375867e+06</td>\n",
       "      <td>-4.756847</td>\n",
       "      <td>5.970680</td>\n",
       "      <td>-4.109694</td>\n",
       "      <td>-136.718105</td>\n",
       "      <td>232.501099</td>\n",
       "      <td>-56.024063</td>\n",
       "      <td>0.0</td>\n",
       "      <td>-129835.893336</td>\n",
       "      <td>37943.648417</td>\n",
       "      <td>-91892.244919</td>\n",
       "      <td>621.006707</td>\n",
       "      <td>295.371727</td>\n",
       "      <td>-289.672123</td>\n",
       "    </tr>\n",
       "    <tr>\n",
       "      <th>4058</th>\n",
       "      <td>gas</td>\n",
       "      <td>2</td>\n",
       "      <td>9.908498e+05</td>\n",
       "      <td>-9.376904</td>\n",
       "      <td>-1.965296</td>\n",
       "      <td>-0.563573</td>\n",
       "      <td>-188.311616</td>\n",
       "      <td>31.467773</td>\n",
       "      <td>179.615128</td>\n",
       "      <td>0.0</td>\n",
       "      <td>-132966.102621</td>\n",
       "      <td>34356.539847</td>\n",
       "      <td>-98609.562774</td>\n",
       "      <td>-335.262575</td>\n",
       "      <td>1790.361085</td>\n",
       "      <td>-665.158420</td>\n",
       "    </tr>\n",
       "    <tr>\n",
       "      <th>4059</th>\n",
       "      <td>gas</td>\n",
       "      <td>2</td>\n",
       "      <td>1.456959e+06</td>\n",
       "      <td>-6.880090</td>\n",
       "      <td>0.314529</td>\n",
       "      <td>-6.284694</td>\n",
       "      <td>-261.390251</td>\n",
       "      <td>69.243408</td>\n",
       "      <td>-137.456593</td>\n",
       "      <td>0.0</td>\n",
       "      <td>-132205.106762</td>\n",
       "      <td>46006.913910</td>\n",
       "      <td>-86198.192853</td>\n",
       "      <td>391.939479</td>\n",
       "      <td>697.043885</td>\n",
       "      <td>-394.186002</td>\n",
       "    </tr>\n",
       "    <tr>\n",
       "      <th>4060</th>\n",
       "      <td>gas</td>\n",
       "      <td>2</td>\n",
       "      <td>1.760536e+06</td>\n",
       "      <td>-7.371887</td>\n",
       "      <td>2.670409</td>\n",
       "      <td>-6.167000</td>\n",
       "      <td>-282.899384</td>\n",
       "      <td>138.414307</td>\n",
       "      <td>-134.297680</td>\n",
       "      <td>0.0</td>\n",
       "      <td>-127609.955549</td>\n",
       "      <td>58613.224160</td>\n",
       "      <td>-68996.731389</td>\n",
       "      <td>494.971200</td>\n",
       "      <td>754.613090</td>\n",
       "      <td>-264.917457</td>\n",
       "    </tr>\n",
       "  </tbody>\n",
       "</table>\n",
       "<p>4061 rows × 16 columns</p>\n",
       "</div>"
      ],
      "text/plain": [
       "     ptype  ptypev             m         x         y         z          vx  \\\n",
       "0      gas       2  2.579203e+06  0.255179 -0.317399 -0.722907    1.739517   \n",
       "1      gas       2  1.368585e+06  0.144436 -0.273204 -0.920894   -2.254318   \n",
       "2      gas       2  1.392261e+06  0.436985 -0.442400 -0.524567    9.799744   \n",
       "3      gas       2  1.548436e+06  0.070196 -0.149943 -0.991583    6.844009   \n",
       "4      gas       2  1.936515e+06  0.458794 -0.134292 -0.716227  -18.536072   \n",
       "...    ...     ...           ...       ...       ...       ...         ...   \n",
       "4056   gas       2  1.400046e+06  2.415113 -8.443658 -0.427454  117.975723   \n",
       "4057   gas       2  1.375867e+06 -4.756847  5.970680 -4.109694 -136.718105   \n",
       "4058   gas       2  9.908498e+05 -9.376904 -1.965296 -0.563573 -188.311616   \n",
       "4059   gas       2  1.456959e+06 -6.880090  0.314529 -6.284694 -261.390251   \n",
       "4060   gas       2  1.760536e+06 -7.371887  2.670409 -6.167000 -282.899384   \n",
       "\n",
       "              vy          vz  softening      potential  kinetic_energy  \\\n",
       "0     -49.440781  -53.145966        0.0 -189770.988215     2635.955184   \n",
       "1     -49.588120  -54.291103        0.0 -189253.154793     2705.793726   \n",
       "2     -51.434387  -54.606686        0.0 -189087.359395     2861.710640   \n",
       "3     -41.484070  -62.540501        0.0 -189119.151755     2839.541367   \n",
       "4     -52.246674  -51.899296        0.0 -189389.528067     2883.418881   \n",
       "...          ...         ...        ...            ...             ...   \n",
       "4056 -243.209320   31.390686        0.0 -129252.826165    37027.209909   \n",
       "4057  232.501099  -56.024063        0.0 -129835.893336    37943.648417   \n",
       "4058   31.467773  179.615128        0.0 -132966.102621    34356.539847   \n",
       "4059   69.243408 -137.456593        0.0 -132205.106762    46006.913910   \n",
       "4060  138.414307 -134.297680        0.0 -127609.955549    58613.224160   \n",
       "\n",
       "       total_energy          Jx           Jy          Jz  \n",
       "0    -187135.033032  -18.872611    12.304235  -12.064137  \n",
       "1    -186547.361067  -30.832816     9.917571   -7.778194  \n",
       "2    -186225.648755   -2.822747    18.721671  -18.140634  \n",
       "3    -186279.610388  -31.757357    -2.396288   -1.885816  \n",
       "4    -186506.109186  -30.450792    37.087136  -26.459731  \n",
       "...             ...         ...          ...         ...  \n",
       "4056  -92225.616256 -369.012963  -126.241204  408.768823  \n",
       "4057  -91892.244919  621.006707   295.371727 -289.672123  \n",
       "4058  -98609.562774 -335.262575  1790.361085 -665.158420  \n",
       "4059  -86198.192853  391.939479   697.043885 -394.186002  \n",
       "4060  -68996.731389  494.971200   754.613090 -264.917457  \n",
       "\n",
       "[4061 rows x 16 columns]"
      ]
     },
     "execution_count": 135,
     "metadata": {},
     "output_type": "execute_result"
    }
   ],
   "source": [
    "gal.gas.to_dataframe()"
   ]
  },
  {
   "cell_type": "markdown",
   "metadata": {},
   "source": [
    "## Pre-processing methods and decomposition models"
   ]
  },
  {
   "cell_type": "markdown",
   "metadata": {},
   "source": [
    "\n",
    "Useful methods for pre-processing the galaxy, xxxx, and displaying the galaxy:\n",
    "\n",
    " - Center funtion\n",
    " - Star align function\n",
    " - Circular angular momentum function\n",
    " - Plotting"
   ]
  },
  {
   "cell_type": "code",
   "execution_count": null,
   "metadata": {},
   "outputs": [],
   "source": []
  }
 ],
 "metadata": {
  "kernelspec": {
   "display_name": "Python 3",
   "language": "python",
   "name": "python3"
  },
  "language_info": {
   "codemirror_mode": {
    "name": "ipython",
    "version": 3
   },
   "file_extension": ".py",
   "mimetype": "text/x-python",
   "name": "python",
   "nbconvert_exporter": "python",
   "pygments_lexer": "ipython3",
   "version": "3.8.0"
  },
  "toc": {
   "base_numbering": 1,
   "nav_menu": {},
   "number_sections": true,
   "sideBar": true,
   "skip_h1_title": false,
   "title_cell": "Table of Contents",
   "title_sidebar": "Contents",
   "toc_cell": false,
   "toc_position": {
    "height": "calc(100% - 180px)",
    "left": "10px",
    "top": "150px",
    "width": "173.188px"
   },
   "toc_section_display": true,
   "toc_window_display": true
  },
  "varInspector": {
   "cols": {
    "lenName": 16,
    "lenType": 16,
    "lenVar": 40
   },
   "kernels_config": {
    "python": {
     "delete_cmd_postfix": "",
     "delete_cmd_prefix": "del ",
     "library": "var_list.py",
     "varRefreshCmd": "print(var_dic_list())"
    },
    "r": {
     "delete_cmd_postfix": ") ",
     "delete_cmd_prefix": "rm(",
     "library": "var_list.r",
     "varRefreshCmd": "cat(var_dic_list()) "
    }
   },
   "types_to_exclude": [
    "module",
    "function",
    "builtin_function_or_method",
    "instance",
    "_Feature"
   ],
   "window_display": false
  }
 },
 "nbformat": 4,
 "nbformat_minor": 2
}
