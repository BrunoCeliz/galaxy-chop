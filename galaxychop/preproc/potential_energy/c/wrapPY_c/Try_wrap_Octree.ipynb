{
 "cells": [
  {
   "cell_type": "markdown",
   "id": "c208541d-08a1-41d0-b609-172a2f90884f",
   "metadata": {
    "tags": []
   },
   "source": [
    "## Hago acá para jugar un poco. ¿Cómo hago para implementar el Octree de C en Python?\n",
    "\n",
    "### - Wrap para Python en el .c -> ¿Numpy?\n",
    "### - Cython (sea como .pxd + .pyx o de otra forma)\n",
    "### - Cythonize todo el código\n",
    "### - ¿Otra herramienta?"
   ]
  },
  {
   "cell_type": "markdown",
   "id": "c6f0f06a-b16b-4a22-8d02-20546dad3c33",
   "metadata": {},
   "source": [
    "Some docs: https://numpy.org/doc/stable/user/c-info.how-to-extend.html\n",
    "\n",
    "more examples: https://stackoverflow.com/questions/3046305/simple-wrapping-of-c-code-with-cython"
   ]
  },
  {
   "cell_type": "markdown",
   "id": "3bbedcca-0de7-42ad-a96f-5e692ac6b541",
   "metadata": {},
   "source": [
    "## Esto viene de https://llllllllll.github.io/c-extension-tutorial/building-and-importing.html"
   ]
  },
  {
   "cell_type": "code",
   "execution_count": 4,
   "id": "e9c1c7e8-ef21-42c5-b9d2-20c79320f687",
   "metadata": {
    "tags": []
   },
   "outputs": [
    {
     "name": "stdout",
     "output_type": "stream",
     "text": [
      "running build_ext\n",
      "building 'pot.pot' extension\n",
      "gcc -pthread -B /home/bceliz/anaconda3/compiler_compat -DNDEBUG -fwrapv -O2 -Wall -fPIC -O2 -isystem /home/bceliz/anaconda3/include -fPIC -O2 -isystem /home/bceliz/anaconda3/include -fPIC -I/home/bceliz/anaconda3/include/python3.11 -c potential_wrapped.c -o build/temp.linux-x86_64-cpython-311/potential_wrapped.o\n",
      "In file included from \u001b[01m\u001b[K/usr/include/numpy/ndarraytypes.h:1822\u001b[m\u001b[K,\n",
      "                 from \u001b[01m\u001b[K/usr/include/numpy/ndarrayobject.h:12\u001b[m\u001b[K,\n",
      "                 from \u001b[01m\u001b[K/usr/include/numpy/arrayobject.h:4\u001b[m\u001b[K,\n",
      "                 from \u001b[01m\u001b[Kpotential_wrapped.c:11\u001b[m\u001b[K:\n",
      "\u001b[01m\u001b[K/usr/include/numpy/npy_1_7_deprecated_api.h:17:2:\u001b[m\u001b[K \u001b[01;35m\u001b[Kwarning: \u001b[m\u001b[K#warning \"Using deprecated NumPy API, disable it with \" \"#define NPY_NO_DEPRECATED_API NPY_1_7_API_VERSION\" [\u001b[01;35m\u001b[K-Wcpp\u001b[m\u001b[K]\n",
      "   17 | #\u001b[01;35m\u001b[Kwarning\u001b[m\u001b[K \"Using deprecated NumPy API, disable it with \" \\\n",
      "      |  \u001b[01;35m\u001b[K^~~~~~~\u001b[m\u001b[K\n",
      "\u001b[01m\u001b[Kpotential_wrapped.c:\u001b[m\u001b[K In function ‘\u001b[01m\u001b[Kpypot\u001b[m\u001b[K’:\n",
      "\u001b[01m\u001b[Kpotential_wrapped.c:561:30:\u001b[m\u001b[K \u001b[01;35m\u001b[Kwarning: \u001b[m\u001b[Kpassing argument 1 of ‘\u001b[01m\u001b[KPyToCArray\u001b[m\u001b[K’ discards ‘\u001b[01m\u001b[Kconst\u001b[m\u001b[K’ qualifier from pointer target type [\u001b[01;35m\u001b[K-Wdiscarded-qualifiers\u001b[m\u001b[K]\n",
      "  561 |     float* c_mp = PyToCArray(\u001b[01;35m\u001b[Kmp\u001b[m\u001b[K);\n",
      "      |                              \u001b[01;35m\u001b[K^~\u001b[m\u001b[K\n",
      "\u001b[01m\u001b[Kpotential_wrapped.c:546:41:\u001b[m\u001b[K \u001b[01;36m\u001b[Knote: \u001b[m\u001b[Kexpected ‘\u001b[01m\u001b[KPyArrayObject *\u001b[m\u001b[K’ {aka ‘\u001b[01m\u001b[Kstruct tagPyArrayObject_fields *\u001b[m\u001b[K’} but argument is of type ‘\u001b[01m\u001b[Kconst PyArrayObject *\u001b[m\u001b[K’ {aka ‘\u001b[01m\u001b[Kconst struct tagPyArrayObject_fields *\u001b[m\u001b[K’}\n",
      "  546 | static float* PyToCArray(\u001b[01;36m\u001b[KPyArrayObject *pyArr\u001b[m\u001b[K) {\n",
      "      |                          \u001b[01;36m\u001b[K~~~~~~~~~~~~~~~^~~~~\u001b[m\u001b[K\n",
      "\u001b[01m\u001b[Kpotential_wrapped.c:562:29:\u001b[m\u001b[K \u001b[01;35m\u001b[Kwarning: \u001b[m\u001b[Kpassing argument 1 of ‘\u001b[01m\u001b[KPyToCArray\u001b[m\u001b[K’ discards ‘\u001b[01m\u001b[Kconst\u001b[m\u001b[K’ qualifier from pointer target type [\u001b[01;35m\u001b[K-Wdiscarded-qualifiers\u001b[m\u001b[K]\n",
      "  562 |     float* c_x = PyToCArray(\u001b[01;35m\u001b[Kx\u001b[m\u001b[K);\n",
      "      |                             \u001b[01;35m\u001b[K^\u001b[m\u001b[K\n",
      "\u001b[01m\u001b[Kpotential_wrapped.c:546:41:\u001b[m\u001b[K \u001b[01;36m\u001b[Knote: \u001b[m\u001b[Kexpected ‘\u001b[01m\u001b[KPyArrayObject *\u001b[m\u001b[K’ {aka ‘\u001b[01m\u001b[Kstruct tagPyArrayObject_fields *\u001b[m\u001b[K’} but argument is of type ‘\u001b[01m\u001b[Kconst PyArrayObject *\u001b[m\u001b[K’ {aka ‘\u001b[01m\u001b[Kconst struct tagPyArrayObject_fields *\u001b[m\u001b[K’}\n",
      "  546 | static float* PyToCArray(\u001b[01;36m\u001b[KPyArrayObject *pyArr\u001b[m\u001b[K) {\n",
      "      |                          \u001b[01;36m\u001b[K~~~~~~~~~~~~~~~^~~~~\u001b[m\u001b[K\n",
      "\u001b[01m\u001b[Kpotential_wrapped.c:563:29:\u001b[m\u001b[K \u001b[01;35m\u001b[Kwarning: \u001b[m\u001b[Kpassing argument 1 of ‘\u001b[01m\u001b[KPyToCArray\u001b[m\u001b[K’ discards ‘\u001b[01m\u001b[Kconst\u001b[m\u001b[K’ qualifier from pointer target type [\u001b[01;35m\u001b[K-Wdiscarded-qualifiers\u001b[m\u001b[K]\n",
      "  563 |     float* c_y = PyToCArray(\u001b[01;35m\u001b[Ky\u001b[m\u001b[K);\n",
      "      |                             \u001b[01;35m\u001b[K^\u001b[m\u001b[K\n",
      "\u001b[01m\u001b[Kpotential_wrapped.c:546:41:\u001b[m\u001b[K \u001b[01;36m\u001b[Knote: \u001b[m\u001b[Kexpected ‘\u001b[01m\u001b[KPyArrayObject *\u001b[m\u001b[K’ {aka ‘\u001b[01m\u001b[Kstruct tagPyArrayObject_fields *\u001b[m\u001b[K’} but argument is of type ‘\u001b[01m\u001b[Kconst PyArrayObject *\u001b[m\u001b[K’ {aka ‘\u001b[01m\u001b[Kconst struct tagPyArrayObject_fields *\u001b[m\u001b[K’}\n",
      "  546 | static float* PyToCArray(\u001b[01;36m\u001b[KPyArrayObject *pyArr\u001b[m\u001b[K) {\n",
      "      |                          \u001b[01;36m\u001b[K~~~~~~~~~~~~~~~^~~~~\u001b[m\u001b[K\n",
      "\u001b[01m\u001b[Kpotential_wrapped.c:564:29:\u001b[m\u001b[K \u001b[01;35m\u001b[Kwarning: \u001b[m\u001b[Kpassing argument 1 of ‘\u001b[01m\u001b[KPyToCArray\u001b[m\u001b[K’ discards ‘\u001b[01m\u001b[Kconst\u001b[m\u001b[K’ qualifier from pointer target type [\u001b[01;35m\u001b[K-Wdiscarded-qualifiers\u001b[m\u001b[K]\n",
      "  564 |     float* c_z = PyToCArray(\u001b[01;35m\u001b[Kz\u001b[m\u001b[K);\n",
      "      |                             \u001b[01;35m\u001b[K^\u001b[m\u001b[K\n",
      "\u001b[01m\u001b[Kpotential_wrapped.c:546:41:\u001b[m\u001b[K \u001b[01;36m\u001b[Knote: \u001b[m\u001b[Kexpected ‘\u001b[01m\u001b[KPyArrayObject *\u001b[m\u001b[K’ {aka ‘\u001b[01m\u001b[Kstruct tagPyArrayObject_fields *\u001b[m\u001b[K’} but argument is of type ‘\u001b[01m\u001b[Kconst PyArrayObject *\u001b[m\u001b[K’ {aka ‘\u001b[01m\u001b[Kconst struct tagPyArrayObject_fields *\u001b[m\u001b[K’}\n",
      "  546 | static float* PyToCArray(\u001b[01;36m\u001b[KPyArrayObject *pyArr\u001b[m\u001b[K) {\n",
      "      |                          \u001b[01;36m\u001b[K~~~~~~~~~~~~~~~^~~~~\u001b[m\u001b[K\n",
      "\u001b[01m\u001b[Kpotential_wrapped.c:\u001b[m\u001b[K At top level:\n",
      "\u001b[01m\u001b[Kpotential_wrapped.c:628:22:\u001b[m\u001b[K \u001b[01;31m\u001b[Kerror: \u001b[m\u001b[Kexpected ‘\u001b[01m\u001b[K)\u001b[m\u001b[K’ before string constant\n",
      "  628 | PyDOC_STRVAR(pot_doc,\u001b[01;31m\u001b[K \u001b[m\u001b[K\u001b[32m\u001b[K\"computes the potential\"\u001b[m\u001b[K);\n",
      "      |                      \u001b[01;31m\u001b[K^\u001b[m\u001b[K\u001b[32m\u001b[K~~~~~~~~~~~~~~~~~~~~~~~~\u001b[m\u001b[K\n",
      "      |                      \u001b[32m\u001b[K)\u001b[m\u001b[K\n",
      "\u001b[01m\u001b[Kpotential_wrapped.c:633:5:\u001b[m\u001b[K \u001b[01;31m\u001b[Kerror: \u001b[m\u001b[K‘\u001b[01m\u001b[Kpot_doc\u001b[m\u001b[K’ undeclared here (not in a function)\n",
      "  633 |     \u001b[01;31m\u001b[Kpot_doc\u001b[m\u001b[K,              /* The docstring as a C string. */\n",
      "      |     \u001b[01;31m\u001b[K^~~~~~~\u001b[m\u001b[K\n",
      "\u001b[01m\u001b[Kpotential_wrapped.c:637:42:\u001b[m\u001b[K \u001b[01;31m\u001b[Kerror: \u001b[m\u001b[K‘\u001b[01m\u001b[Kfpot_doc\u001b[m\u001b[K’ undeclared here (not in a function)\n",
      "  637 |     {\"pot\", (PyCFunction) pypot, METH_O, \u001b[01;31m\u001b[Kfpot_doc\u001b[m\u001b[K},\n",
      "      |                                          \u001b[01;31m\u001b[K^~~~~~~~\u001b[m\u001b[K\n",
      "error: command '/usr/bin/gcc' failed with exit code 1\n"
     ]
    }
   ],
   "source": [
    "!python wrap_setup.py build_ext --inplace"
   ]
  },
  {
   "cell_type": "markdown",
   "id": "fc79b48b-a4e2-4e3e-9ae1-9af064b3b66e",
   "metadata": {},
   "source": [
    "## Me lo llevó a la carpeta \"build/\""
   ]
  },
  {
   "cell_type": "code",
   "execution_count": null,
   "id": "63bca1c7-f51b-4056-98ea-fe9de6fa05c9",
   "metadata": {},
   "outputs": [],
   "source": []
  }
 ],
 "metadata": {
  "kernelspec": {
   "display_name": "Python 3 (ipykernel)",
   "language": "python",
   "name": "python3"
  },
  "language_info": {
   "codemirror_mode": {
    "name": "ipython",
    "version": 3
   },
   "file_extension": ".py",
   "mimetype": "text/x-python",
   "name": "python",
   "nbconvert_exporter": "python",
   "pygments_lexer": "ipython3",
   "version": "3.11.5"
  }
 },
 "nbformat": 4,
 "nbformat_minor": 5
}
