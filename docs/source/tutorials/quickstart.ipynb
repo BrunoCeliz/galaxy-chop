{
 "cells": [
  {
   "cell_type": "markdown",
   "metadata": {},
   "source": [
    "## Quickstart\n",
    "\n",
    "This chapter aims to explain how to use GalaxyChop in general. Here\n",
    "you can see a simple example of\n",
    "\n",
    "- Reading a galaxy from a file \n",
    "  [HDF5](https://www.hdfgroup.org/solutions/hdf5/).\n",
    "- Explore the attributes of the galaxy.\n",
    "- Some graphics.\n",
    "- Aligning and centering the galaxies.\n",
    "- A simple decomposition.\n",
    "- A simple visualization.\n",
    "\n",
    "\n",
    "This first tutorial aims only to give an overview of the project and not to \n",
    "go into too specific details.\n",
    "\n",
    "<div class=\"alert alert-info\">\n",
    "    **Note:** This tutorial is not intended to be a scientific explanation of why and how to perform a dynamic decomposition of galaxies, only to explain the functionalities of GalaxyChop.\n",
    "</div>\n"
   ]
  },
  {
   "cell_type": "markdown",
   "metadata": {},
   "source": [
    "### 1. Creating your first Galaxy\n",
    "\n",
    "GalaxyChop represents galaxies with a [class](https://en.wikipedia.org/wiki/Class_(computer_programming)) called `galaxychop.Galaxy`, which is a collection of *gas*, *dark matter* and *stars* particles each characterized by 3 positions, three velocities, masses and various energies.\n",
    "\n",
    "To create a `Galaxy` type object, there are several alternatives, the most useful being to read all the data from a file type [HDF5](https://www.hdfgroup.org/solutions/hdf5/).\n",
    "\n",
    "So first of all it is necessary to obtain a file with the appropriate content. It is recommended to download this file [gal394242.h5](https://github.com/vcristiani/galaxy-chop/raw/master/tests/datasets/gal394242.h5) and place it where it is convenient for you.\n",
    "\n",
    "<div class=\"alert alert-info\">\n",
    "    **Note:** For convenience we have placed the file *gal394242.h5* in the same folder where this tutorial is located.\n",
    "</div>"
   ]
  },
  {
   "cell_type": "markdown",
   "metadata": {},
   "source": []
  }
 ],
 "metadata": {
  "interpreter": {
   "hash": "894d130d0020138b469633c1f4fbba76521a89ce0d422353b5461da3c0ea325f"
  },
  "kernelspec": {
   "display_name": "Python 3.8.10 64-bit ('galaxychop': virtualenv)",
   "language": "python",
   "name": "python3"
  },
  "language_info": {
   "codemirror_mode": {
    "name": "ipython",
    "version": 3
   },
   "file_extension": ".py",
   "mimetype": "text/x-python",
   "name": "python",
   "nbconvert_exporter": "python",
   "pygments_lexer": "ipython3",
   "version": "3.8.10"
  },
  "orig_nbformat": 4
 },
 "nbformat": 4,
 "nbformat_minor": 2
}
