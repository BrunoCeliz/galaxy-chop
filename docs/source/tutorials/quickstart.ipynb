{
 "cells": [
  {
   "cell_type": "markdown",
   "metadata": {},
   "source": [
    "## Quickstart\n",
    "\n",
    "This chapter aims to explain how to use GalaxyChop in general. Here\n",
    "you can see a simple example of\n",
    "\n",
    "- Reading a galaxy from a file \n",
    "  [hdf5](https://www.hdfgroup.org/solutions/hdf5/).\n",
    "- Explore the attributes of the galaxy.\n",
    "- Some graphics.\n",
    "- Aligning and centering the galaxies.\n",
    "- A simple decomposition.\n",
    "- A simple visualization.\n",
    "\n",
    "\n",
    "This first tutorial aims only to give an overview of the project and not to \n",
    "go into too specific details.\n"
   ]
  },
  {
   "cell_type": "markdown",
   "metadata": {},
   "source": []
  },
  {
   "cell_type": "markdown",
   "metadata": {},
   "source": []
  }
 ],
 "metadata": {
  "interpreter": {
   "hash": "894d130d0020138b469633c1f4fbba76521a89ce0d422353b5461da3c0ea325f"
  },
  "kernelspec": {
   "display_name": "Python 3.8.10 64-bit ('galaxychop': virtualenv)",
   "language": "python",
   "name": "python3"
  },
  "language_info": {
   "codemirror_mode": {
    "name": "ipython",
    "version": 3
   },
   "file_extension": ".py",
   "mimetype": "text/x-python",
   "name": "python",
   "nbconvert_exporter": "python",
   "pygments_lexer": "ipython3",
   "version": "3.8.10"
  },
  "orig_nbformat": 4
 },
 "nbformat": 4,
 "nbformat_minor": 2
}
