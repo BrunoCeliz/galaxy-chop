{
 "cells": [
  {
   "cell_type": "markdown",
   "id": "c5295838",
   "metadata": {},
   "source": [
    "## Pre-processing methods and decomposition models\n",
    "\n",
    "Useful methods for pre-processing the galaxy object to perform the dynamical decomposition:\n",
    "\n",
    " - Center funtion: `preproc.center(galaxy)`\n",
    " - Star align function : `preproc.star_alingn(galaxy)`\n",
    " - Circular angular momentum function : `preproc.jcirc(galaxy)`\n"
   ]
  },
  {
   "cell_type": "code",
   "execution_count": 1,
   "metadata": {},
   "outputs": [
    {
     "data": {
      "text/plain": [
       "<Galaxy stars=32067, dark_matter=21156, gas=4061, potential=True>"
      ]
     },
     "execution_count": 1,
     "metadata": {},
     "output_type": "execute_result"
    }
   ],
   "source": [
    "import galaxychop as gchop\n",
    "\n",
    "gal = gchop.io.read_hdf5(\"gal394242.h5\")\n",
    "gal"
   ]
  },
  {
   "cell_type": "markdown",
   "metadata": {},
   "source": [
    "The packages provides two function to validate if a galaxy is centered and aligned:"
   ]
  },
  {
   "cell_type": "code",
   "execution_count": 2,
   "id": "f9cbcb01",
   "metadata": {},
   "outputs": [
    {
     "name": "stdout",
     "output_type": "stream",
     "text": [
      "Centered: False\n",
      "Aligned: False\n"
     ]
    }
   ],
   "source": [
    "print(\"Centered:\", gchop.preproc.is_centered(gal))\n",
    "print(\"Aligned:\", gchop.preproc.is_star_aligned(gal))"
   ]
  },
  {
   "cell_type": "markdown",
   "id": "6575c4a1",
   "metadata": {},
   "source": [
    "First of all, to perform the dynamical decomposition is necesary center the position of all galaxy particles respect to the position of the lowest potential particle."
   ]
  },
  {
   "cell_type": "code",
   "execution_count": 3,
   "id": "c681779d",
   "metadata": {},
   "outputs": [],
   "source": [
    "gal = gchop.preproc.center(gal)"
   ]
  },
  {
   "cell_type": "markdown",
   "id": "1e3dd2e5",
   "metadata": {},
   "source": [
    "Secondly, the position particles are rotatated so that the total angular moment of the stars particles coincides\n",
    "with the z-axis.\n",
    "\n",
    "Optionally, only stars particles within a cutting radius `(r_cut)` can be used to calculate the rotation matrix."
   ]
  },
  {
   "cell_type": "code",
   "execution_count": 4,
   "id": "12144dcc",
   "metadata": {},
   "outputs": [],
   "source": [
    "gal = gchop.preproc.star_align(gal)"
   ]
  },
  {
   "cell_type": "code",
   "execution_count": 5,
   "id": "94ca3cf4",
   "metadata": {},
   "outputs": [
    {
     "name": "stdout",
     "output_type": "stream",
     "text": [
      "Centered: True\n",
      "Aligned: True\n",
      "Centered & Aligned: True\n"
     ]
    }
   ],
   "source": [
    "print(\"Centered:\", gchop.preproc.is_centered(gal))\n",
    "print(\"Aligned:\", gchop.preproc.is_star_aligned(gal))\n",
    "print(\"Centered & Aligned:\", gchop.preproc.is_centered_and_aligned(gal))"
   ]
  },
  {
   "cell_type": "markdown",
   "id": "a975b5db",
   "metadata": {},
   "source": [
    "Finally, the function `jcirc` calculate the normalized specific energy of the stars, circularity parameter, projected circularity parameter and the points: x = E_star_norm and y = J_circ(E_star_norm), to build the circular angular momentum function for stellar particles.\n",
    "\n",
    "- normalized_star_energy: Normalized specific energy of stars\n",
    "- eps: Circularity parameter (J_z/J_circ)\n",
    "- eps_r: Projected circularity parameter (J_p/J_circ)\n",
    "- x: Normalized specific energy for the particle with the maximum z-component of the normalized specific angular momentum per bin.\n",
    "- y: Maximum value of the z-component of the normalized specific angular momentum per bin.\n",
    "\n",
    "To perform the calculus of `x` and `y` per bin, the size of bins can be included."
   ]
  },
  {
   "cell_type": "code",
   "execution_count": 6,
   "id": "a7466a40",
   "metadata": {},
   "outputs": [
    {
     "name": "stdout",
     "output_type": "stream",
     "text": [
      "[-0.99509357 -0.99760334 -0.99279739 ... -0.13989039 -0.08796932\n",
      " -0.06652457]\n",
      "[-9.24079355e-05  1.56582528e-04 -3.68821838e-04 ... -1.37554847e-01\n",
      "  4.23475904e-01  7.12919724e-01]\n",
      "[-0.10974301  0.38068977 -0.29837353 ... -0.17532475  0.54943866\n",
      "  0.86226812]\n",
      "[0.8643671  1.15379305 0.53883725 ... 0.53970452 1.12444831 0.3601765 ]\n"
     ]
    }
   ],
   "source": [
    "cric_prop = gchop.preproc.jcirc(gal, bin0=0.05, bin1=0.005)\n",
    "\n",
    "print(cric_prop.normalized_star_energy)\n",
    "print(cric_prop.normalized_star_Jz)\n",
    "print(cric_prop.eps)\n",
    "print(cric_prop.eps_r)"
   ]
  },
  {
   "cell_type": "markdown",
   "id": "5de91f8e",
   "metadata": {},
   "source": [
    "<div class=\"alert alert-info\">\n",
    "Note: jcirc\n",
    "    \n",
    "This calculus is necessary only for stars, but by constuction, we calculated it for all partecles.\n",
    "For more information, you can access the documentation of the jcirc method.\n",
    "</div>"
   ]
  },
  {
   "cell_type": "markdown",
   "id": "294371e9",
   "metadata": {},
   "source": [
    "## Decomposition"
   ]
  },
  {
   "cell_type": "markdown",
   "id": "f11cdf11",
   "metadata": {},
   "source": [
    "To perform the dynamical decomposition the package provides several model:\n",
    "\n",
    "    - JThreshold\n",
    "    - JHistogram\n",
    "    - JEHistogram\n",
    "    - KMeans\n",
    "    - GaussianMixture\n",
    "    - AutoGaussianMixture\n",
    "    \n",
    "The procedure to find to which stellar component each star particle belongs is exactly the same for all models:\n",
    "\n",
    "First instantiate the decomposer"
   ]
  },
  {
   "cell_type": "code",
   "execution_count": 7,
   "id": "81077626",
   "metadata": {},
   "outputs": [
    {
     "data": {
      "text/plain": [
       "JThreshold(cbins=(0.05, 0.005), eps_cut=0.6)"
      ]
     },
     "execution_count": 7,
     "metadata": {},
     "output_type": "execute_result"
    }
   ],
   "source": [
    "decomposer = gchop.models.JThreshold()\n",
    "decomposer"
   ]
  },
  {
   "cell_type": "markdown",
   "id": "75525cb9",
   "metadata": {},
   "source": [
    "Decompose the galaxy into components"
   ]
  },
  {
   "cell_type": "code",
   "execution_count": 8,
   "id": "a8b74d78",
   "metadata": {},
   "outputs": [
    {
     "data": {
      "text/plain": [
       "<Components length=57284, labels={'Spheroid', nan, 'Disk'}, probabilities=False, lmap=True>"
      ]
     },
     "execution_count": 8,
     "metadata": {},
     "output_type": "execute_result"
    }
   ],
   "source": [
    "components = decomposer.decompose(gal)\n",
    "components"
   ]
  },
  {
   "cell_type": "code",
   "execution_count": 9,
   "id": "bbc37796",
   "metadata": {},
   "outputs": [
    {
     "data": {
      "text/plain": [
       "array([ 0.,  0.,  0., ..., nan, nan, nan])"
      ]
     },
     "execution_count": 9,
     "metadata": {},
     "output_type": "execute_result"
    }
   ],
   "source": [
    "components.labels"
   ]
  },
  {
   "cell_type": "code",
   "execution_count": 10,
   "id": "fa748f8d",
   "metadata": {},
   "outputs": [
    {
     "data": {
      "text/plain": [
       "array(['stars', 'stars', 'stars', ..., 'gas', 'gas', 'gas'], dtype='<U11')"
      ]
     },
     "execution_count": 10,
     "metadata": {},
     "output_type": "execute_result"
    }
   ],
   "source": [
    "components.ptypes"
   ]
  },
  {
   "cell_type": "code",
   "execution_count": 11,
   "id": "f65f1d4f",
   "metadata": {},
   "outputs": [],
   "source": [
    "components.to_dataframe()"
   ]
  },
  {
   "cell_type": "code",
   "execution_count": null,
   "id": "4fdeaad9",
   "metadata": {},
   "outputs": [],
   "source": []
  }
 ],
 "metadata": {
  "kernelspec": {
   "display_name": "Python 3",
   "language": "python",
   "name": "python3"
  },
  "language_info": {
   "codemirror_mode": {
    "name": "ipython",
    "version": 3
   },
   "file_extension": ".py",
   "mimetype": "text/x-python",
   "name": "python",
   "nbconvert_exporter": "python",
   "pygments_lexer": "ipython3",
   "version": "3.8.0"
  },
  "toc": {
   "base_numbering": 1,
   "nav_menu": {},
   "number_sections": true,
   "sideBar": true,
   "skip_h1_title": false,
   "title_cell": "Table of Contents",
   "title_sidebar": "Contents",
   "toc_cell": false,
   "toc_position": {},
   "toc_section_display": true,
   "toc_window_display": false
  },
  "varInspector": {
   "cols": {
    "lenName": 16,
    "lenType": 16,
    "lenVar": 40
   },
   "kernels_config": {
    "python": {
     "delete_cmd_postfix": "",
     "delete_cmd_prefix": "del ",
     "library": "var_list.py",
     "varRefreshCmd": "print(var_dic_list())"
    },
    "r": {
     "delete_cmd_postfix": ") ",
     "delete_cmd_prefix": "rm(",
     "library": "var_list.r",
     "varRefreshCmd": "cat(var_dic_list()) "
    }
   },
   "types_to_exclude": [
    "module",
    "function",
    "builtin_function_or_method",
    "instance",
    "_Feature"
   ],
   "window_display": false
  }
 },
 "nbformat": 4,
 "nbformat_minor": 5
}
