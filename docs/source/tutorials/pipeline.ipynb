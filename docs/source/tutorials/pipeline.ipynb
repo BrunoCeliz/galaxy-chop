{
 "cells": [
  {
   "cell_type": "markdown",
   "metadata": {},
   "source": [
    "## Pipeline\n",
    "\n",
    "Useful method for pre-processing the galaxy object to perform  transform methods with a final decomposer.\n",
    "\n",
    "Sequentially apply a list of transforms and a final decomposer.\n",
    "The purpose of the pipeline is to assemble several steps that can be applied together while setting different parameters.\n"
   ]
  },
  {
   "cell_type": "code",
   "execution_count": 1,
   "metadata": {},
   "outputs": [
    {
     "data": {
      "text/plain": [
       "<Galaxy stars=32067, dark_matter=21156, gas=4061, potential=True>"
      ]
     },
     "execution_count": 1,
     "metadata": {},
     "output_type": "execute_result"
    }
   ],
   "source": [
    "import galaxychop as gchop\n",
    "\n",
    "gal = gchop.io.read_hdf5(\"gal394242.h5\")\n",
    "gal\n"
   ]
  },
  {
   "cell_type": "code",
   "execution_count": 2,
   "metadata": {},
   "outputs": [
    {
     "name": "stdout",
     "output_type": "stream",
     "text": [
      "Centered: False\n",
      "Aligned: False\n"
     ]
    }
   ],
   "source": [
    "print(\"Centered:\", gchop.preproc.is_centered(gal))\n",
    "print(\"Aligned:\", gchop.preproc.is_star_aligned(gal))"
   ]
  },
  {
   "cell_type": "markdown",
   "metadata": {},
   "source": [
    "Here an example that performs the aligner, the centralizer and after that the `JThreshold` decomposer"
   ]
  },
  {
   "cell_type": "code",
   "execution_count": 3,
   "metadata": {},
   "outputs": [],
   "source": [
    "pipe = gchop.GchopPipeline([(\"t1\",gchop.preproc.Centralizer()),(\"t2\",gchop.preproc.Aligner(r_cut=30)),(\"d0\", gchop.models.JThreshold())])"
   ]
  },
  {
   "cell_type": "markdown",
   "metadata": {},
   "source": [
    "First we perform the transformation"
   ]
  },
  {
   "cell_type": "code",
   "execution_count": 4,
   "metadata": {},
   "outputs": [
    {
     "name": "stdout",
     "output_type": "stream",
     "text": [
      "Centered: True\n",
      "Aligned: True\n"
     ]
    }
   ],
   "source": [
    "gal = pipe.transform(gal) \n",
    "\n",
    "print(\"Centered:\", gchop.preproc.is_centered(gal))\n",
    "print(\"Aligned:\", gchop.preproc.is_star_aligned(gal))"
   ]
  },
  {
   "cell_type": "markdown",
   "metadata": {},
   "source": [
    "And then the decomposition"
   ]
  },
  {
   "cell_type": "code",
   "execution_count": 5,
   "metadata": {},
   "outputs": [],
   "source": [
    "gal = pipe.decompose(gal) \n"
   ]
  },
  {
   "cell_type": "markdown",
   "metadata": {},
   "source": [
    "One could perform the pipeline in other way using `mkpipe` that construct a Pipeline from the given transformers and decomposer.\n",
    "\n"
   ]
  },
  {
   "cell_type": "code",
   "execution_count": 2,
   "metadata": {},
   "outputs": [],
   "source": [
    "pipe_mk =gchop.mkpipe(gchop.preproc.Centralizer(),gchop.preproc.Aligner(r_cut=30), gchop.models.JThreshold())"
   ]
  },
  {
   "cell_type": "code",
   "execution_count": 3,
   "metadata": {},
   "outputs": [
    {
     "name": "stdout",
     "output_type": "stream",
     "text": [
      "Centered: False\n",
      "Aligned: False\n"
     ]
    }
   ],
   "source": [
    "print(\"Centered:\", gchop.preproc.is_centered(gal))\n",
    "print(\"Aligned:\", gchop.preproc.is_star_aligned(gal))"
   ]
  },
  {
   "cell_type": "code",
   "execution_count": 4,
   "metadata": {},
   "outputs": [
    {
     "name": "stdout",
     "output_type": "stream",
     "text": [
      "Centered: True\n",
      "Aligned: True\n"
     ]
    }
   ],
   "source": [
    "gal = pipe_mk.transform(gal) \n",
    "\n",
    "print(\"Centered:\", gchop.preproc.is_centered(gal))\n",
    "print(\"Aligned:\", gchop.preproc.is_star_aligned(gal))"
   ]
  },
  {
   "cell_type": "code",
   "execution_count": 5,
   "metadata": {},
   "outputs": [],
   "source": [
    "gal = pipe_mk.decompose(gal) \n"
   ]
  }
 ],
 "metadata": {
  "kernelspec": {
   "display_name": "venv-3.11",
   "language": "python",
   "name": "python3"
  },
  "language_info": {
   "codemirror_mode": {
    "name": "ipython",
    "version": 3
   },
   "file_extension": ".py",
   "mimetype": "text/x-python",
   "name": "python",
   "nbconvert_exporter": "python",
   "pygments_lexer": "ipython3",
   "version": "3.11.6"
  }
 },
 "nbformat": 4,
 "nbformat_minor": 2
}
