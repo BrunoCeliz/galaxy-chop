{
 "cells": [
  {
   "cell_type": "markdown",
   "id": "c5295838",
   "metadata": {},
   "source": [
    "## Pre-processing methods and decomposition models\n",
    "\n",
    "Useful methods for pre-processing the galaxy object to perform the dynamical decomposition:\n",
    "\n",
    " - Center funtion: `preproc.center(galaxy)`\n",
    " - Star align function : `preproc.star_alingn(galaxy)`\n",
    " - Circular angular momentum function : `preproc.jcirc(galaxy)`\n",
    " \n",
    "The packages provides two function to validate if a galaxy is centered and aligned:"
   ]
  },
  {
   "cell_type": "code",
   "execution_count": null,
   "id": "f9cbcb01",
   "metadata": {},
   "outputs": [],
   "source": [
    "print(\"Centered:\", gchop.preproc.is_centered(gal))\n",
    "print(\"Aligned:\", gchop.preproc.is_star_aligned(gal))"
   ]
  },
  {
   "cell_type": "markdown",
   "id": "6575c4a1",
   "metadata": {},
   "source": [
    "First of all, to perform the dynamical decomposition is necesary center the position of all galaxy particles respect to the position of the lowest potential particle."
   ]
  },
  {
   "cell_type": "code",
   "execution_count": null,
   "id": "c681779d",
   "metadata": {},
   "outputs": [],
   "source": [
    "gal = gchop.preproc.center(gal)"
   ]
  },
  {
   "cell_type": "markdown",
   "id": "1e3dd2e5",
   "metadata": {},
   "source": [
    "Secondly, the position particles are rotatated so that the total angular moment of the stars particles coincides\n",
    "with the z-axis.\n",
    "\n",
    "Optionally, only stars particles within a cutting radius `(r_cut)` can be used to calculate the rotation matrix."
   ]
  },
  {
   "cell_type": "code",
   "execution_count": null,
   "id": "12144dcc",
   "metadata": {},
   "outputs": [],
   "source": [
    "gal = gchop.preproc.star_align(gal)"
   ]
  },
  {
   "cell_type": "code",
   "execution_count": null,
   "id": "94ca3cf4",
   "metadata": {},
   "outputs": [],
   "source": [
    "print(\"Centered:\", gchop.preproc.is_centered(gal))\n",
    "print(\"Aligned:\", gchop.preproc.is_star_aligned(gal))\n",
    "print(\"Centered & Aligned:\", gchop.preproc.is_centered_and_aligned(gal))"
   ]
  },
  {
   "cell_type": "markdown",
   "id": "a975b5db",
   "metadata": {},
   "source": [
    "Finally, the function `jcirc` calculate the normalized specific energy of the stars, circularity parameter, projected circularity parameter and the points: x = E_star_norm and y = J_circ(E_star_norm), to build the circular angular momentum function for stellar particles.\n",
    "\n",
    "- normalized_star_energy: Normalized specific energy of stars\n",
    "- eps: Circularity parameter (J_z/J_circ)\n",
    "- eps_r: Projected circularity parameter (J_p/J_circ)\n",
    "- x: Normalized specific energy for the particle with the maximum z-component of the normalized specific angular momentum per bin.\n",
    "- y: Maximum value of the z-component of the normalized specific angular momentum per bin.\n",
    "\n",
    "To perform the calculus of `x` and `y` per bin, the size of bins can be included."
   ]
  },
  {
   "cell_type": "code",
   "execution_count": null,
   "id": "a7466a40",
   "metadata": {},
   "outputs": [],
   "source": [
    "cric_prop = gchop.preproc.jcirc(gal, bin0=0.05, bin1=0.005)\n",
    "cric_prop"
   ]
  },
  {
   "cell_type": "markdown",
   "id": "5de91f8e",
   "metadata": {},
   "source": [
    "<div class=\"alert alert-info\">\n",
    "Note: jcirc\n",
    "    \n",
    "This calculus is necessary only for stars, but by constuction, we calculated it for all partecles.\n",
    "For more information, you can access the documentation of the jcirc method.\n",
    "</div>"
   ]
  },
  {
   "cell_type": "markdown",
   "id": "294371e9",
   "metadata": {},
   "source": [
    "## Decomposition"
   ]
  },
  {
   "cell_type": "markdown",
   "id": "f11cdf11",
   "metadata": {},
   "source": [
    "To perform the dynamical decomposition the package provides several model:\n",
    "\n",
    "    - JThreshold\n",
    "    - JHistogram\n",
    "    - JEHistogram\n",
    "    - KMeans\n",
    "    - GaussianMixture\n",
    "    - AutoGaussianMixture\n",
    "    \n",
    "The procedure to find to which stellar component each star particle belongs is exactly the same for all models:\n",
    "\n",
    "First instantiate the decomposer"
   ]
  },
  {
   "cell_type": "code",
   "execution_count": null,
   "id": "81077626",
   "metadata": {},
   "outputs": [],
   "source": [
    "decomposer = gchop.models.JThreshold()\n",
    "decomposer"
   ]
  },
  {
   "cell_type": "markdown",
   "id": "75525cb9",
   "metadata": {},
   "source": [
    "Decompose the galaxy into components"
   ]
  },
  {
   "cell_type": "code",
   "execution_count": null,
   "id": "a8b74d78",
   "metadata": {},
   "outputs": [],
   "source": [
    "components = decomposer.decompose(gal)\n",
    "components"
   ]
  },
  {
   "cell_type": "code",
   "execution_count": null,
   "id": "bbc37796",
   "metadata": {},
   "outputs": [],
   "source": [
    "components.labels"
   ]
  },
  {
   "cell_type": "code",
   "execution_count": null,
   "id": "fa748f8d",
   "metadata": {},
   "outputs": [],
   "source": [
    "components.ptypes"
   ]
  },
  {
   "cell_type": "code",
   "execution_count": null,
   "id": "f65f1d4f",
   "metadata": {},
   "outputs": [],
   "source": [
    "components.to_dataframe()"
   ]
  },
  {
   "cell_type": "code",
   "execution_count": null,
   "id": "4fdeaad9",
   "metadata": {},
   "outputs": [],
   "source": []
  }
 ],
 "metadata": {
  "kernelspec": {
   "display_name": "Python 3",
   "language": "python",
   "name": "python3"
  },
  "language_info": {
   "codemirror_mode": {
    "name": "ipython",
    "version": 3
   },
   "file_extension": ".py",
   "mimetype": "text/x-python",
   "name": "python",
   "nbconvert_exporter": "python",
   "pygments_lexer": "ipython3",
   "version": "3.7.9"
  },
  "toc": {
   "base_numbering": 1,
   "nav_menu": {},
   "number_sections": true,
   "sideBar": true,
   "skip_h1_title": false,
   "title_cell": "Table of Contents",
   "title_sidebar": "Contents",
   "toc_cell": false,
   "toc_position": {},
   "toc_section_display": true,
   "toc_window_display": false
  },
  "varInspector": {
   "cols": {
    "lenName": 16,
    "lenType": 16,
    "lenVar": 40
   },
   "kernels_config": {
    "python": {
     "delete_cmd_postfix": "",
     "delete_cmd_prefix": "del ",
     "library": "var_list.py",
     "varRefreshCmd": "print(var_dic_list())"
    },
    "r": {
     "delete_cmd_postfix": ") ",
     "delete_cmd_prefix": "rm(",
     "library": "var_list.r",
     "varRefreshCmd": "cat(var_dic_list()) "
    }
   },
   "types_to_exclude": [
    "module",
    "function",
    "builtin_function_or_method",
    "instance",
    "_Feature"
   ],
   "window_display": false
  }
 },
 "nbformat": 4,
 "nbformat_minor": 5
}
