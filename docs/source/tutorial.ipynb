{
 "cells": [
  {
   "cell_type": "markdown",
   "metadata": {},
   "source": [
    "# GalaxyChop's Tutorial"
   ]
  },
  {
   "cell_type": "markdown",
   "metadata": {},
   "source": [
    "This tutorial is a guide to use GalaxyChop package. GalaxyChop performs the dynamical descomposition of a galaxy with tree diferent methods."
   ]
  },
  {
   "cell_type": "markdown",
   "metadata": {},
   "source": [
    "In this tutorial we show you step by step how to get started with the GalaxyChop package.\n",
    "\n",
    "---------------------------------------------------------------------------------------------"
   ]
  },
  {
   "cell_type": "markdown",
   "metadata": {},
   "source": [
    "## Import GalaxyChop and the necesary packages"
   ]
  },
  {
   "cell_type": "code",
   "execution_count": null,
   "metadata": {},
   "outputs": [],
   "source": [
    "import numpy as np\n",
    "import astropy.units as u\n",
    "import galaxychop as gc"
   ]
  },
  {
   "cell_type": "markdown",
   "metadata": {},
   "source": [
    "The first thing to do is to import the necessary packages:\n",
    "\n",
    "* `numpy`: it is used to load the data.\n",
    "* `astropy.units`: it is used to introduce the units to our data.\n",
    "* `galaxychop`: it is the library that we present in this tutorial."
   ]
  },
  {
   "cell_type": "markdown",
   "metadata": {},
   "source": [
    "## Loading the data"
   ]
  },
  {
   "cell_type": "markdown",
   "metadata": {},
   "source": [
    "For this tutorial we use a preloaded dataset offered by GalaxyChop"
   ]
  },
  {
   "cell_type": "code",
   "execution_count": null,
   "metadata": {},
   "outputs": [],
   "source": [
    "star = gc.dataset.load_star_394242()\n",
    "dark = gc.dataset.load_gas_394242()\n",
    "gas = gc.dataset.load_dark_394242()\n",
    "pot_star = gc.dataset.load_pot_star_394242()\n",
    "pot_dark = gc.dataset.load_pot_dark_394242()\n",
    "pot_gas = gc.dataset.load_pot_gas_394242()"
   ]
  },
  {
   "cell_type": "markdown",
   "metadata": {},
   "source": [
    "The first step is to load mass (m), positions (x, y, z) and velocities (vx, vy, vz) of the galaxy.  The data must be loaded in the order: stars, dark matter and gas. If the user previously has calculated the potential energy (pot) of all partcicles (stars, dark matter and gas), it also can be introduced.\n",
    "\n",
    "The data **must be entered with units**. Masses in ${\\rm M_{\\odot}}$, positions in ${\\rm kpc}$, velocities in ${\\rm km/s}$ and potential energy in ${\\rm (km/s)^2}$. (Note that the potential energy we use here is an specific potential energy.). For this we use the package `units` from `astropy`"
   ]
  },
  {
   "cell_type": "code",
   "execution_count": null,
   "metadata": {},
   "outputs": [],
   "source": [
    "galaxy = gc.Galaxy(\n",
    "    m_s = star[:,0]*u.M_sun,\n",
    "    x_s = star[:,1]*u.kpc,\n",
    "    y_s = star[:,2]*u.kpc, \n",
    "    z_s = star[:,3]*u.kpc,\n",
    "    vx_s = star[:,4]*u.km / u.s,\n",
    "    vy_s = star[:,5]*u.km / u.s,\n",
    "    vz_s = star[:,6]*u.km / u.s,\n",
    "    m_dm = dark[:,0]*u.M_sun,\n",
    "    x_dm = dark[:,1]*u.kpc,\n",
    "    y_dm = dark[:,2]*u.kpc,\n",
    "    z_dm = dark[:,3]*u.kpc,\n",
    "    vx_dm = dark[:,4]*u.km / u.s,\n",
    "    vy_dm = dark[:,5]*u.km / u.s,\n",
    "    vz_dm = dark[:,6]*u.km / u.s,\n",
    "    m_g = gas[:,0]*u.M_sun,\n",
    "    x_g = gas[:,1]*u.kpc,\n",
    "    y_g = gas[:,2]*u.kpc,\n",
    "    z_g = gas[:,3]*u.kpc,\n",
    "    vx_g = gas[:,4]*u.km / u.s,\n",
    "    vy_g = gas[:,5]*u.km / u.s,\n",
    "    vz_g = gas[:,6]*u.km / u.s,\n",
    "    pot_s = pot_star*(u.km / u.s)**2,\n",
    "    pot_dm = pot_dark*(u.km / u.s)**2,\n",
    "    pot_g = pot_gas*(u.km / u.s)**2\n",
    ")"
   ]
  },
  {
   "cell_type": "markdown",
   "metadata": {},
   "source": [
    "## Creating the galaxy"
   ]
  },
  {
   "cell_type": "markdown",
   "metadata": {},
   "source": [
    "**galaxy** is now an instantiated object with the Galaxy class.\n",
    "\n",
    "There are a number of galaxy properties that we can calculate if necessary\n",
    "\n",
    "* **Specific kinetical energy**\n",
    "* **Specific potential energy**\n",
    "* **Specific total energy**\n",
    "* **Specific angular momentum**\n",
    "* Pairs of points (x,y) used for interpolation of the **Circular Angular Moment** function\n",
    "* **Circularity parameter**: in the z-axis and in the plane."
   ]
  },
  {
   "cell_type": "markdown",
   "metadata": {},
   "source": [
    "**Note**\n",
    "\n",
    "In case it is not necessary to work or analyze any of the parameters mentioned above you can directly perform the dynamical decomposition. For this, you can proceed directly to the title **Dynamic decomposition methods**."
   ]
  },
  {
   "cell_type": "markdown",
   "metadata": {},
   "source": [
    "#### **Specific energy**"
   ]
  },
  {
   "cell_type": "code",
   "execution_count": null,
   "metadata": {},
   "outputs": [],
   "source": [
    "E_s, E_dm, E_g = galaxy.energy"
   ]
  },
  {
   "cell_type": "markdown",
   "metadata": {},
   "source": [
    "This returns the total specific energy of the components of stars (s), dark matter (dm) and gas (g). \n",
    "If you prefer separately specific kinetic and/or potential energy, you can run:\n"
   ]
  },
  {
   "cell_type": "code",
   "execution_count": null,
   "metadata": {},
   "outputs": [],
   "source": [
    "K_s, K_dm, K_g = galaxy.kinetic_energy"
   ]
  },
  {
   "cell_type": "markdown",
   "metadata": {},
   "source": [
    "for kinetic energy, or:"
   ]
  },
  {
   "cell_type": "code",
   "execution_count": null,
   "metadata": {},
   "outputs": [],
   "source": [
    "U_s = galaxy.potential_energy().pot_s\n",
    "U_dm = galaxy.potential_energy().pot_dm\n",
    "U_g = galaxy.potential_energy().pot_g"
   ]
  },
  {
   "cell_type": "markdown",
   "metadata": {},
   "source": [
    "for potential energy. \n",
    "\n",
    "*You must note that `kinetic_energy` is a property of the class `Galaxy`, and `potential_energy` is a method. This is impremented in that way to allow entering potentials manually if you prefer.*"
   ]
  },
  {
   "cell_type": "markdown",
   "metadata": {},
   "source": [
    "#### Specific angular momentum"
   ]
  },
  {
   "cell_type": "code",
   "execution_count": 8,
   "metadata": {},
   "outputs": [],
   "source": [
    "J_part = galaxy.angular_momentum().J_part\n",
    "J_star = galaxy.angular_momentum().J_star\n",
    "Jr_part = galaxy.angular_momentum().Jr_part\n",
    "Jr_star = galaxy.angular_momentum().Jr_star"
   ]
  },
  {
   "cell_type": "markdown",
   "metadata": {},
   "source": [
    "This returns the parameters:\n",
    "\n",
    "* **J_part**: Specific angular momentum of stars, dark matter and gas.\n",
    "* **J_star**: Specific angular momentum for stars.\n",
    "* **Jr_part**: Absolute value of the specific angular momentum in the XY plane of all particles (stars, dark matter and gas).\n",
    "* **Jr_star**: Absolute value of the specific angular momentum in the XY plane of star particles."
   ]
  },
  {
   "cell_type": "markdown",
   "metadata": {},
   "source": [
    "#### Circular angular momentum"
   ]
  },
  {
   "cell_type": "code",
   "execution_count": null,
   "metadata": {},
   "outputs": [],
   "source": [
    "x = galaxy.jcirc().x\n",
    "y = galaxy.jcirc().y"
   ]
  },
  {
   "cell_type": "markdown",
   "metadata": {},
   "source": [
    "This returns a new galaxy with the parameters:\n",
    "\n",
    "* **x**: Stellar normalized energy.\n",
    "* **y**: z component of the normalized angular momentum.\n",
    "\n",
    "For more information you can access the documentation of the jcirc method in the Notes section"
   ]
  },
  {
   "cell_type": "markdown",
   "metadata": {},
   "source": [
    "#### Circularity parameters"
   ]
  },
  {
   "cell_type": "code",
   "execution_count": null,
   "metadata": {},
   "outputs": [],
   "source": [
    "E_star, eps, eps_r = galaxy.paramcirc"
   ]
  },
  {
   "cell_type": "markdown",
   "metadata": {},
   "source": [
    "This returns the **specific energy**, **circularity parameter in z** and **circularity parameter in plane**."
   ]
  },
  {
   "cell_type": "markdown",
   "metadata": {},
   "source": [
    "## Dynamic decomposition methods"
   ]
  },
  {
   "cell_type": "markdown",
   "metadata": {},
   "source": [
    "In GalaxyChop we present 4 methods to perform the dynamical decomposition of galaxies stellar component.\n",
    "\n",
    "* **GCKmeans**\n",
    "* **GCAbadi**\n",
    "* **GCChop**\n",
    "* **GCgmm**"
   ]
  },
  {
   "cell_type": "markdown",
   "metadata": {},
   "source": [
    "#### Chop"
   ]
  },
  {
   "cell_type": "markdown",
   "metadata": {},
   "source": [
    "This method is ...\n",
    "\n",
    "We instantiate an object with the class `GCChop`."
   ]
  },
  {
   "cell_type": "code",
   "execution_count": null,
   "metadata": {},
   "outputs": [],
   "source": [
    "gcchop = gc.GCChop()"
   ]
  },
  {
   "cell_type": "markdown",
   "metadata": {},
   "source": [
    "Next, we decompose the previously instantiated galaxy"
   ]
  },
  {
   "cell_type": "code",
   "execution_count": null,
   "metadata": {},
   "outputs": [],
   "source": [
    "gcchop.decompose(galaxy)"
   ]
  },
  {
   "cell_type": "markdown",
   "metadata": {},
   "source": [
    "The previous method certifies that what we introduce an instantiated galaxy with the `Galaxy` class, and performs the decomposition.\n",
    "\n",
    "Then, we obtain the different groups to which each particle of the galaxy belongs: "
   ]
  },
  {
   "cell_type": "code",
   "execution_count": null,
   "metadata": {},
   "outputs": [],
   "source": [
    "gcchop.labels_"
   ]
  },
  {
   "cell_type": "markdown",
   "metadata": {},
   "source": [
    "#### Abadi"
   ]
  },
  {
   "cell_type": "markdown",
   "metadata": {},
   "source": [
    "This method is an implementation of the dynamical decomposition method of [Abadi et al.(2003)](https://ui.adsabs.harvard.edu/abs/2003ApJ...597...21A/abstract).\n",
    "\n",
    "First, we instantiate an object with the class `GCAbadi`."
   ]
  },
  {
   "cell_type": "code",
   "execution_count": null,
   "metadata": {},
   "outputs": [],
   "source": [
    "gcabadi = gc.GCAbadi()"
   ]
  },
  {
   "cell_type": "markdown",
   "metadata": {},
   "source": [
    "Next, we decompose the previously instantiated galaxy"
   ]
  },
  {
   "cell_type": "code",
   "execution_count": null,
   "metadata": {},
   "outputs": [],
   "source": [
    "gcabadi.decompose(galaxy)"
   ]
  },
  {
   "cell_type": "markdown",
   "metadata": {},
   "source": [
    "The previous method certifies that what we introduce an instantiated galaxy with the `Galaxy` class, and performs the decomposition.\n",
    "\n",
    "Then, we obtain the different groups to which each particle of the galaxy belongs: "
   ]
  },
  {
   "cell_type": "code",
   "execution_count": null,
   "metadata": {},
   "outputs": [],
   "source": [
    "gcabadi.labels_"
   ]
  },
  {
   "cell_type": "markdown",
   "metadata": {},
   "source": [
    "#### GCKmeans"
   ]
  },
  {
   "cell_type": "markdown",
   "metadata": {},
   "source": [
    "This method is a reimplementation of Skitlearn's Kmeans\n",
    "\n",
    "First, we instantiate an object with the class `GCKmeans` by translating the amount of components that we want to obtain from the decomposition."
   ]
  },
  {
   "cell_type": "code",
   "execution_count": null,
   "metadata": {},
   "outputs": [],
   "source": [
    "gckmeans = gc.GCKmeans(n_clusters=3)"
   ]
  },
  {
   "cell_type": "markdown",
   "metadata": {},
   "source": [
    "Then, we decompose the previously instantiated galaxy."
   ]
  },
  {
   "cell_type": "code",
   "execution_count": null,
   "metadata": {},
   "outputs": [],
   "source": [
    "gckmeans.decompose(galaxy)"
   ]
  },
  {
   "cell_type": "markdown",
   "metadata": {},
   "source": [
    "This method certifies that what we introduce an instantiated galaxy with the `Galaxy` class, and performs the decomposition.\n",
    "\n",
    "Then, we obtain the different groups to which each particle of the galaxy belongs runing:"
   ]
  },
  {
   "cell_type": "code",
   "execution_count": null,
   "metadata": {},
   "outputs": [],
   "source": [
    "gckmeans.labels_"
   ]
  },
  {
   "cell_type": "markdown",
   "metadata": {},
   "source": [
    "#### Gaussian Mixture"
   ]
  },
  {
   "cell_type": "markdown",
   "metadata": {},
   "source": [
    "This method is a reimplementation of Skitlearn's Gaussian Mixture\n",
    "\n",
    "First we instantiate an object with the class `GCgmm`."
   ]
  },
  {
   "cell_type": "code",
   "execution_count": null,
   "metadata": {},
   "outputs": [],
   "source": [
    "gcgmm = gc.GCgmm(n_components=3)"
   ]
  },
  {
   "cell_type": "markdown",
   "metadata": {},
   "source": [
    "Next, we decompose the previously instantiated galaxy"
   ]
  },
  {
   "cell_type": "code",
   "execution_count": null,
   "metadata": {},
   "outputs": [],
   "source": [
    "gcgmm.decompose(galaxy)"
   ]
  },
  {
   "cell_type": "markdown",
   "metadata": {},
   "source": [
    "The previous method certifies that what we introduce an instantiated galaxy with the `Galaxy` class, and performs the decomposition.\n",
    "\n",
    "Then, we obtain the different groups to which each particle of the galaxy belongs: "
   ]
  },
  {
   "cell_type": "code",
   "execution_count": null,
   "metadata": {},
   "outputs": [],
   "source": [
    "gcgmm.labels_"
   ]
  }
 ],
 "metadata": {
  "kernelspec": {
   "display_name": "Python 3",
   "language": "python",
   "name": "python3"
  },
  "language_info": {
   "codemirror_mode": {
    "name": "ipython",
    "version": 3
   },
   "file_extension": ".py",
   "mimetype": "text/x-python",
   "name": "python",
   "nbconvert_exporter": "python",
   "pygments_lexer": "ipython3",
   "version": "3.8.5-final"
  }
 },
 "nbformat": 4,
 "nbformat_minor": 4
}