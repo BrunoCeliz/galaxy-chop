{
 "cells": [
  {
   "cell_type": "code",
   "execution_count": 2,
   "metadata": {
    "collapsed": true
   },
   "outputs": [],
   "source": [
    "import attr\n",
    "import astropy.units as u\n",
    "import numpy as np"
   ]
  },
  {
   "cell_type": "code",
   "execution_count": 32,
   "metadata": {
    "collapsed": true
   },
   "outputs": [],
   "source": [
    "@attr.s\n",
    "class galaxy:\n",
    "    x_ = attr.ib(validator=attr.validators.instance_of(u.Quantity))\n",
    "    y_ = attr.ib(validator=attr.validators.instance_of(u.Quantity))\n",
    "    z_ = attr.ib(default = 0.*(u.km/u.s), validator=attr.validators.instance_of(u.Quantity))\n",
    "    r_ = attr.ib(default=None)\n",
    "    \n",
    "    def __change_units_to_array__(f):\n",
    "        def new_func(self,*args,**kwargs):    \n",
    "            self.x = self.x_.to_value(u.kpc)\n",
    "            self.y = self.y_.to_value(u.M_sun)\n",
    "            self.z = self.z_.to_value(u.km/u.s)\n",
    "            return f(self,*args,**kwargs)\n",
    "        return new_func\n",
    "    \n",
    "    @__change_units_to_array__\n",
    "    def func(self, s=2):\n",
    "        w = 2* self.x * self.y\n",
    "        return w\n",
    "    \n",
    "    @__change_units_to_array__\n",
    "    def func2(self):\n",
    "        q = 2*self.x\n",
    "        return q"
   ]
  },
  {
   "cell_type": "code",
   "execution_count": 33,
   "metadata": {},
   "outputs": [
    {
     "data": {
      "text/plain": [
       "galaxy(x_=<Quantity 5. kpc>, y_=<Quantity 3. solMass>, z_=<Quantity 0. km / s>, r_=None)"
      ]
     },
     "execution_count": 33,
     "metadata": {},
     "output_type": "execute_result"
    }
   ],
   "source": [
    "yy = galaxy(x_=5*u.kpc, y_=3*u.M_sun)\n",
    "yy"
   ]
  },
  {
   "cell_type": "code",
   "execution_count": 34,
   "metadata": {},
   "outputs": [
    {
     "data": {
      "text/latex": [
       "$5 \\; \\mathrm{kpc}$"
      ],
      "text/plain": [
       "<Quantity 5. kpc>"
      ]
     },
     "execution_count": 34,
     "metadata": {},
     "output_type": "execute_result"
    }
   ],
   "source": [
    "yy.x_"
   ]
  },
  {
   "cell_type": "code",
   "execution_count": 35,
   "metadata": {},
   "outputs": [
    {
     "data": {
      "text/plain": [
       "30.0"
      ]
     },
     "execution_count": 35,
     "metadata": {},
     "output_type": "execute_result"
    }
   ],
   "source": [
    "yy.func()"
   ]
  },
  {
   "cell_type": "code",
   "execution_count": 36,
   "metadata": {},
   "outputs": [
    {
     "data": {
      "text/plain": [
       "10.0"
      ]
     },
     "execution_count": 36,
     "metadata": {},
     "output_type": "execute_result"
    }
   ],
   "source": [
    "yy.func2()"
   ]
  },
  {
   "cell_type": "code",
   "execution_count": 38,
   "metadata": {},
   "outputs": [
    {
     "data": {
      "text/plain": [
       "numpy.float64"
      ]
     },
     "execution_count": 38,
     "metadata": {},
     "output_type": "execute_result"
    }
   ],
   "source": [
    "type(yy.x)"
   ]
  },
  {
   "cell_type": "code",
   "execution_count": 15,
   "metadata": {},
   "outputs": [
    {
     "data": {
      "text/latex": [
       "$5.3 \\; \\mathrm{Mpc}$"
      ],
      "text/plain": [
       "<Quantity 5.3 Mpc>"
      ]
     },
     "execution_count": 15,
     "metadata": {},
     "output_type": "execute_result"
    }
   ],
   "source": [
    "5*u.Mpc + 300*u.kpc"
   ]
  },
  {
   "cell_type": "code",
   "execution_count": 17,
   "metadata": {},
   "outputs": [
    {
     "data": {
      "text/plain": [
       "numpy.ndarray"
      ]
     },
     "execution_count": 17,
     "metadata": {},
     "output_type": "execute_result"
    }
   ],
   "source": [
    "type(np.asarray(y.func()))"
   ]
  },
  {
   "cell_type": "code",
   "execution_count": 44,
   "metadata": {},
   "outputs": [
    {
     "data": {
      "text/plain": [
       "astropy.units.quantity.Quantity"
      ]
     },
     "execution_count": 44,
     "metadata": {},
     "output_type": "execute_result"
    }
   ],
   "source": [
    "type(y.x)"
   ]
  },
  {
   "cell_type": "code",
   "execution_count": 43,
   "metadata": {},
   "outputs": [
    {
     "data": {
      "text/latex": [
       "$5000 \\; \\mathrm{kpc}$"
      ],
      "text/plain": [
       "<Quantity 5000. kpc>"
      ]
     },
     "execution_count": 43,
     "metadata": {},
     "output_type": "execute_result"
    }
   ],
   "source": [
    "y.x"
   ]
  },
  {
   "cell_type": "code",
   "execution_count": 25,
   "metadata": {
    "collapsed": true
   },
   "outputs": [
    {
     "ename": "AttributeError",
     "evalue": "module 'astropy.units' has no attribute 'mass'",
     "output_type": "error",
     "traceback": [
      "\u001b[0;31m---------------------------------------------------------------------------\u001b[0m",
      "\u001b[0;31mAttributeError\u001b[0m                            Traceback (most recent call last)",
      "\u001b[0;32m<ipython-input-25-9e3e1503bbd2>\u001b[0m in \u001b[0;36m<module>\u001b[0;34m\u001b[0m\n\u001b[0;32m----> 1\u001b[0;31m \u001b[0mu\u001b[0m\u001b[0;34m.\u001b[0m\u001b[0mmass\u001b[0m\u001b[0;34m\u001b[0m\u001b[0;34m\u001b[0m\u001b[0m\n\u001b[0m",
      "\u001b[0;31mAttributeError\u001b[0m: module 'astropy.units' has no attribute 'mass'"
     ]
    }
   ],
   "source": [
    "u.ma"
   ]
  },
  {
   "cell_type": "code",
   "execution_count": 40,
   "metadata": {},
   "outputs": [],
   "source": [
    "@u.quantity_input(a=['length', 'speed'])\n",
    "def myfunction(a):\n",
    "    return a.to_value(u.kpc)"
   ]
  },
  {
   "cell_type": "code",
   "execution_count": 41,
   "metadata": {},
   "outputs": [
    {
     "data": {
      "text/plain": [
       "5000.0"
      ]
     },
     "execution_count": 41,
     "metadata": {},
     "output_type": "execute_result"
    }
   ],
   "source": [
    "myfunction(5*u.Mpc)"
   ]
  },
  {
   "cell_type": "code",
   "execution_count": 55,
   "metadata": {},
   "outputs": [],
   "source": [
    "@attr.s\n",
    "class galaxy:\n",
    "    x = attr.ib(validator=attr.validators.instance_of(u.Quantity))\n",
    "    y = attr.ib(validator=attr.validators.instance_of(u.Quantity))\n",
    "    \n",
    "    @u.quantity_input(a=['length'])\n",
    "    def myfunction(self):\n",
    "        return self.a.to_value(u.kpc)\n",
    "    \n",
    "    @u.quantity_input(a=['mass'])\n",
    "    def myfunction2(self):\n",
    "        return self.a.to_value(u.Msun)\n",
    "\n"
   ]
  },
  {
   "cell_type": "code",
   "execution_count": 52,
   "metadata": {},
   "outputs": [],
   "source": [
    "yy=galaxy(y=3e20*u.kg,x=5*u.Mpc)"
   ]
  },
  {
   "cell_type": "code",
   "execution_count": 38,
   "metadata": {},
   "outputs": [
    {
     "data": {
      "text/plain": [
       "'length'"
      ]
     },
     "execution_count": 38,
     "metadata": {},
     "output_type": "execute_result"
    }
   ],
   "source": [
    "yy.x.unit.physical_type\n"
   ]
  },
  {
   "cell_type": "code",
   "execution_count": 5,
   "metadata": {},
   "outputs": [],
   "source": [
    "y = 3*(u.m/u.s)**2"
   ]
  },
  {
   "cell_type": "code",
   "execution_count": 6,
   "metadata": {},
   "outputs": [
    {
     "data": {
      "text/plain": [
       "'unknown'"
      ]
     },
     "execution_count": 6,
     "metadata": {},
     "output_type": "execute_result"
    }
   ],
   "source": [
    "y.unit.physical_type"
   ]
  },
  {
   "cell_type": "code",
   "execution_count": 50,
   "metadata": {},
   "outputs": [],
   "source": [
    "G = 4.299e-6 * u.kpc * (u.km / u.s) ** 2 / u.M_sun"
   ]
  },
  {
   "cell_type": "code",
   "execution_count": 55,
   "metadata": {},
   "outputs": [
    {
     "data": {
      "text/plain": [
       "4.299e-06"
      ]
     },
     "execution_count": 55,
     "metadata": {},
     "output_type": "execute_result"
    }
   ],
   "source": [
    "G.to_value()"
   ]
  },
  {
   "cell_type": "code",
   "execution_count": 16,
   "metadata": {},
   "outputs": [],
   "source": [
    "import attr\n",
    "import astropy.units as u\n",
    "import numpy as np\n",
    "\n",
    "@attr.s()\n",
    "class UnitConverter:\n",
    "    \n",
    "    default_unit = attr.ib()\n",
    "    \n",
    "    def __call__(self, v):\n",
    "        if isinstance(v, u.Quantity) and v.unit != u.dimensionless_unscaled:\n",
    "            return v\n",
    "        return v * self.default_unit\n",
    "    \n",
    "    \n",
    "def unit_attribute(valid_units, default_unit, **kwargs):\n",
    "    if \"converter\" in kwargs:\n",
    "        raise AttributeError(\"converter\")\n",
    "    converter = UnitConverter(default_unit=default_unit)\n",
    "        \n",
    "    def _unit_validator(instance, attribute, value):\n",
    "        if value.unit.physical_type not in valid_units:\n",
    "            raise ValueError(f\"Attribute '{attribute.name}' must have units of {valid_units}. Found {value.unit}\")\n",
    "    \n",
    "    validators = kwargs.pop(\"validator\", [])\n",
    "    validators.append(_unit_validator)\n",
    "    \n",
    "    return attr.ib(validator=validators, converter=converter, **kwargs)\n",
    "    \n",
    "    \n",
    "@attr.s()\n",
    "class Galaxy:\n",
    "    p = unit_attribute(valid_units=['length'], default_unit=(u.kpc))\n",
    "    \n",
    "    "
   ]
  },
  {
   "cell_type": "code",
   "execution_count": 100,
   "metadata": {},
   "outputs": [],
   "source": [
    "import attr\n",
    "import astropy.units as u\n",
    "import numpy as np\n",
    "\n",
    "@attr.s()\n",
    "class UnitConverter:\n",
    "    \n",
    "    default_unit = attr.ib()\n",
    "    \n",
    "    def __call__(self, v):\n",
    "        if isinstance(v, u.Quantity) and v.unit != u.dimensionless_unscaled:\n",
    "            return v\n",
    "        return v * self.default_unit\n",
    "    \n",
    "    \n",
    "def unit_attribute(valid_units, default_unit, **kwargs):\n",
    "    if \"converter\" in kwargs:\n",
    "        raise AttributeError(\"converter\")\n",
    "    converter = UnitConverter(default_unit=default_unit)\n",
    "        \n",
    "    def _unit_validator(instance, attribute, value):\n",
    "        if value.unit.physical_type not in valid_units:\n",
    "            raise ValueError(f\"Attribute '{attribute.name}'\"+\n",
    "                             \"must have units of {valid_units}. Found {value.unit}\")\n",
    "    \n",
    "    validators = kwargs.pop(\"validator\", [])\n",
    "    validators.append(_unit_validator)\n",
    "    \n",
    "    return attr.ib(validator=validators, converter=converter, **kwargs)\n",
    "    \n",
    "    \n",
    "@attr.s()\n",
    "class Galaxy:\n",
    "    p = unit_attribute(valid_units=['length'], default_unit=(u.kpc))\n",
    "    y = unit_attribute(default = 0 ,valid_units=['length'], default_unit=(u.kpc))\n",
    "    \n",
    "    def energy(self):\n",
    "        p = self.p.to_value(u.kpc)\n",
    "        q = p**2\n",
    "        setattr(self, 'q', q*(self.p.unit)**2)\n",
    "        return q,\n",
    "        q,\n",
    "        q\n",
    "    "
   ]
  },
  {
   "cell_type": "code",
   "execution_count": 19,
   "metadata": {},
   "outputs": [],
   "source": [
    "import uttr\n",
    "import attr\n",
    "import astropy.units as u\n",
    "import numpy as np"
   ]
  },
  {
   "cell_type": "code",
   "execution_count": 34,
   "metadata": {},
   "outputs": [],
   "source": [
    "@attr.s()\n",
    "class Galaxy:\n",
    "    p = uttr.ib(unit=u.kpc)\n",
    "    y = uttr.ib(default = 0 ,unit=u.kpc)\n",
    "    \n",
    "    arr_ = uttr.array_accessor()\n",
    "    \n",
    "    def energy(self):\n",
    "        p = self.p.to_value(u.kpc)\n",
    "        q = p**2\n",
    "        setattr(self, 'q', q*(self.p.unit)**2)\n",
    "        return q"
   ]
  },
  {
   "cell_type": "code",
   "execution_count": 35,
   "metadata": {},
   "outputs": [
    {
     "data": {
      "text/plain": [
       "Galaxy(p=<Quantity [5., 2.] km>, y=<Quantity 0. kpc>)"
      ]
     },
     "execution_count": 35,
     "metadata": {},
     "output_type": "execute_result"
    }
   ],
   "source": [
    "yy = Galaxy(p=np.array([5,2])*u.km)\n",
    "yy"
   ]
  },
  {
   "cell_type": "code",
   "execution_count": 41,
   "metadata": {},
   "outputs": [
    {
     "data": {
      "text/plain": [
       "array([1.62038964e-16, 6.48155858e-17])"
      ]
     },
     "execution_count": 41,
     "metadata": {},
     "output_type": "execute_result"
    }
   ],
   "source": [
    "yy.p.to_value(u.kpc)"
   ]
  },
  {
   "cell_type": "code",
   "execution_count": 39,
   "metadata": {},
   "outputs": [
    {
     "data": {
      "text/plain": [
       "array([1.62038964e-16, 6.48155858e-17])"
      ]
     },
     "execution_count": 39,
     "metadata": {},
     "output_type": "execute_result"
    }
   ],
   "source": [
    "yy.arr_.p"
   ]
  },
  {
   "cell_type": "code",
   "execution_count": 65,
   "metadata": {},
   "outputs": [],
   "source": [
    "q = u.Quantity(500,unit=u.Msun*(u.km/u.s)**2)"
   ]
  },
  {
   "cell_type": "code",
   "execution_count": 66,
   "metadata": {},
   "outputs": [
    {
     "data": {
      "text/plain": [
       "'energy'"
      ]
     },
     "execution_count": 66,
     "metadata": {},
     "output_type": "execute_result"
    }
   ],
   "source": [
    "q.unit.physical_type"
   ]
  },
  {
   "cell_type": "code",
   "execution_count": 118,
   "metadata": {},
   "outputs": [],
   "source": [
    "# Using @property decorator\n",
    "@attr.s\n",
    "class galaxy:\n",
    "    x = attr.ib(validator=attr.validators.instance_of(u.Quantity))\n",
    "    y = attr.ib(validator=attr.validators.instance_of(u.Quantity))\n",
    "    z = attr.ib(default = 0.*(u.km/u.s), validator=attr.validators.instance_of(u.Quantity))\n",
    "    r = attr.ib(default=None)\n",
    "    \n",
    "    @property\n",
    "    def __change_unit(self):\n",
    "        sefl.x_ = self.x.to_value(u.kpc)\n",
    "        self.y_ = self.y.to_value(u.M_sun)\n",
    "        self.z_ = self.z.to_value(u.km/u.s)\n",
    "        return self\n",
    "    \n",
    "    @property\n",
    "    def func(self,*args,**kwargs):\n",
    "        w = 2* self.x_ * self.y_\n",
    "        return w\n",
    "    \n",
    "    @property\n",
    "    def func2(self,*args,**kwargs):\n",
    "        q = 2*self.x_\n",
    "        return q\n",
    "    "
   ]
  },
  {
   "cell_type": "code",
   "execution_count": 119,
   "metadata": {},
   "outputs": [],
   "source": [
    "g = galaxy(x=5*u.Mpc, y=10*u.M_sun)"
   ]
  },
  {
   "cell_type": "code",
   "execution_count": 120,
   "metadata": {},
   "outputs": [
    {
     "data": {
      "text/plain": [
       "galaxy(x=<Quantity 5. Mpc>, y=<Quantity 10. solMass>, z=<Quantity 0. km / s>, r=None)"
      ]
     },
     "execution_count": 120,
     "metadata": {},
     "output_type": "execute_result"
    }
   ],
   "source": [
    "g"
   ]
  },
  {
   "cell_type": "code",
   "execution_count": 121,
   "metadata": {},
   "outputs": [
    {
     "ename": "AttributeError",
     "evalue": "'galaxy' object has no attribute 'x_'",
     "output_type": "error",
     "traceback": [
      "\u001b[0;31m---------------------------------------------------------------------------\u001b[0m",
      "\u001b[0;31mAttributeError\u001b[0m                            Traceback (most recent call last)",
      "\u001b[0;32m<ipython-input-121-e961b03d3931>\u001b[0m in \u001b[0;36m<module>\u001b[0;34m\u001b[0m\n\u001b[0;32m----> 1\u001b[0;31m \u001b[0mg\u001b[0m\u001b[0;34m.\u001b[0m\u001b[0mfunc\u001b[0m\u001b[0;34m(\u001b[0m\u001b[0;34m)\u001b[0m\u001b[0;34m\u001b[0m\u001b[0;34m\u001b[0m\u001b[0m\n\u001b[0m",
      "\u001b[0;32m<ipython-input-118-b3be72fcc514>\u001b[0m in \u001b[0;36mfunc\u001b[0;34m(self, *args, **kwargs)\u001b[0m\n\u001b[1;32m     16\u001b[0m     \u001b[0;34m@\u001b[0m\u001b[0mproperty\u001b[0m\u001b[0;34m\u001b[0m\u001b[0;34m\u001b[0m\u001b[0m\n\u001b[1;32m     17\u001b[0m     \u001b[0;32mdef\u001b[0m \u001b[0mfunc\u001b[0m\u001b[0;34m(\u001b[0m\u001b[0mself\u001b[0m\u001b[0;34m,\u001b[0m\u001b[0;34m*\u001b[0m\u001b[0margs\u001b[0m\u001b[0;34m,\u001b[0m\u001b[0;34m**\u001b[0m\u001b[0mkwargs\u001b[0m\u001b[0;34m)\u001b[0m\u001b[0;34m:\u001b[0m\u001b[0;34m\u001b[0m\u001b[0;34m\u001b[0m\u001b[0m\n\u001b[0;32m---> 18\u001b[0;31m         \u001b[0mw\u001b[0m \u001b[0;34m=\u001b[0m \u001b[0;36m2\u001b[0m\u001b[0;34m*\u001b[0m \u001b[0mself\u001b[0m\u001b[0;34m.\u001b[0m\u001b[0mx_\u001b[0m \u001b[0;34m*\u001b[0m \u001b[0mself\u001b[0m\u001b[0;34m.\u001b[0m\u001b[0my_\u001b[0m\u001b[0;34m\u001b[0m\u001b[0;34m\u001b[0m\u001b[0m\n\u001b[0m\u001b[1;32m     19\u001b[0m         \u001b[0;32mreturn\u001b[0m \u001b[0mw\u001b[0m\u001b[0;34m\u001b[0m\u001b[0;34m\u001b[0m\u001b[0m\n\u001b[1;32m     20\u001b[0m \u001b[0;34m\u001b[0m\u001b[0m\n",
      "\u001b[0;31mAttributeError\u001b[0m: 'galaxy' object has no attribute 'x_'"
     ]
    }
   ],
   "source": [
    "g.func()"
   ]
  },
  {
   "cell_type": "code",
   "execution_count": null,
   "metadata": {},
   "outputs": [],
   "source": [
    "def __change_units_to_array__(f):\n",
    "        def new_func(self,*args,**kwargs):    \n",
    "            self.x = self.x_.to_value(u.kpc)\n",
    "            self.y = self.y_.to_value(u.M_sun)\n",
    "            self.z = self.z_.to_value(u.km/u.s)\n",
    "            return f(self,*args,**kwargs)\n",
    "        return new_func"
   ]
  },
  {
   "cell_type": "code",
   "execution_count": null,
   "metadata": {},
   "outputs": [],
   "source": [
    "class galaxy:\n",
    "    def __init__(self,x,y):\n",
    "        self.x = x\n",
    "        self.y = y\n",
    "    \n",
    "    @property\n",
    "    def multiplicacion (self):\n",
    "        return (self.x * self.y)"
   ]
  },
  {
   "cell_type": "code",
   "execution_count": null,
   "metadata": {},
   "outputs": [],
   "source": [
    "@attr.s\n",
    "class galaxy:\n",
    "    x = attr.ib()\n",
    "    y = attr.ib()\n",
    "    \n",
    "    @property\n",
    "    def multiplicacion (self):\n",
    "        return (self.x * self.y)"
   ]
  },
  {
   "cell_type": "code",
   "execution_count": 21,
   "metadata": {},
   "outputs": [],
   "source": [
    "import astropy.units as u\n",
    "@u.quantity_input(myangle=u.arcsec)\n",
    "def myfunction(myangle):\n",
    "    return myangle**2\n",
    "    "
   ]
  },
  {
   "cell_type": "code",
   "execution_count": 24,
   "metadata": {},
   "outputs": [
    {
     "ename": "UnitsError",
     "evalue": "Argument 'myangle' to function 'myfunction' must be in units convertible to 'arcsec'.",
     "output_type": "error",
     "traceback": [
      "\u001b[0;31m---------------------------------------------------------------------------\u001b[0m",
      "\u001b[0;31mUnitsError\u001b[0m                                Traceback (most recent call last)",
      "\u001b[0;32m<ipython-input-24-640aee425452>\u001b[0m in \u001b[0;36m<module>\u001b[0;34m\u001b[0m\n\u001b[0;32m----> 1\u001b[0;31m \u001b[0mmyfunction\u001b[0m\u001b[0;34m(\u001b[0m\u001b[0;36m0.5\u001b[0m\u001b[0;34m*\u001b[0m\u001b[0mu\u001b[0m\u001b[0;34m.\u001b[0m\u001b[0mkg\u001b[0m\u001b[0;34m)\u001b[0m\u001b[0;34m\u001b[0m\u001b[0;34m\u001b[0m\u001b[0m\n\u001b[0m",
      "\u001b[0;32m~/.virtualenvs/galaxy-env/lib/python3.8/site-packages/astropy/units/decorators.py\u001b[0m in \u001b[0;36mwrapper\u001b[0;34m(*func_args, **func_kwargs)\u001b[0m\n\u001b[1;32m    243\u001b[0m                 \u001b[0;31m# Now we loop over the allowed units/physical types and validate\u001b[0m\u001b[0;34m\u001b[0m\u001b[0;34m\u001b[0m\u001b[0;34m\u001b[0m\u001b[0m\n\u001b[1;32m    244\u001b[0m                 \u001b[0;31m#   the value of the argument:\u001b[0m\u001b[0;34m\u001b[0m\u001b[0;34m\u001b[0m\u001b[0;34m\u001b[0m\u001b[0m\n\u001b[0;32m--> 245\u001b[0;31m                 _validate_arg_value(param.name, wrapped_function.__name__,\n\u001b[0m\u001b[1;32m    246\u001b[0m                                     \u001b[0marg\u001b[0m\u001b[0;34m,\u001b[0m \u001b[0mvalid_targets\u001b[0m\u001b[0;34m,\u001b[0m \u001b[0mself\u001b[0m\u001b[0;34m.\u001b[0m\u001b[0mequivalencies\u001b[0m\u001b[0;34m,\u001b[0m\u001b[0;34m\u001b[0m\u001b[0;34m\u001b[0m\u001b[0m\n\u001b[1;32m    247\u001b[0m                                     self.strict_dimensionless)\n",
      "\u001b[0;32m~/.virtualenvs/galaxy-env/lib/python3.8/site-packages/astropy/units/decorators.py\u001b[0m in \u001b[0;36m_validate_arg_value\u001b[0;34m(param_name, func_name, arg, targets, equivalencies, strict_dimensionless)\u001b[0m\n\u001b[1;32m     92\u001b[0m             \u001b[0;32mraise\u001b[0m \u001b[0mUnitsError\u001b[0m\u001b[0;34m(\u001b[0m\u001b[0;34mf\"{error_msg} one of: {targ_names}.\"\u001b[0m\u001b[0;34m)\u001b[0m\u001b[0;34m\u001b[0m\u001b[0;34m\u001b[0m\u001b[0m\n\u001b[1;32m     93\u001b[0m         \u001b[0;32melse\u001b[0m\u001b[0;34m:\u001b[0m\u001b[0;34m\u001b[0m\u001b[0;34m\u001b[0m\u001b[0m\n\u001b[0;32m---> 94\u001b[0;31m             \u001b[0;32mraise\u001b[0m \u001b[0mUnitsError\u001b[0m\u001b[0;34m(\u001b[0m\u001b[0;34mf\"{error_msg} '{str(targets[0])}'.\"\u001b[0m\u001b[0;34m)\u001b[0m\u001b[0;34m\u001b[0m\u001b[0;34m\u001b[0m\u001b[0m\n\u001b[0m\u001b[1;32m     95\u001b[0m \u001b[0;34m\u001b[0m\u001b[0m\n\u001b[1;32m     96\u001b[0m \u001b[0;34m\u001b[0m\u001b[0m\n",
      "\u001b[0;31mUnitsError\u001b[0m: Argument 'myangle' to function 'myfunction' must be in units convertible to 'arcsec'."
     ]
    }
   ],
   "source": [
    "myfunction(0.5*u.kg)"
   ]
  },
  {
   "cell_type": "code",
   "execution_count": null,
   "metadata": {},
   "outputs": [],
   "source": []
  }
 ],
 "metadata": {
  "kernelspec": {
   "display_name": "Python 3",
   "language": "python",
   "name": "python3"
  },
  "language_info": {
   "codemirror_mode": {
    "name": "ipython",
    "version": 3
   },
   "file_extension": ".py",
   "mimetype": "text/x-python",
   "name": "python",
   "nbconvert_exporter": "python",
   "pygments_lexer": "ipython3",
   "version": "3.8.6"
  },
  "widgets": {
   "application/vnd.jupyter.widget-state+json": {
    "state": {},
    "version_major": 1,
    "version_minor": 0
   }
  }
 },
 "nbformat": 4,
 "nbformat_minor": 2
}
