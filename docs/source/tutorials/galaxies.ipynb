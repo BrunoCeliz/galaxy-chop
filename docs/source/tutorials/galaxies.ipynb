{
 "cells": [
  {
   "cell_type": "code",
   "execution_count": 1,
   "metadata": {
    "nbsphinx": "hidden"
   },
   "outputs": [],
   "source": [
    "# \"nbsphinx\": \"hidden\"\n",
    "import os\n",
    "\n",
    "os.chdir(\"../../../tests/datasets\")\n",
    "\n",
    "\n",
    "# prevent write the galaxy into disk\n",
    "from unittest import mock\n",
    "\n",
    "patch = mock.patch(\"galaxychop.core.data.Galaxy.to_hdf5\", return_value=None)\n",
    "patch.start();"
   ]
  },
  {
   "cell_type": "markdown",
   "metadata": {},
   "source": [
    "# Understanding the GalaxyChop Galaxies\n",
    "GalaxyChop was designed around the definition of a Galaxy class, which encapsulates all the physical properties useful for the dynamic decomposition.\n",
    "\n",
    "This chapter aims to explain the functionalities of a class Galaxy, which is represented with a class called `galaxychop.Galaxy`.\n",
    "\n",
    "This tutorial will help the user to:\n",
    "\n",
    "- Build a galaxy object \n",
    "- Understand deeply the Galaxy Class (attributes, properties and methods)\n",
    "\n",
    "## 1. Creating the galaxy object\n",
    "To create an object of type `Galaxy`, it is necessary to collect data from a single galaxy. The data should include stellar, dark matter, and gas particles, with their masses (`m`), positions (`x`, `y`, `z`), and velocities (`vx`, `vy`, `vz`).\n",
    "\n",
    "There are several alternatives to load the `Galaxy` object:\n",
    "\n",
    "- **Load Data Manually**: Manually input the required data.\n",
    "- **Read Data from an npy File**: Load data from an npy file.\n",
    "- **Read Data from an HDF5 File**: Retrieve data from an HDF5 file.\n",
    "\n",
    "So, first of all, it is necessary to obtain a file with the appropriate content.\n",
    "\n",
    "<div class=\"alert alert-warning\">\n",
    "**Note: Units**\n",
    "\n",
    "To create a galaxy object, the data must be entered with units.\n",
    "\n",
    "If you don't provide a unit, `Galaxychop` will assign:\n",
    "\n",
    "- Solar Mass ($M\\odot$) for Masses.\n",
    "- Kiloparsec ($kpc$) for Positions.\n",
    "- $Km/s$ for velocities.\n",
    "- $(Km/s)^2$ for energy.\n",
    "\n",
    "Finally, if the user provides a unit internally during calculations, the values will be converted to the default units.\n",
    "\n",
    "For more information, please refer to the documentation of [Astropy Units](https://docs.astropy.org/en/stable/units/).\n",
    "</div>\n",
    "\n",
    "\n",
    "<div class=\"alert alert-info\">\n",
    "**Note: Files**\n",
    "\n",
    "All the files used in this tutorial can be found \n",
    "[here](https://github.com/vcristiani/galaxy-chop/raw/master/tests/datasets/gal394242.h5).\n",
    "\n",
    "For convenience, we have placed the files in the same folder where this tutorial is located.\n",
    "</div>"
   ]
  },
  {
   "cell_type": "markdown",
   "metadata": {},
   "source": [
    "### Load data manually\n",
    "\n",
    "In this example, we demonstrate how to load data from three different files, each containing information for a specific type of particle (star, gas, and dark matter). Each file includes data on mass, positions, and velocities for each particle.\n",
    "\n",
    "After that, we will create our `Galaxy` object using the [mkgalaxy()](../api/core/data.rst#galaxychop.core.data.mkgalaxy) function.\n"
   ]
  },
  {
   "cell_type": "code",
   "execution_count": 2,
   "metadata": {},
   "outputs": [
    {
     "data": {
      "text/plain": [
       "<Galaxy stars=32067, dark_matter=21156, gas=4061, potential=False>"
      ]
     },
     "execution_count": 2,
     "metadata": {},
     "output_type": "execute_result"
    }
   ],
   "source": [
    "import numpy as np\n",
    "import galaxychop as gchop\n",
    "\n",
    "star = np.load(\"star_ID_394242.npy\")\n",
    "dark = np.load(\"dark_ID_394242.npy\")\n",
    "gas = np.load(\"gas_ID_394242.npy\")\n",
    "\n",
    "gal = gchop.mkgalaxy(\n",
    "    m_s=star[:, 0],\n",
    "    x_s=star[:, 1],\n",
    "    y_s=star[:, 2],\n",
    "    z_s=star[:, 3],\n",
    "    vx_s=star[:, 4],\n",
    "    vy_s=star[:, 5],\n",
    "    vz_s=star[:, 6],\n",
    "    m_dm=dark[:, 0],\n",
    "    x_dm=dark[:, 1],\n",
    "    y_dm=dark[:, 2],\n",
    "    z_dm=dark[:, 3],\n",
    "    vx_dm=dark[:, 4],\n",
    "    vy_dm=dark[:, 5],\n",
    "    vz_dm=dark[:, 6],\n",
    "    m_g=gas[:, 0],\n",
    "    x_g=gas[:, 1],\n",
    "    y_g=gas[:, 2],\n",
    "    z_g=gas[:, 3],\n",
    "    vx_g=gas[:, 4],\n",
    "    vy_g=gas[:, 5],\n",
    "    vz_g=gas[:, 6],\n",
    ")\n",
    "gal"
   ]
  },
  {
   "cell_type": "markdown",
   "metadata": {},
   "source": [
    "#### Specific Potential Energy\n",
    "\n",
    "Specific Potential Energy can be calculated or loaded according to user requirements:\n",
    "\n",
    "##### Calculating specific potential energy\n",
    "\n",
    "The package allows the calculation of the specific potential energy of each particle.\n",
    "\n",
    "Using the [preproc.potential()](../api/preproc/potential_energy/potential_energy.inc) function, users can choose between the 'numpy' or 'fortran' backends to perform the calculation, and can set the softening value for each particle type (default=0.0).\n",
    "\n",
    "Users can validate whether the instantiated galaxy has potential by using the following sentence:"
   ]
  },
  {
   "cell_type": "code",
   "execution_count": 3,
   "metadata": {},
   "outputs": [
    {
     "name": "stdout",
     "output_type": "stream",
     "text": [
      "Galaxy has potential: False\n"
     ]
    }
   ],
   "source": [
    "print(\"Galaxy has potential:\", gal.has_potential_)"
   ]
  },
  {
   "cell_type": "markdown",
   "metadata": {},
   "source": [
    "Galaxychop provides the `gchop.preproc.potential` function, which calculates\n",
    "the potentials of particles in the galaxy and creates a new galaxy\n",
    "incorporating the calculated potentials.\n",
    "\n",
    "Two computation backends are offered based on the user's needs:\n",
    "\n",
    "- `numpy`: It is slow and consumes a lot of memory but is portable.\n",
    "- `fortran`: Depending on the installation, it may not be available. If present, it is the default choice.\n"
   ]
  },
  {
   "cell_type": "code",
   "execution_count": 4,
   "metadata": {},
   "outputs": [],
   "source": [
    "galp = gchop.preproc.potential(gal)  # this can be slow"
   ]
  },
  {
   "cell_type": "markdown",
   "metadata": {},
   "source": [
    "Now we can recheck if the new galaxy has the calculated potential:"
   ]
  },
  {
   "cell_type": "code",
   "execution_count": 5,
   "metadata": {},
   "outputs": [
    {
     "name": "stdout",
     "output_type": "stream",
     "text": [
      "Galaxy has potential: True\n"
     ]
    }
   ],
   "source": [
    "print(\"Galaxy has potential:\", galp.has_potential_)"
   ]
  },
  {
   "cell_type": "markdown",
   "metadata": {},
   "source": [
    "##### Load potential from a fila\n",
    " \n",
    "The specific potential energy for all particles can be loaded at the same time as the galaxy is instantiated. Particle potentials can be included as attributes of the `mkgalaxy` function, along with the softening parameter.\n",
    "\n",
    "<div class=\"alert alert-warning\">\n",
    "Note: Specific potential energy\n",
    "\n",
    "It's important to note that the potential energy used in GalaxyChop is the **specific potential energy**.\n",
    "</div>"
   ]
  },
  {
   "cell_type": "code",
   "execution_count": 6,
   "metadata": {},
   "outputs": [
    {
     "data": {
      "text/plain": [
       "<Galaxy stars=32067, dark_matter=21156, gas=4061, potential=True>"
      ]
     },
     "execution_count": 6,
     "metadata": {},
     "output_type": "execute_result"
    }
   ],
   "source": [
    "pot_star = np.load(\"potential_star_ID_394242.npy\")\n",
    "pot_dark = np.load(\"potential_dark_ID_394242.npy\")\n",
    "pot_gas = np.load(\"potential_gas_ID_394242.npy\")\n",
    "\n",
    "\n",
    "galpot = gchop.mkgalaxy(\n",
    "    m_s=star[:, 0],\n",
    "    x_s=star[:, 1],\n",
    "    y_s=star[:, 2],\n",
    "    z_s=star[:, 3],\n",
    "    vx_s=star[:, 4],\n",
    "    vy_s=star[:, 5],\n",
    "    vz_s=star[:, 6],\n",
    "    m_dm=dark[:, 0],\n",
    "    x_dm=dark[:, 1],\n",
    "    y_dm=dark[:, 2],\n",
    "    z_dm=dark[:, 3],\n",
    "    vx_dm=dark[:, 4],\n",
    "    vy_dm=dark[:, 5],\n",
    "    vz_dm=dark[:, 6],\n",
    "    m_g=gas[:, 0],\n",
    "    x_g=gas[:, 1],\n",
    "    y_g=gas[:, 2],\n",
    "    z_g=gas[:, 3],\n",
    "    vx_g=gas[:, 4],\n",
    "    vy_g=gas[:, 5],\n",
    "    vz_g=gas[:, 6],\n",
    "    softening_s=0.0,\n",
    "    softening_dm=0.0,\n",
    "    softening_g=0.0,\n",
    "    potential_s=pot_star[:],\n",
    "    potential_dm=pot_dark[:],\n",
    "    potential_g=pot_gas[:],\n",
    ")\n",
    "galpot"
   ]
  },
  {
   "cell_type": "code",
   "execution_count": 7,
   "metadata": {},
   "outputs": [
    {
     "name": "stdout",
     "output_type": "stream",
     "text": [
      "Galaxy has potential: True\n"
     ]
    }
   ],
   "source": [
    "print(\"Galaxy has potential:\", galpot.has_potential_)"
   ]
  },
  {
   "cell_type": "markdown",
   "metadata": {},
   "source": [
    "### Reading data from multiple \"npy\" file\n",
    "Using the same files from the previous section, the galaxy can be loaded using the [read_npy()](../api/io.rst#galaxychop.io.read_npy) function. To use this function, you need to provide the paths to the npy files and specify all column names in the file.\n",
    "\n",
    "This will generate an instance of the `gchop.Galaxy` class."
   ]
  },
  {
   "cell_type": "code",
   "execution_count": 8,
   "metadata": {},
   "outputs": [
    {
     "data": {
      "text/plain": [
       "<Galaxy stars=32067, dark_matter=21156, gas=4061, potential=False>"
      ]
     },
     "execution_count": 8,
     "metadata": {},
     "output_type": "execute_result"
    }
   ],
   "source": [
    "gal = gchop.io.read_npy(\n",
    "    \"star_ID_394242.npy\",\n",
    "    \"dark_ID_394242.npy\",\n",
    "    \"gas_ID_394242.npy\",\n",
    "    columns=[\"m\", \"x\", \"y\", \"z\", \"vx\", \"vy\", \"vz\", \"id\"],\n",
    ")\n",
    "gal"
   ]
  },
  {
   "cell_type": "markdown",
   "metadata": {},
   "source": [
    "### Reading from and Writing to a GalaxyChop-Formatted HDF File\n",
    "\n",
    "The preferred and recommended format by GalaxyChop is [HDF5](https://support.hdfgroup.org/HDF5/). In particular, we have designed an internal structure based on this format that organizes galaxy information in a simple way for use in dynamic decomposition.\n",
    "\n",
    "Assuming the galaxy is in this format, you can use the [read_hdf5()](../api/io.rst#galaxychop.io.read_hdf5) function."
   ]
  },
  {
   "cell_type": "code",
   "execution_count": 9,
   "metadata": {},
   "outputs": [
    {
     "data": {
      "text/plain": [
       "<Galaxy stars=37393, dark_matter=155101, gas=80153, potential=True>"
      ]
     },
     "execution_count": 9,
     "metadata": {},
     "output_type": "execute_result"
    }
   ],
   "source": [
    "gal = gchop.io.read_hdf5(\"gal394242.h5\")\n",
    "gal"
   ]
  },
  {
   "cell_type": "markdown",
   "metadata": {},
   "source": [
    "### Convert data in HDF5 file"
   ]
  },
  {
   "cell_type": "markdown",
   "metadata": {},
   "source": [
    "The [`Galaxy.to_hdf5()`](../api/data.rst#galaxychop.data.Galaxy.to_hdf5) method is responsible for storing a galaxy in GalaxyChop HDF5 format.\n",
    "\n",
    "Once a galaxy is instantiated, this function creates a single HDF5 file for easy reading and instantiation of the galaxy.\n",
    "\n",
    "Subsequently, users can utilize the [`read_hdf5()`](../api/io.rst#galaxychop.io.read_hdf5) function to instantiate the galaxy object (as demonstrated above).\n",
    "\n",
    "For instance, if a user wishes to save a manually instantiated galaxy:"
   ]
  },
  {
   "cell_type": "code",
   "execution_count": 10,
   "metadata": {},
   "outputs": [],
   "source": [
    "gal.to_hdf5(\"newfile.h5\")"
   ]
  },
  {
   "cell_type": "markdown",
   "metadata": {},
   "source": [
    "## 2. `gchop.Galaxy` objects\n",
    "In this tutorial we use a preloaded dataset offered by GalaxyChop. The data correspond to a galaxy belonging to the Illustris-TNG hydrodynamic cosmological simulations (for more information see https://www.tng-project.org/)."
   ]
  },
  {
   "cell_type": "code",
   "execution_count": 11,
   "metadata": {},
   "outputs": [
    {
     "data": {
      "text/plain": [
       "<Galaxy stars=37393, dark_matter=155101, gas=80153, potential=True>"
      ]
     },
     "execution_count": 11,
     "metadata": {},
     "output_type": "execute_result"
    }
   ],
   "source": [
    "import galaxychop as gchop\n",
    "\n",
    "gal = gchop.io.read_hdf5(\"gal394242.h5\")\n",
    "gal"
   ]
  },
  {
   "cell_type": "markdown",
   "metadata": {},
   "source": [
    "### `Galaxy` Attributes\n",
    "Galaxies internally consist of three sets of particles, one for *stars*, one for *dark_matter* and one for *gas*.\n",
    "\n",
    "All these sets can be accessed, and expose a set of physical properties for each particle:\n",
    "- position (x,y,z)\n",
    "- velocity (vx,vy,vz)\n",
    "- mass\n",
    "- specific potential energy and softening\n",
    "  \n",
    "For example, if the user wanted to access the positions (x, y, and z) of the stellar particles:"
   ]
  },
  {
   "cell_type": "code",
   "execution_count": 12,
   "metadata": {},
   "outputs": [
    {
     "name": "stdout",
     "output_type": "stream",
     "text": [
      "[ 4.56302827e-02 -9.44694000e-02 -1.72212507e-01 ...  2.26734653e+01\n",
      "  2.19026432e+02  9.21102196e+00] kpc\n",
      "[ 2.37918275e-02  5.48672004e-02 -5.10932153e-04 ... -5.65387956e+00\n",
      "  1.62543699e+02  1.15887802e+01] kpc\n",
      "[-3.64265980e-02  6.08437429e-03  4.76002183e-02 ... -5.40957006e+01\n",
      "  7.41502485e+01  7.57378924e+00] kpc\n"
     ]
    }
   ],
   "source": [
    "print(gal.stars.x)\n",
    "print(gal.stars.y)\n",
    "print(gal.stars.z)"
   ]
  },
  {
   "cell_type": "markdown",
   "metadata": {},
   "source": [
    "It can be observed that the positions have units which can be bypassed using the `arr_ accessor`."
   ]
  },
  {
   "cell_type": "markdown",
   "metadata": {},
   "source": [
    "For example if the user would like to access the gas masses (m) but without units:"
   ]
  },
  {
   "cell_type": "code",
   "execution_count": 13,
   "metadata": {},
   "outputs": [
    {
     "data": {
      "text/plain": [
       "array([2579202.70087197, 1368584.63520184, 1392260.60127839, ...,\n",
       "       1690579.66559194, 1210974.6603528 , 1023048.3894702 ])"
      ]
     },
     "execution_count": 13,
     "metadata": {},
     "output_type": "execute_result"
    }
   ],
   "source": [
    "gal.gas.arr_.m"
   ]
  },
  {
   "cell_type": "code",
   "execution_count": 14,
   "metadata": {},
   "outputs": [
    {
     "data": {
      "text/latex": [
       "$[-195699.62,~-196176.96,~-195152.12,~\\dots,~-64131.847,~-19698.41,~-111482.52] \\; \\mathrm{\\frac{km^{2}}{s^{2}}}$"
      ],
      "text/plain": [
       "<Quantity [-195699.62020621, -196176.96227715, -195152.12016824, ...,\n",
       "            -64131.84687171,  -19698.40986361, -111482.51641398] km2 / s2>"
      ]
     },
     "execution_count": 14,
     "metadata": {},
     "output_type": "execute_result"
    }
   ],
   "source": [
    "gal.stars.potential"
   ]
  },
  {
   "cell_type": "code",
   "execution_count": 15,
   "metadata": {},
   "outputs": [
    {
     "data": {
      "text/plain": [
       "0.0"
      ]
     },
     "execution_count": 15,
     "metadata": {},
     "output_type": "execute_result"
    }
   ],
   "source": [
    "gal.stars.softening"
   ]
  },
  {
   "cell_type": "markdown",
   "metadata": {},
   "source": [
    "### Properties\n",
    "\n",
    "The galaxy object contains a series of physical properties:\n",
    "\n",
    "- Specific potential energy: `gal.potential_energy_`\n",
    "- Specific kinetic energy: `gal.kinetic_energy_`\n",
    "- Specific total energy: `gal.total_energy_`\n",
    "- Specific angular momentum: `gal.angular_momentum_`\n",
    "\n",
    "Additionally, it provides some utilities for galaxy visualization (`gal.plot`),  stellar dynamics (`gal.stellar_dynamics()`) and conversion to other scientifically useful formats like [Pandas DataFrame](https://pandas.pydata.org/) (`gal.to_dataframe()`) and dictionaries (`gal.to_dict()`).\n"
   ]
  },
  {
   "cell_type": "markdown",
   "metadata": {},
   "source": [
    "The user can access all properties in the following way:"
   ]
  },
  {
   "cell_type": "code",
   "execution_count": 16,
   "metadata": {},
   "outputs": [
    {
     "data": {
      "text/plain": [
       "(<Quantity [  290.29311099,   274.78291519,   193.69961166, ...,\n",
       "            47321.05828222,  5566.6697092 , 98418.90008429] km2 / s2>,\n",
       " <Quantity [  852.93881446,   352.11250177,   624.76341209, ...,\n",
       "            18079.36558461, 41300.9614637 , 19372.25963527] km2 / s2>,\n",
       " <Quantity [ 2635.95518371,  2705.79372566,  2861.71063971, ...,\n",
       "            14223.96178901,  5860.38456405, 22828.74747091] km2 / s2>)"
      ]
     },
     "execution_count": 16,
     "metadata": {},
     "output_type": "execute_result"
    }
   ],
   "source": [
    "gal.kinetic_energy_"
   ]
  },
  {
   "cell_type": "code",
   "execution_count": 17,
   "metadata": {},
   "outputs": [
    {
     "data": {
      "text/plain": [
       "(<Quantity [-195699.62020621, -196176.96227715, -195152.12016824, ...,\n",
       "             -64131.84687171,  -19698.40986361, -111482.51641398] km2 / s2>,\n",
       " <Quantity [-194263.97464369, -193864.21447827, -193553.97933144, ...,\n",
       "             -17664.02979352,  -38869.77034611,  -22301.25734911] km2 / s2>,\n",
       " <Quantity [-189770.98821548, -189253.15479293, -189087.35939466, ...,\n",
       "             -17358.73518297,  -23427.83380647,  -37321.18217729] km2 / s2>)"
      ]
     },
     "execution_count": 17,
     "metadata": {},
     "output_type": "execute_result"
    }
   ],
   "source": [
    "gal.potential_energy_"
   ]
  },
  {
   "cell_type": "code",
   "execution_count": 18,
   "metadata": {},
   "outputs": [
    {
     "data": {
      "text/plain": [
       "(<Quantity [-195409.32709522, -195902.17936196, -194958.42055658, ...,\n",
       "             -16810.78858949,  -14131.74015441,  -13063.61632969] km2 / s2>,\n",
       " <Quantity [-193411.03582923, -193512.1019765 , -192929.21591935, ...,\n",
       "                415.3357911 ,    2431.19111759,   -2928.99771383] km2 / s2>,\n",
       " <Quantity [-187135.03303177, -186547.36106727, -186225.64875495, ...,\n",
       "              -3134.77339396,  -17567.44924242,  -14492.43470638] km2 / s2>)"
      ]
     },
     "execution_count": 18,
     "metadata": {},
     "output_type": "execute_result"
    }
   ],
   "source": [
    "gal.total_energy_"
   ]
  },
  {
   "cell_type": "code",
   "execution_count": 19,
   "metadata": {},
   "outputs": [
    {
     "data": {
      "text/plain": [
       "(<Quantity [[-7.36532741e-01, -4.88759361e-01, -3.25631395e-01, ...,\n",
       "             -2.39006603e+03,  1.28946894e+04, -2.85633920e+03],\n",
       "            [ 5.39572086e-01, -6.27389637e-01, -2.57229453e+00, ...,\n",
       "              7.17435118e+03, -1.75043662e+04,  5.05351834e+03],\n",
       "            [-5.70209471e-01, -1.93112555e+00, -1.20571016e+00, ...,\n",
       "             -1.75159940e+03,  2.82488820e+02, -4.25867540e+03]] km kpc / s>,\n",
       " <Quantity [[ 2.11375427e+00, -5.42667892e+00,  3.19151656e+00, ...,\n",
       "              2.35345676e+04, -1.04113281e+03,  1.86241437e+04],\n",
       "            [-1.80916473e+00, -3.94468528e+00, -6.73979116e+00, ...,\n",
       "              5.73667413e+04,  6.76267831e+03,  2.45688072e+04],\n",
       "            [ 9.36192157e+00, -3.11414518e+00,  6.08382985e+00, ...,\n",
       "             -8.85237745e+03, -3.51191392e+02,  5.28944356e+03]] km kpc / s>,\n",
       " <Quantity [[-1.88726105e+01, -3.08328164e+01, -2.82274674e+00, ...,\n",
       "             -5.40194739e+04, -4.47212298e+03, -4.14004668e+03],\n",
       "            [ 1.23042347e+01,  9.91757106e+00,  1.87216712e+01, ...,\n",
       "              1.24123231e+04, -1.44675944e+04,  3.75071450e+03],\n",
       "            [-1.20641368e+01, -7.77819371e+00, -1.81406337e+01, ...,\n",
       "             -1.86125947e+04,  3.50463269e+03, -1.21177132e+04]] km kpc / s>)"
      ]
     },
     "execution_count": 19,
     "metadata": {},
     "output_type": "execute_result"
    }
   ],
   "source": [
    "gal.angular_momentum_"
   ]
  },
  {
   "cell_type": "markdown",
   "metadata": {},
   "source": [
    "#### Stellar dynamics\n",
    "\n",
    "In GalaxyChop, it is possible to calculate information about the circularity of star particles in a galaxy. This feature is valuable for understanding how stars move within a galaxy and how they are distributed in terms of their orbits.\n",
    "\n",
    "This functionality is available in the method `Galaxy.stellar_dynamics()`\n",
    "\n",
    "<div class=\"alert alert-warning\">\n",
    "**Note: Stellar dynamics without potentials**\n",
    "\n",
    "Attempting to calculate stellar dynamics in a galaxy without a gravitational potential will result in a `NoGravitationalPotentialError` exception with the message \"You cannot calculate stellar dynamics in a galaxy without potential.\"\n",
    "\n",
    "</div>"
   ]
  },
  {
   "cell_type": "code",
   "execution_count": 20,
   "metadata": {},
   "outputs": [
    {
     "data": {
      "text/plain": [
       "<_GalaxyStellarDynamics normalized_star_energy=32067, normalized_star_Jz=32067, eps=32067, eps_r=32067, x=39, y=39>"
      ]
     },
     "execution_count": 20,
     "metadata": {},
     "output_type": "execute_result"
    }
   ],
   "source": [
    "sd = galp.stellar_dynamics()\n",
    "sd"
   ]
  },
  {
   "cell_type": "markdown",
   "metadata": {},
   "source": [
    "The resulting object has the attributes\n",
    "\n",
    "- Normalized specific energy of stars (normalized_star_energy)\n",
    "- Z-component normalized specific angular momentum of the stars (normalized_star_Jz)\n",
    "- Circularity parameters:\n",
    "  - `eps`: J_z/J_circ\n",
    "  - `eps_r`: J_p/J_circ\n",
    "- Normalized specific energy for the particle with the maximum z-component of the normalized specific angular momentum per bin (`x`)\n",
    "- Maximum value of the z-component of the normalized specific angular momentum per bin (`y`)"
   ]
  },
  {
   "cell_type": "code",
   "execution_count": 21,
   "metadata": {},
   "outputs": [
    {
     "data": {
      "text/plain": [
       "array([-0.09234298, -0.12731688, -0.08824435, ...,         nan,\n",
       "               nan,         nan])"
      ]
     },
     "execution_count": 21,
     "metadata": {},
     "output_type": "execute_result"
    }
   ],
   "source": [
    "sd.eps"
   ]
  },
  {
   "cell_type": "code",
   "execution_count": 22,
   "metadata": {},
   "outputs": [
    {
     "data": {
      "text/plain": [
       "array([-1.        , -0.95260179, -0.90285887, -0.85373654, -0.80123988,\n",
       "       -0.78594174, -0.72443925, -0.66475309, -0.60229864, -0.55060186,\n",
       "       -0.50151692, -0.45376245, -0.43706091, -0.35665   , -0.31299899,\n",
       "       -0.26006532, -0.20274155, -0.18498082, -0.10139622, -0.09538775,\n",
       "       -0.09264407, -0.08565859, -0.08168659, -0.07883926, -0.07246792,\n",
       "       -0.06733929, -0.06072501, -0.0577072 , -0.05340641, -0.04552381,\n",
       "       -0.0449831 , -0.0386766 , -0.03357314, -0.0295248 , -0.02431522,\n",
       "       -0.01937332, -0.01229056, -0.00652479, -0.00475081])"
      ]
     },
     "execution_count": 22,
     "metadata": {},
     "output_type": "execute_result"
    }
   ],
   "source": [
    "sd.x"
   ]
  },
  {
   "cell_type": "markdown",
   "metadata": {},
   "source": [
    "#### Visualisation\n",
    "\n",
    "The user can visualize the data graphically using the [plot()](../api/core/plot.rst) method.\n",
    "\n",
    "The default plot is a pair plot that splits the data by particle type."
   ]
  },
  {
   "cell_type": "code",
   "execution_count": 23,
   "metadata": {},
   "outputs": [
    {
     "data": {
      "text/plain": [
       "<seaborn.axisgrid.PairGrid at 0x7f879edc4130>"
      ]
     },
     "execution_count": 23,
     "metadata": {},
     "output_type": "execute_result"
    },
    {
     "data": {
      "image/png": "[encoded data removed]",
      "text/plain": [
       "<Figure size 637.125x540 with 12 Axes>"
      ]
     },
     "metadata": {
      "needs_background": "light"
     },
     "output_type": "display_data"
    }
   ],
   "source": [
    "gal.plot.pairplot()"
   ]
  },
  {
   "cell_type": "markdown",
   "metadata": {},
   "source": [
    "For more details about the galaxy plotting options see [Plotting Tutorial](index.rst)."
   ]
  },
  {
   "cell_type": "markdown",
   "metadata": {},
   "source": [
    "Also, the user can see it in data frame format using the property [to_dataframe()](../api/core/data.rst#galaxychop.core.data.Galaxy.to_dataframe).\n",
    "This method create Pandas DataFrames with the particle data."
   ]
  },
  {
   "cell_type": "code",
   "execution_count": 24,
   "metadata": {},
   "outputs": [
    {
     "data": {
      "text/html": [
       "<div>\n",
       "<style scoped>\n",
       "    .dataframe tbody tr th:only-of-type {\n",
       "        vertical-align: middle;\n",
       "    }\n",
       "\n",
       "    .dataframe tbody tr th {\n",
       "        vertical-align: top;\n",
       "    }\n",
       "\n",
       "    .dataframe thead th {\n",
       "        text-align: right;\n",
       "    }\n",
       "</style>\n",
       "<table border=\"1\" class=\"dataframe\">\n",
       "  <thead>\n",
       "    <tr style=\"text-align: right;\">\n",
       "      <th></th>\n",
       "      <th>ptype</th>\n",
       "      <th>ptypev</th>\n",
       "      <th>m</th>\n",
       "      <th>x</th>\n",
       "      <th>y</th>\n",
       "      <th>z</th>\n",
       "      <th>vx</th>\n",
       "      <th>vy</th>\n",
       "      <th>vz</th>\n",
       "      <th>softening</th>\n",
       "      <th>potential</th>\n",
       "      <th>kinetic_energy</th>\n",
       "      <th>total_energy</th>\n",
       "      <th>Jx</th>\n",
       "      <th>Jy</th>\n",
       "      <th>Jz</th>\n",
       "    </tr>\n",
       "  </thead>\n",
       "  <tbody>\n",
       "    <tr>\n",
       "      <th>0</th>\n",
       "      <td>stars</td>\n",
       "      <td>0</td>\n",
       "      <td>5.224283e+05</td>\n",
       "      <td>0.045630</td>\n",
       "      <td>0.023792</td>\n",
       "      <td>-0.036427</td>\n",
       "      <td>10.773575</td>\n",
       "      <td>-6.878906</td>\n",
       "      <td>-20.425400</td>\n",
       "      <td>0.0</td>\n",
       "      <td>-195699.620206</td>\n",
       "      <td>290.293111</td>\n",
       "      <td>-195409.327095</td>\n",
       "      <td>-0.736533</td>\n",
       "      <td>0.539572</td>\n",
       "      <td>-0.570209</td>\n",
       "    </tr>\n",
       "    <tr>\n",
       "      <th>1</th>\n",
       "      <td>stars</td>\n",
       "      <td>0</td>\n",
       "      <td>9.745897e+05</td>\n",
       "      <td>-0.094469</td>\n",
       "      <td>0.054867</td>\n",
       "      <td>0.006084</td>\n",
       "      <td>20.282349</td>\n",
       "      <td>8.661957</td>\n",
       "      <td>-7.947495</td>\n",
       "      <td>0.0</td>\n",
       "      <td>-196176.962277</td>\n",
       "      <td>274.782915</td>\n",
       "      <td>-195902.179362</td>\n",
       "      <td>-0.488759</td>\n",
       "      <td>-0.627390</td>\n",
       "      <td>-1.931126</td>\n",
       "    </tr>\n",
       "    <tr>\n",
       "      <th>2</th>\n",
       "      <td>stars</td>\n",
       "      <td>0</td>\n",
       "      <td>6.935776e+05</td>\n",
       "      <td>-0.172213</td>\n",
       "      <td>-0.000511</td>\n",
       "      <td>0.047600</td>\n",
       "      <td>-14.897980</td>\n",
       "      <td>6.957092</td>\n",
       "      <td>-10.818886</td>\n",
       "      <td>0.0</td>\n",
       "      <td>-195152.120168</td>\n",
       "      <td>193.699612</td>\n",
       "      <td>-194958.420557</td>\n",
       "      <td>-0.325631</td>\n",
       "      <td>-2.572295</td>\n",
       "      <td>-1.205710</td>\n",
       "    </tr>\n",
       "    <tr>\n",
       "      <th>3</th>\n",
       "      <td>stars</td>\n",
       "      <td>0</td>\n",
       "      <td>1.070959e+06</td>\n",
       "      <td>-0.081766</td>\n",
       "      <td>-0.116694</td>\n",
       "      <td>0.177133</td>\n",
       "      <td>-8.665253</td>\n",
       "      <td>-4.337433</td>\n",
       "      <td>5.506927</td>\n",
       "      <td>0.0</td>\n",
       "      <td>-194695.767625</td>\n",
       "      <td>62.113089</td>\n",
       "      <td>-194633.654536</td>\n",
       "      <td>0.125676</td>\n",
       "      <td>-1.084623</td>\n",
       "      <td>-0.656530</td>\n",
       "    </tr>\n",
       "    <tr>\n",
       "      <th>4</th>\n",
       "      <td>stars</td>\n",
       "      <td>0</td>\n",
       "      <td>6.013803e+05</td>\n",
       "      <td>0.020734</td>\n",
       "      <td>0.023444</td>\n",
       "      <td>0.101449</td>\n",
       "      <td>23.508469</td>\n",
       "      <td>-7.842865</td>\n",
       "      <td>-3.754723</td>\n",
       "      <td>0.0</td>\n",
       "      <td>-195703.942688</td>\n",
       "      <td>314.128285</td>\n",
       "      <td>-195389.814402</td>\n",
       "      <td>0.707622</td>\n",
       "      <td>2.462754</td>\n",
       "      <td>-0.713749</td>\n",
       "    </tr>\n",
       "    <tr>\n",
       "      <th>...</th>\n",
       "      <td>...</td>\n",
       "      <td>...</td>\n",
       "      <td>...</td>\n",
       "      <td>...</td>\n",
       "      <td>...</td>\n",
       "      <td>...</td>\n",
       "      <td>...</td>\n",
       "      <td>...</td>\n",
       "      <td>...</td>\n",
       "      <td>...</td>\n",
       "      <td>...</td>\n",
       "      <td>...</td>\n",
       "      <td>...</td>\n",
       "      <td>...</td>\n",
       "      <td>...</td>\n",
       "      <td>...</td>\n",
       "    </tr>\n",
       "    <tr>\n",
       "      <th>272642</th>\n",
       "      <td>gas</td>\n",
       "      <td>2</td>\n",
       "      <td>1.429845e+06</td>\n",
       "      <td>44.246486</td>\n",
       "      <td>-253.661747</td>\n",
       "      <td>-240.888732</td>\n",
       "      <td>-44.183670</td>\n",
       "      <td>-152.597656</td>\n",
       "      <td>69.413803</td>\n",
       "      <td>0.0</td>\n",
       "      <td>-17314.963254</td>\n",
       "      <td>15028.258726</td>\n",
       "      <td>-2286.704528</td>\n",
       "      <td>-54366.682527</td>\n",
       "      <td>7572.031389</td>\n",
       "      <td>-17959.617014</td>\n",
       "    </tr>\n",
       "    <tr>\n",
       "      <th>272643</th>\n",
       "      <td>gas</td>\n",
       "      <td>2</td>\n",
       "      <td>1.436841e+06</td>\n",
       "      <td>-37.380023</td>\n",
       "      <td>-250.988099</td>\n",
       "      <td>-125.929722</td>\n",
       "      <td>-69.019005</td>\n",
       "      <td>-67.030350</td>\n",
       "      <td>35.370728</td>\n",
       "      <td>0.0</td>\n",
       "      <td>-20910.620132</td>\n",
       "      <td>5253.889589</td>\n",
       "      <td>-15656.730543</td>\n",
       "      <td>-17318.744973</td>\n",
       "      <td>10013.702701</td>\n",
       "      <td>-14817.352798</td>\n",
       "    </tr>\n",
       "    <tr>\n",
       "      <th>272644</th>\n",
       "      <td>gas</td>\n",
       "      <td>2</td>\n",
       "      <td>1.690580e+06</td>\n",
       "      <td>16.542737</td>\n",
       "      <td>-267.716920</td>\n",
       "      <td>-226.546536</td>\n",
       "      <td>-61.974457</td>\n",
       "      <td>-122.167450</td>\n",
       "      <td>98.398193</td>\n",
       "      <td>0.0</td>\n",
       "      <td>-17358.735183</td>\n",
       "      <td>14223.961789</td>\n",
       "      <td>-3134.773394</td>\n",
       "      <td>-54019.473934</td>\n",
       "      <td>12412.323127</td>\n",
       "      <td>-18612.594663</td>\n",
       "    </tr>\n",
       "    <tr>\n",
       "      <th>272645</th>\n",
       "      <td>gas</td>\n",
       "      <td>2</td>\n",
       "      <td>1.210975e+06</td>\n",
       "      <td>-220.426329</td>\n",
       "      <td>79.421367</td>\n",
       "      <td>46.584759</td>\n",
       "      <td>-96.530602</td>\n",
       "      <td>18.881409</td>\n",
       "      <td>-45.233887</td>\n",
       "      <td>0.0</td>\n",
       "      <td>-23427.833806</td>\n",
       "      <td>5860.384564</td>\n",
       "      <td>-17567.449242</td>\n",
       "      <td>-4472.122980</td>\n",
       "      <td>-14467.594426</td>\n",
       "      <td>3504.632690</td>\n",
       "    </tr>\n",
       "    <tr>\n",
       "      <th>272646</th>\n",
       "      <td>gas</td>\n",
       "      <td>2</td>\n",
       "      <td>1.023048e+06</td>\n",
       "      <td>95.365774</td>\n",
       "      <td>-72.813703</td>\n",
       "      <td>-55.119490</td>\n",
       "      <td>73.510818</td>\n",
       "      <td>-183.192642</td>\n",
       "      <td>-81.817543</td>\n",
       "      <td>0.0</td>\n",
       "      <td>-37321.182177</td>\n",
       "      <td>22828.747471</td>\n",
       "      <td>-14492.434706</td>\n",
       "      <td>-4140.046679</td>\n",
       "      <td>3750.714504</td>\n",
       "      <td>-12117.713187</td>\n",
       "    </tr>\n",
       "  </tbody>\n",
       "</table>\n",
       "<p>272647 rows × 16 columns</p>\n",
       "</div>"
      ],
      "text/plain": [
       "        ptype  ptypev             m           x           y           z  \\\n",
       "0       stars       0  5.224283e+05    0.045630    0.023792   -0.036427   \n",
       "1       stars       0  9.745897e+05   -0.094469    0.054867    0.006084   \n",
       "2       stars       0  6.935776e+05   -0.172213   -0.000511    0.047600   \n",
       "3       stars       0  1.070959e+06   -0.081766   -0.116694    0.177133   \n",
       "4       stars       0  6.013803e+05    0.020734    0.023444    0.101449   \n",
       "...       ...     ...           ...         ...         ...         ...   \n",
       "272642    gas       2  1.429845e+06   44.246486 -253.661747 -240.888732   \n",
       "272643    gas       2  1.436841e+06  -37.380023 -250.988099 -125.929722   \n",
       "272644    gas       2  1.690580e+06   16.542737 -267.716920 -226.546536   \n",
       "272645    gas       2  1.210975e+06 -220.426329   79.421367   46.584759   \n",
       "272646    gas       2  1.023048e+06   95.365774  -72.813703  -55.119490   \n",
       "\n",
       "               vx          vy         vz  softening      potential  \\\n",
       "0       10.773575   -6.878906 -20.425400        0.0 -195699.620206   \n",
       "1       20.282349    8.661957  -7.947495        0.0 -196176.962277   \n",
       "2      -14.897980    6.957092 -10.818886        0.0 -195152.120168   \n",
       "3       -8.665253   -4.337433   5.506927        0.0 -194695.767625   \n",
       "4       23.508469   -7.842865  -3.754723        0.0 -195703.942688   \n",
       "...           ...         ...        ...        ...            ...   \n",
       "272642 -44.183670 -152.597656  69.413803        0.0  -17314.963254   \n",
       "272643 -69.019005  -67.030350  35.370728        0.0  -20910.620132   \n",
       "272644 -61.974457 -122.167450  98.398193        0.0  -17358.735183   \n",
       "272645 -96.530602   18.881409 -45.233887        0.0  -23427.833806   \n",
       "272646  73.510818 -183.192642 -81.817543        0.0  -37321.182177   \n",
       "\n",
       "        kinetic_energy   total_energy            Jx            Jy  \\\n",
       "0           290.293111 -195409.327095     -0.736533      0.539572   \n",
       "1           274.782915 -195902.179362     -0.488759     -0.627390   \n",
       "2           193.699612 -194958.420557     -0.325631     -2.572295   \n",
       "3            62.113089 -194633.654536      0.125676     -1.084623   \n",
       "4           314.128285 -195389.814402      0.707622      2.462754   \n",
       "...                ...            ...           ...           ...   \n",
       "272642    15028.258726   -2286.704528 -54366.682527   7572.031389   \n",
       "272643     5253.889589  -15656.730543 -17318.744973  10013.702701   \n",
       "272644    14223.961789   -3134.773394 -54019.473934  12412.323127   \n",
       "272645     5860.384564  -17567.449242  -4472.122980 -14467.594426   \n",
       "272646    22828.747471  -14492.434706  -4140.046679   3750.714504   \n",
       "\n",
       "                  Jz  \n",
       "0          -0.570209  \n",
       "1          -1.931126  \n",
       "2          -1.205710  \n",
       "3          -0.656530  \n",
       "4          -0.713749  \n",
       "...              ...  \n",
       "272642 -17959.617014  \n",
       "272643 -14817.352798  \n",
       "272644 -18612.594663  \n",
       "272645   3504.632690  \n",
       "272646 -12117.713187  \n",
       "\n",
       "[272647 rows x 16 columns]"
      ]
     },
     "execution_count": 24,
     "metadata": {},
     "output_type": "execute_result"
    }
   ],
   "source": [
    "gal.to_dataframe()"
   ]
  },
  {
   "cell_type": "markdown",
   "metadata": {},
   "source": [
    "It is also possible to create the DataFrame the data only for a particular subset of particles:\n",
    " \n",
    "Example of DataFrame using the particle set method for gas particles only:"
   ]
  },
  {
   "cell_type": "code",
   "execution_count": 25,
   "metadata": {},
   "outputs": [
    {
     "data": {
      "text/html": [
       "<div>\n",
       "<style scoped>\n",
       "    .dataframe tbody tr th:only-of-type {\n",
       "        vertical-align: middle;\n",
       "    }\n",
       "\n",
       "    .dataframe tbody tr th {\n",
       "        vertical-align: top;\n",
       "    }\n",
       "\n",
       "    .dataframe thead th {\n",
       "        text-align: right;\n",
       "    }\n",
       "</style>\n",
       "<table border=\"1\" class=\"dataframe\">\n",
       "  <thead>\n",
       "    <tr style=\"text-align: right;\">\n",
       "      <th></th>\n",
       "      <th>ptype</th>\n",
       "      <th>ptypev</th>\n",
       "      <th>m</th>\n",
       "      <th>x</th>\n",
       "      <th>y</th>\n",
       "      <th>z</th>\n",
       "      <th>vx</th>\n",
       "      <th>vy</th>\n",
       "      <th>vz</th>\n",
       "      <th>softening</th>\n",
       "      <th>potential</th>\n",
       "      <th>kinetic_energy</th>\n",
       "      <th>total_energy</th>\n",
       "      <th>Jx</th>\n",
       "      <th>Jy</th>\n",
       "      <th>Jz</th>\n",
       "    </tr>\n",
       "  </thead>\n",
       "  <tbody>\n",
       "    <tr>\n",
       "      <th>0</th>\n",
       "      <td>gas</td>\n",
       "      <td>2</td>\n",
       "      <td>2.579203e+06</td>\n",
       "      <td>0.255179</td>\n",
       "      <td>-0.317399</td>\n",
       "      <td>-0.722907</td>\n",
       "      <td>1.739517</td>\n",
       "      <td>-49.440781</td>\n",
       "      <td>-53.145966</td>\n",
       "      <td>0.0</td>\n",
       "      <td>-189770.988215</td>\n",
       "      <td>2635.955184</td>\n",
       "      <td>-187135.033032</td>\n",
       "      <td>-18.872611</td>\n",
       "      <td>12.304235</td>\n",
       "      <td>-12.064137</td>\n",
       "    </tr>\n",
       "    <tr>\n",
       "      <th>1</th>\n",
       "      <td>gas</td>\n",
       "      <td>2</td>\n",
       "      <td>1.368585e+06</td>\n",
       "      <td>0.144436</td>\n",
       "      <td>-0.273204</td>\n",
       "      <td>-0.920894</td>\n",
       "      <td>-2.254318</td>\n",
       "      <td>-49.588120</td>\n",
       "      <td>-54.291103</td>\n",
       "      <td>0.0</td>\n",
       "      <td>-189253.154793</td>\n",
       "      <td>2705.793726</td>\n",
       "      <td>-186547.361067</td>\n",
       "      <td>-30.832816</td>\n",
       "      <td>9.917571</td>\n",
       "      <td>-7.778194</td>\n",
       "    </tr>\n",
       "    <tr>\n",
       "      <th>2</th>\n",
       "      <td>gas</td>\n",
       "      <td>2</td>\n",
       "      <td>1.392261e+06</td>\n",
       "      <td>0.436985</td>\n",
       "      <td>-0.442400</td>\n",
       "      <td>-0.524567</td>\n",
       "      <td>9.799744</td>\n",
       "      <td>-51.434387</td>\n",
       "      <td>-54.606686</td>\n",
       "      <td>0.0</td>\n",
       "      <td>-189087.359395</td>\n",
       "      <td>2861.710640</td>\n",
       "      <td>-186225.648755</td>\n",
       "      <td>-2.822747</td>\n",
       "      <td>18.721671</td>\n",
       "      <td>-18.140634</td>\n",
       "    </tr>\n",
       "    <tr>\n",
       "      <th>3</th>\n",
       "      <td>gas</td>\n",
       "      <td>2</td>\n",
       "      <td>1.548436e+06</td>\n",
       "      <td>0.070196</td>\n",
       "      <td>-0.149943</td>\n",
       "      <td>-0.991583</td>\n",
       "      <td>6.844009</td>\n",
       "      <td>-41.484070</td>\n",
       "      <td>-62.540501</td>\n",
       "      <td>0.0</td>\n",
       "      <td>-189119.151755</td>\n",
       "      <td>2839.541367</td>\n",
       "      <td>-186279.610388</td>\n",
       "      <td>-31.757357</td>\n",
       "      <td>-2.396288</td>\n",
       "      <td>-1.885816</td>\n",
       "    </tr>\n",
       "    <tr>\n",
       "      <th>4</th>\n",
       "      <td>gas</td>\n",
       "      <td>2</td>\n",
       "      <td>1.936515e+06</td>\n",
       "      <td>0.458794</td>\n",
       "      <td>-0.134292</td>\n",
       "      <td>-0.716227</td>\n",
       "      <td>-18.536072</td>\n",
       "      <td>-52.246674</td>\n",
       "      <td>-51.899296</td>\n",
       "      <td>0.0</td>\n",
       "      <td>-189389.528067</td>\n",
       "      <td>2883.418881</td>\n",
       "      <td>-186506.109186</td>\n",
       "      <td>-30.450792</td>\n",
       "      <td>37.087136</td>\n",
       "      <td>-26.459731</td>\n",
       "    </tr>\n",
       "    <tr>\n",
       "      <th>...</th>\n",
       "      <td>...</td>\n",
       "      <td>...</td>\n",
       "      <td>...</td>\n",
       "      <td>...</td>\n",
       "      <td>...</td>\n",
       "      <td>...</td>\n",
       "      <td>...</td>\n",
       "      <td>...</td>\n",
       "      <td>...</td>\n",
       "      <td>...</td>\n",
       "      <td>...</td>\n",
       "      <td>...</td>\n",
       "      <td>...</td>\n",
       "      <td>...</td>\n",
       "      <td>...</td>\n",
       "      <td>...</td>\n",
       "    </tr>\n",
       "    <tr>\n",
       "      <th>80148</th>\n",
       "      <td>gas</td>\n",
       "      <td>2</td>\n",
       "      <td>1.429845e+06</td>\n",
       "      <td>44.246486</td>\n",
       "      <td>-253.661747</td>\n",
       "      <td>-240.888732</td>\n",
       "      <td>-44.183670</td>\n",
       "      <td>-152.597656</td>\n",
       "      <td>69.413803</td>\n",
       "      <td>0.0</td>\n",
       "      <td>-17314.963254</td>\n",
       "      <td>15028.258726</td>\n",
       "      <td>-2286.704528</td>\n",
       "      <td>-54366.682527</td>\n",
       "      <td>7572.031389</td>\n",
       "      <td>-17959.617014</td>\n",
       "    </tr>\n",
       "    <tr>\n",
       "      <th>80149</th>\n",
       "      <td>gas</td>\n",
       "      <td>2</td>\n",
       "      <td>1.436841e+06</td>\n",
       "      <td>-37.380023</td>\n",
       "      <td>-250.988099</td>\n",
       "      <td>-125.929722</td>\n",
       "      <td>-69.019005</td>\n",
       "      <td>-67.030350</td>\n",
       "      <td>35.370728</td>\n",
       "      <td>0.0</td>\n",
       "      <td>-20910.620132</td>\n",
       "      <td>5253.889589</td>\n",
       "      <td>-15656.730543</td>\n",
       "      <td>-17318.744973</td>\n",
       "      <td>10013.702701</td>\n",
       "      <td>-14817.352798</td>\n",
       "    </tr>\n",
       "    <tr>\n",
       "      <th>80150</th>\n",
       "      <td>gas</td>\n",
       "      <td>2</td>\n",
       "      <td>1.690580e+06</td>\n",
       "      <td>16.542737</td>\n",
       "      <td>-267.716920</td>\n",
       "      <td>-226.546536</td>\n",
       "      <td>-61.974457</td>\n",
       "      <td>-122.167450</td>\n",
       "      <td>98.398193</td>\n",
       "      <td>0.0</td>\n",
       "      <td>-17358.735183</td>\n",
       "      <td>14223.961789</td>\n",
       "      <td>-3134.773394</td>\n",
       "      <td>-54019.473934</td>\n",
       "      <td>12412.323127</td>\n",
       "      <td>-18612.594663</td>\n",
       "    </tr>\n",
       "    <tr>\n",
       "      <th>80151</th>\n",
       "      <td>gas</td>\n",
       "      <td>2</td>\n",
       "      <td>1.210975e+06</td>\n",
       "      <td>-220.426329</td>\n",
       "      <td>79.421367</td>\n",
       "      <td>46.584759</td>\n",
       "      <td>-96.530602</td>\n",
       "      <td>18.881409</td>\n",
       "      <td>-45.233887</td>\n",
       "      <td>0.0</td>\n",
       "      <td>-23427.833806</td>\n",
       "      <td>5860.384564</td>\n",
       "      <td>-17567.449242</td>\n",
       "      <td>-4472.122980</td>\n",
       "      <td>-14467.594426</td>\n",
       "      <td>3504.632690</td>\n",
       "    </tr>\n",
       "    <tr>\n",
       "      <th>80152</th>\n",
       "      <td>gas</td>\n",
       "      <td>2</td>\n",
       "      <td>1.023048e+06</td>\n",
       "      <td>95.365774</td>\n",
       "      <td>-72.813703</td>\n",
       "      <td>-55.119490</td>\n",
       "      <td>73.510818</td>\n",
       "      <td>-183.192642</td>\n",
       "      <td>-81.817543</td>\n",
       "      <td>0.0</td>\n",
       "      <td>-37321.182177</td>\n",
       "      <td>22828.747471</td>\n",
       "      <td>-14492.434706</td>\n",
       "      <td>-4140.046679</td>\n",
       "      <td>3750.714504</td>\n",
       "      <td>-12117.713187</td>\n",
       "    </tr>\n",
       "  </tbody>\n",
       "</table>\n",
       "<p>80153 rows × 16 columns</p>\n",
       "</div>"
      ],
      "text/plain": [
       "      ptype  ptypev             m           x           y           z  \\\n",
       "0       gas       2  2.579203e+06    0.255179   -0.317399   -0.722907   \n",
       "1       gas       2  1.368585e+06    0.144436   -0.273204   -0.920894   \n",
       "2       gas       2  1.392261e+06    0.436985   -0.442400   -0.524567   \n",
       "3       gas       2  1.548436e+06    0.070196   -0.149943   -0.991583   \n",
       "4       gas       2  1.936515e+06    0.458794   -0.134292   -0.716227   \n",
       "...     ...     ...           ...         ...         ...         ...   \n",
       "80148   gas       2  1.429845e+06   44.246486 -253.661747 -240.888732   \n",
       "80149   gas       2  1.436841e+06  -37.380023 -250.988099 -125.929722   \n",
       "80150   gas       2  1.690580e+06   16.542737 -267.716920 -226.546536   \n",
       "80151   gas       2  1.210975e+06 -220.426329   79.421367   46.584759   \n",
       "80152   gas       2  1.023048e+06   95.365774  -72.813703  -55.119490   \n",
       "\n",
       "              vx          vy         vz  softening      potential  \\\n",
       "0       1.739517  -49.440781 -53.145966        0.0 -189770.988215   \n",
       "1      -2.254318  -49.588120 -54.291103        0.0 -189253.154793   \n",
       "2       9.799744  -51.434387 -54.606686        0.0 -189087.359395   \n",
       "3       6.844009  -41.484070 -62.540501        0.0 -189119.151755   \n",
       "4     -18.536072  -52.246674 -51.899296        0.0 -189389.528067   \n",
       "...          ...         ...        ...        ...            ...   \n",
       "80148 -44.183670 -152.597656  69.413803        0.0  -17314.963254   \n",
       "80149 -69.019005  -67.030350  35.370728        0.0  -20910.620132   \n",
       "80150 -61.974457 -122.167450  98.398193        0.0  -17358.735183   \n",
       "80151 -96.530602   18.881409 -45.233887        0.0  -23427.833806   \n",
       "80152  73.510818 -183.192642 -81.817543        0.0  -37321.182177   \n",
       "\n",
       "       kinetic_energy   total_energy            Jx            Jy            Jz  \n",
       "0         2635.955184 -187135.033032    -18.872611     12.304235    -12.064137  \n",
       "1         2705.793726 -186547.361067    -30.832816      9.917571     -7.778194  \n",
       "2         2861.710640 -186225.648755     -2.822747     18.721671    -18.140634  \n",
       "3         2839.541367 -186279.610388    -31.757357     -2.396288     -1.885816  \n",
       "4         2883.418881 -186506.109186    -30.450792     37.087136    -26.459731  \n",
       "...               ...            ...           ...           ...           ...  \n",
       "80148    15028.258726   -2286.704528 -54366.682527   7572.031389 -17959.617014  \n",
       "80149     5253.889589  -15656.730543 -17318.744973  10013.702701 -14817.352798  \n",
       "80150    14223.961789   -3134.773394 -54019.473934  12412.323127 -18612.594663  \n",
       "80151     5860.384564  -17567.449242  -4472.122980 -14467.594426   3504.632690  \n",
       "80152    22828.747471  -14492.434706  -4140.046679   3750.714504 -12117.713187  \n",
       "\n",
       "[80153 rows x 16 columns]"
      ]
     },
     "execution_count": 25,
     "metadata": {},
     "output_type": "execute_result"
    }
   ],
   "source": [
    "gal.gas.to_dataframe()"
   ]
  },
  {
   "cell_type": "markdown",
   "metadata": {},
   "source": [
    "Example of DataFrame for dark matter particles only, but using the Galaxy method:"
   ]
  },
  {
   "cell_type": "code",
   "execution_count": 26,
   "metadata": {},
   "outputs": [
    {
     "data": {
      "text/html": [
       "<div>\n",
       "<style scoped>\n",
       "    .dataframe tbody tr th:only-of-type {\n",
       "        vertical-align: middle;\n",
       "    }\n",
       "\n",
       "    .dataframe tbody tr th {\n",
       "        vertical-align: top;\n",
       "    }\n",
       "\n",
       "    .dataframe thead th {\n",
       "        text-align: right;\n",
       "    }\n",
       "</style>\n",
       "<table border=\"1\" class=\"dataframe\">\n",
       "  <thead>\n",
       "    <tr style=\"text-align: right;\">\n",
       "      <th></th>\n",
       "      <th>ptype</th>\n",
       "      <th>ptypev</th>\n",
       "      <th>m</th>\n",
       "      <th>x</th>\n",
       "      <th>y</th>\n",
       "      <th>z</th>\n",
       "      <th>vx</th>\n",
       "      <th>vy</th>\n",
       "      <th>vz</th>\n",
       "      <th>softening</th>\n",
       "      <th>potential</th>\n",
       "      <th>kinetic_energy</th>\n",
       "      <th>total_energy</th>\n",
       "      <th>Jx</th>\n",
       "      <th>Jy</th>\n",
       "      <th>Jz</th>\n",
       "    </tr>\n",
       "  </thead>\n",
       "  <tbody>\n",
       "    <tr>\n",
       "      <th>0</th>\n",
       "      <td>dark_matter</td>\n",
       "      <td>1</td>\n",
       "      <td>7.463453e+06</td>\n",
       "      <td>-0.199597</td>\n",
       "      <td>-0.133327</td>\n",
       "      <td>0.019300</td>\n",
       "      <td>27.392822</td>\n",
       "      <td>-28.606277</td>\n",
       "      <td>-11.712891</td>\n",
       "      <td>0.0</td>\n",
       "      <td>-194263.974644</td>\n",
       "      <td>852.938814</td>\n",
       "      <td>-193411.035829</td>\n",
       "      <td>2.113754</td>\n",
       "      <td>-1.809165</td>\n",
       "      <td>9.361922</td>\n",
       "    </tr>\n",
       "    <tr>\n",
       "      <th>1</th>\n",
       "      <td>dark_matter</td>\n",
       "      <td>1</td>\n",
       "      <td>7.463453e+06</td>\n",
       "      <td>-0.193407</td>\n",
       "      <td>0.010379</td>\n",
       "      <td>0.323882</td>\n",
       "      <td>0.424881</td>\n",
       "      <td>16.078735</td>\n",
       "      <td>-21.107315</td>\n",
       "      <td>0.0</td>\n",
       "      <td>-193864.214478</td>\n",
       "      <td>352.112502</td>\n",
       "      <td>-193512.101976</td>\n",
       "      <td>-5.426679</td>\n",
       "      <td>-3.944685</td>\n",
       "      <td>-3.114145</td>\n",
       "    </tr>\n",
       "    <tr>\n",
       "      <th>2</th>\n",
       "      <td>dark_matter</td>\n",
       "      <td>1</td>\n",
       "      <td>7.463453e+06</td>\n",
       "      <td>-0.104725</td>\n",
       "      <td>-0.279349</td>\n",
       "      <td>-0.254531</td>\n",
       "      <td>15.411789</td>\n",
       "      <td>-16.983276</td>\n",
       "      <td>-26.899292</td>\n",
       "      <td>0.0</td>\n",
       "      <td>-193553.979331</td>\n",
       "      <td>624.763412</td>\n",
       "      <td>-192929.215919</td>\n",
       "      <td>3.191517</td>\n",
       "      <td>-6.739791</td>\n",
       "      <td>6.083830</td>\n",
       "    </tr>\n",
       "    <tr>\n",
       "      <th>3</th>\n",
       "      <td>dark_matter</td>\n",
       "      <td>1</td>\n",
       "      <td>7.463453e+06</td>\n",
       "      <td>-0.035368</td>\n",
       "      <td>0.247132</td>\n",
       "      <td>-0.158874</td>\n",
       "      <td>-6.144241</td>\n",
       "      <td>41.590729</td>\n",
       "      <td>8.691856</td>\n",
       "      <td>0.0</td>\n",
       "      <td>-194863.484787</td>\n",
       "      <td>921.544394</td>\n",
       "      <td>-193941.940393</td>\n",
       "      <td>8.755731</td>\n",
       "      <td>1.283574</td>\n",
       "      <td>0.047461</td>\n",
       "    </tr>\n",
       "    <tr>\n",
       "      <th>4</th>\n",
       "      <td>dark_matter</td>\n",
       "      <td>1</td>\n",
       "      <td>7.463453e+06</td>\n",
       "      <td>0.068567</td>\n",
       "      <td>0.201427</td>\n",
       "      <td>0.068706</td>\n",
       "      <td>41.559647</td>\n",
       "      <td>-31.797867</td>\n",
       "      <td>-8.205231</td>\n",
       "      <td>0.0</td>\n",
       "      <td>-195338.697452</td>\n",
       "      <td>1402.817186</td>\n",
       "      <td>-193935.880266</td>\n",
       "      <td>0.531941</td>\n",
       "      <td>3.417993</td>\n",
       "      <td>-10.551514</td>\n",
       "    </tr>\n",
       "    <tr>\n",
       "      <th>...</th>\n",
       "      <td>...</td>\n",
       "      <td>...</td>\n",
       "      <td>...</td>\n",
       "      <td>...</td>\n",
       "      <td>...</td>\n",
       "      <td>...</td>\n",
       "      <td>...</td>\n",
       "      <td>...</td>\n",
       "      <td>...</td>\n",
       "      <td>...</td>\n",
       "      <td>...</td>\n",
       "      <td>...</td>\n",
       "      <td>...</td>\n",
       "      <td>...</td>\n",
       "      <td>...</td>\n",
       "      <td>...</td>\n",
       "    </tr>\n",
       "    <tr>\n",
       "      <th>155096</th>\n",
       "      <td>dark_matter</td>\n",
       "      <td>1</td>\n",
       "      <td>7.463453e+06</td>\n",
       "      <td>122.835357</td>\n",
       "      <td>-102.295263</td>\n",
       "      <td>119.148240</td>\n",
       "      <td>-140.984707</td>\n",
       "      <td>-114.639359</td>\n",
       "      <td>-156.004555</td>\n",
       "      <td>0.0</td>\n",
       "      <td>-26943.758924</td>\n",
       "      <td>28678.145599</td>\n",
       "      <td>1734.386675</td>\n",
       "      <td>29617.604754</td>\n",
       "      <td>2364.795587</td>\n",
       "      <td>-28503.834270</td>\n",
       "    </tr>\n",
       "    <tr>\n",
       "      <th>155097</th>\n",
       "      <td>dark_matter</td>\n",
       "      <td>1</td>\n",
       "      <td>7.463453e+06</td>\n",
       "      <td>-3.807391</td>\n",
       "      <td>-112.662019</td>\n",
       "      <td>-170.243235</td>\n",
       "      <td>-110.969055</td>\n",
       "      <td>-128.893845</td>\n",
       "      <td>174.253159</td>\n",
       "      <td>0.0</td>\n",
       "      <td>-28608.222475</td>\n",
       "      <td>29645.958827</td>\n",
       "      <td>1037.736353</td>\n",
       "      <td>-41575.017780</td>\n",
       "      <td>19555.180952</td>\n",
       "      <td>-12011.248486</td>\n",
       "    </tr>\n",
       "    <tr>\n",
       "      <th>155098</th>\n",
       "      <td>dark_matter</td>\n",
       "      <td>1</td>\n",
       "      <td>7.463453e+06</td>\n",
       "      <td>206.638302</td>\n",
       "      <td>-120.693961</td>\n",
       "      <td>-232.782225</td>\n",
       "      <td>-148.566986</td>\n",
       "      <td>43.935516</td>\n",
       "      <td>-110.255395</td>\n",
       "      <td>0.0</td>\n",
       "      <td>-17664.029794</td>\n",
       "      <td>18079.365585</td>\n",
       "      <td>415.335791</td>\n",
       "      <td>23534.567606</td>\n",
       "      <td>57366.741333</td>\n",
       "      <td>-8852.377447</td>\n",
       "    </tr>\n",
       "    <tr>\n",
       "      <th>155099</th>\n",
       "      <td>dark_matter</td>\n",
       "      <td>1</td>\n",
       "      <td>7.463453e+06</td>\n",
       "      <td>106.611971</td>\n",
       "      <td>20.064196</td>\n",
       "      <td>70.304915</td>\n",
       "      <td>-204.087726</td>\n",
       "      <td>-41.703079</td>\n",
       "      <td>-198.017616</td>\n",
       "      <td>0.0</td>\n",
       "      <td>-38869.770346</td>\n",
       "      <td>41300.961464</td>\n",
       "      <td>2431.191118</td>\n",
       "      <td>-1041.132809</td>\n",
       "      <td>6762.678314</td>\n",
       "      <td>-351.191392</td>\n",
       "    </tr>\n",
       "    <tr>\n",
       "      <th>155100</th>\n",
       "      <td>dark_matter</td>\n",
       "      <td>1</td>\n",
       "      <td>7.463453e+06</td>\n",
       "      <td>-162.065347</td>\n",
       "      <td>82.206626</td>\n",
       "      <td>188.792936</td>\n",
       "      <td>-35.577972</td>\n",
       "      <td>-14.591019</td>\n",
       "      <td>193.043594</td>\n",
       "      <td>0.0</td>\n",
       "      <td>-22301.257349</td>\n",
       "      <td>19372.259635</td>\n",
       "      <td>-2928.997714</td>\n",
       "      <td>18624.143748</td>\n",
       "      <td>24568.807206</td>\n",
       "      <td>5289.443562</td>\n",
       "    </tr>\n",
       "  </tbody>\n",
       "</table>\n",
       "<p>155101 rows × 16 columns</p>\n",
       "</div>"
      ],
      "text/plain": [
       "              ptype  ptypev             m           x           y           z  \\\n",
       "0       dark_matter       1  7.463453e+06   -0.199597   -0.133327    0.019300   \n",
       "1       dark_matter       1  7.463453e+06   -0.193407    0.010379    0.323882   \n",
       "2       dark_matter       1  7.463453e+06   -0.104725   -0.279349   -0.254531   \n",
       "3       dark_matter       1  7.463453e+06   -0.035368    0.247132   -0.158874   \n",
       "4       dark_matter       1  7.463453e+06    0.068567    0.201427    0.068706   \n",
       "...             ...     ...           ...         ...         ...         ...   \n",
       "155096  dark_matter       1  7.463453e+06  122.835357 -102.295263  119.148240   \n",
       "155097  dark_matter       1  7.463453e+06   -3.807391 -112.662019 -170.243235   \n",
       "155098  dark_matter       1  7.463453e+06  206.638302 -120.693961 -232.782225   \n",
       "155099  dark_matter       1  7.463453e+06  106.611971   20.064196   70.304915   \n",
       "155100  dark_matter       1  7.463453e+06 -162.065347   82.206626  188.792936   \n",
       "\n",
       "                vx          vy          vz  softening      potential  \\\n",
       "0        27.392822  -28.606277  -11.712891        0.0 -194263.974644   \n",
       "1         0.424881   16.078735  -21.107315        0.0 -193864.214478   \n",
       "2        15.411789  -16.983276  -26.899292        0.0 -193553.979331   \n",
       "3        -6.144241   41.590729    8.691856        0.0 -194863.484787   \n",
       "4        41.559647  -31.797867   -8.205231        0.0 -195338.697452   \n",
       "...            ...         ...         ...        ...            ...   \n",
       "155096 -140.984707 -114.639359 -156.004555        0.0  -26943.758924   \n",
       "155097 -110.969055 -128.893845  174.253159        0.0  -28608.222475   \n",
       "155098 -148.566986   43.935516 -110.255395        0.0  -17664.029794   \n",
       "155099 -204.087726  -41.703079 -198.017616        0.0  -38869.770346   \n",
       "155100  -35.577972  -14.591019  193.043594        0.0  -22301.257349   \n",
       "\n",
       "        kinetic_energy   total_energy            Jx            Jy  \\\n",
       "0           852.938814 -193411.035829      2.113754     -1.809165   \n",
       "1           352.112502 -193512.101976     -5.426679     -3.944685   \n",
       "2           624.763412 -192929.215919      3.191517     -6.739791   \n",
       "3           921.544394 -193941.940393      8.755731      1.283574   \n",
       "4          1402.817186 -193935.880266      0.531941      3.417993   \n",
       "...                ...            ...           ...           ...   \n",
       "155096    28678.145599    1734.386675  29617.604754   2364.795587   \n",
       "155097    29645.958827    1037.736353 -41575.017780  19555.180952   \n",
       "155098    18079.365585     415.335791  23534.567606  57366.741333   \n",
       "155099    41300.961464    2431.191118  -1041.132809   6762.678314   \n",
       "155100    19372.259635   -2928.997714  18624.143748  24568.807206   \n",
       "\n",
       "                  Jz  \n",
       "0           9.361922  \n",
       "1          -3.114145  \n",
       "2           6.083830  \n",
       "3           0.047461  \n",
       "4         -10.551514  \n",
       "...              ...  \n",
       "155096 -28503.834270  \n",
       "155097 -12011.248486  \n",
       "155098  -8852.377447  \n",
       "155099   -351.191392  \n",
       "155100   5289.443562  \n",
       "\n",
       "[155101 rows x 16 columns]"
      ]
     },
     "execution_count": 26,
     "metadata": {},
     "output_type": "execute_result"
    }
   ],
   "source": [
    "gal.to_dataframe(ptypes=[\"dark_matter\"])"
   ]
  },
  {
   "cell_type": "markdown",
   "metadata": {},
   "source": [
    "Finally you can extract only a subset of the attributes:"
   ]
  },
  {
   "cell_type": "code",
   "execution_count": 27,
   "metadata": {},
   "outputs": [
    {
     "data": {
      "text/html": [
       "<div>\n",
       "<style scoped>\n",
       "    .dataframe tbody tr th:only-of-type {\n",
       "        vertical-align: middle;\n",
       "    }\n",
       "\n",
       "    .dataframe tbody tr th {\n",
       "        vertical-align: top;\n",
       "    }\n",
       "\n",
       "    .dataframe thead th {\n",
       "        text-align: right;\n",
       "    }\n",
       "</style>\n",
       "<table border=\"1\" class=\"dataframe\">\n",
       "  <thead>\n",
       "    <tr style=\"text-align: right;\">\n",
       "      <th></th>\n",
       "      <th>ptype</th>\n",
       "      <th>x</th>\n",
       "      <th>total_energy</th>\n",
       "    </tr>\n",
       "  </thead>\n",
       "  <tbody>\n",
       "    <tr>\n",
       "      <th>0</th>\n",
       "      <td>dark_matter</td>\n",
       "      <td>-0.199597</td>\n",
       "      <td>-193411.035829</td>\n",
       "    </tr>\n",
       "    <tr>\n",
       "      <th>1</th>\n",
       "      <td>dark_matter</td>\n",
       "      <td>-0.193407</td>\n",
       "      <td>-193512.101976</td>\n",
       "    </tr>\n",
       "    <tr>\n",
       "      <th>2</th>\n",
       "      <td>dark_matter</td>\n",
       "      <td>-0.104725</td>\n",
       "      <td>-192929.215919</td>\n",
       "    </tr>\n",
       "    <tr>\n",
       "      <th>3</th>\n",
       "      <td>dark_matter</td>\n",
       "      <td>-0.035368</td>\n",
       "      <td>-193941.940393</td>\n",
       "    </tr>\n",
       "    <tr>\n",
       "      <th>4</th>\n",
       "      <td>dark_matter</td>\n",
       "      <td>0.068567</td>\n",
       "      <td>-193935.880266</td>\n",
       "    </tr>\n",
       "    <tr>\n",
       "      <th>...</th>\n",
       "      <td>...</td>\n",
       "      <td>...</td>\n",
       "      <td>...</td>\n",
       "    </tr>\n",
       "    <tr>\n",
       "      <th>155096</th>\n",
       "      <td>dark_matter</td>\n",
       "      <td>122.835357</td>\n",
       "      <td>1734.386675</td>\n",
       "    </tr>\n",
       "    <tr>\n",
       "      <th>155097</th>\n",
       "      <td>dark_matter</td>\n",
       "      <td>-3.807391</td>\n",
       "      <td>1037.736353</td>\n",
       "    </tr>\n",
       "    <tr>\n",
       "      <th>155098</th>\n",
       "      <td>dark_matter</td>\n",
       "      <td>206.638302</td>\n",
       "      <td>415.335791</td>\n",
       "    </tr>\n",
       "    <tr>\n",
       "      <th>155099</th>\n",
       "      <td>dark_matter</td>\n",
       "      <td>106.611971</td>\n",
       "      <td>2431.191118</td>\n",
       "    </tr>\n",
       "    <tr>\n",
       "      <th>155100</th>\n",
       "      <td>dark_matter</td>\n",
       "      <td>-162.065347</td>\n",
       "      <td>-2928.997714</td>\n",
       "    </tr>\n",
       "  </tbody>\n",
       "</table>\n",
       "<p>155101 rows × 3 columns</p>\n",
       "</div>"
      ],
      "text/plain": [
       "              ptype           x   total_energy\n",
       "0       dark_matter   -0.199597 -193411.035829\n",
       "1       dark_matter   -0.193407 -193512.101976\n",
       "2       dark_matter   -0.104725 -192929.215919\n",
       "3       dark_matter   -0.035368 -193941.940393\n",
       "4       dark_matter    0.068567 -193935.880266\n",
       "...             ...         ...            ...\n",
       "155096  dark_matter  122.835357    1734.386675\n",
       "155097  dark_matter   -3.807391    1037.736353\n",
       "155098  dark_matter  206.638302     415.335791\n",
       "155099  dark_matter  106.611971    2431.191118\n",
       "155100  dark_matter -162.065347   -2928.997714\n",
       "\n",
       "[155101 rows x 3 columns]"
      ]
     },
     "execution_count": 27,
     "metadata": {},
     "output_type": "execute_result"
    }
   ],
   "source": [
    "gal.to_dataframe(\n",
    "    ptypes=[\"dark_matter\"], attributes=[\"ptype\", \"x\", \"total_energy\"]\n",
    ")"
   ]
  }
 ],
 "metadata": {
  "kernelspec": {
   "display_name": "Python 3",
   "language": "python",
   "name": "python3"
  },
  "language_info": {
   "codemirror_mode": {
    "name": "ipython",
    "version": 3
   },
   "file_extension": ".py",
   "mimetype": "text/x-python",
   "name": "python",
   "nbconvert_exporter": "python",
   "pygments_lexer": "ipython3",
   "version": "3.10.12"
  },
  "toc": {
   "base_numbering": 1,
   "nav_menu": {},
   "number_sections": true,
   "sideBar": true,
   "skip_h1_title": false,
   "title_cell": "Table of Contents",
   "title_sidebar": "Contents",
   "toc_cell": false,
   "toc_position": {
    "height": "calc(100% - 180px)",
    "left": "10px",
    "top": "150px",
    "width": "165px"
   },
   "toc_section_display": true,
   "toc_window_display": true
  },
  "varInspector": {
   "cols": {
    "lenName": 16,
    "lenType": 16,
    "lenVar": 40
   },
   "kernels_config": {
    "python": {
     "delete_cmd_postfix": "",
     "delete_cmd_prefix": "del ",
     "library": "var_list.py",
     "varRefreshCmd": "print(var_dic_list())"
    },
    "r": {
     "delete_cmd_postfix": ") ",
     "delete_cmd_prefix": "rm(",
     "library": "var_list.r",
     "varRefreshCmd": "cat(var_dic_list()) "
    }
   },
   "types_to_exclude": [
    "module",
    "function",
    "builtin_function_or_method",
    "instance",
    "_Feature"
   ],
   "window_display": false
  }
 },
 "nbformat": 4,
 "nbformat_minor": 2
}
