{
 "cells": [
  {
   "cell_type": "markdown",
   "metadata": {},
   "source": [
    "# GalaxyChop's Tutorial"
   ]
  },
  {
   "cell_type": "markdown",
   "metadata": {},
   "source": [
    "This tutorial is a guide to use GalaxyChop package. GalaxyChop performs the dynamical descomposition of a galaxy with tree diferent methods."
   ]
  },
  {
   "cell_type": "markdown",
   "metadata": {},
   "source": [
    "In this tutorial we show you step by step how to get started with the GalaxyChop package.\n",
    "\n",
    "---------------------------------------------------------------------------------------------"
   ]
  },
  {
   "cell_type": "markdown",
   "metadata": {},
   "source": [
    "## Import GalaxyChop and the necesary packages"
   ]
  },
  {
   "cell_type": "code",
   "execution_count": 1,
   "metadata": {},
   "outputs": [],
   "source": [
    "import numpy as np\n",
    "import astropy.units as u\n",
    "import galaxychop as gc"
   ]
  },
  {
   "cell_type": "markdown",
   "metadata": {},
   "source": [
    "The first thing to do is to import the necessary packages:\n",
    "\n",
    "* `numpy`: it is used to load the data.\n",
    "* `astropy.units`: it is used to introduce the units to our data.\n",
    "* `galaxychop`: it is the library that we present in this tutorial."
   ]
  },
  {
   "cell_type": "markdown",
   "metadata": {},
   "source": [
    "## Loading the data"
   ]
  },
  {
   "cell_type": "markdown",
   "metadata": {},
   "source": [
    "For this tutorial we use a preloaded dataset offered by GalaxyChop"
   ]
  },
  {
   "cell_type": "code",
   "execution_count": 2,
   "metadata": {},
   "outputs": [],
   "source": [
    "star = gc.dataset.load_star_394242()\n",
    "dark = gc.dataset.load_gas_394242()\n",
    "gas = gc.dataset.load_dark_394242()\n",
    "pot_star = gc.dataset.load_pot_star_394242()\n",
    "pot_dark = gc.dataset.load_pot_dark_394242()\n",
    "pot_gas = gc.dataset.load_pot_gas_394242()"
   ]
  },
  {
   "cell_type": "markdown",
   "metadata": {},
   "source": [
    "The first step is to load mass (m), positions (x, y, z) and velocities (vx, vy, vz) of the galaxy.  The data must be include stars, dark matter and gas. If the user previously has calculated the potential energy (pot) of all partcicles (stars, dark matter and gas), it also can be introduced."
   ]
  },
  {
   "cell_type": "markdown",
   "metadata": {},
   "source": [
    "## Creating the galaxy\n"
   ]
  },
  {
   "cell_type": "markdown",
   "metadata": {},
   "source": [
    "To create a `galaxy` object, the data **must be entered with units**. Masses in ${\\rm M_{\\odot}}$, positions in ${\\rm kpc}$, velocities in ${\\rm km/s}$ and potential energy in ${\\rm (km/s)^2}$. (Note that the potential energy we use here is an specific potential energy). For this we use the package `units` from `astropy`"
   ]
  },
  {
   "cell_type": "code",
   "execution_count": 3,
   "metadata": {},
   "outputs": [],
   "source": [
    "galaxy = gc.Galaxy(\n",
    "    m_s = star[:,0]*u.M_sun,\n",
    "    x_s = star[:,1]*u.kpc,\n",
    "    y_s = star[:,2]*u.kpc, \n",
    "    z_s = star[:,3]*u.kpc,\n",
    "    vx_s = star[:,4]*u.km / u.s,\n",
    "    vy_s = star[:,5]*u.km / u.s,\n",
    "    vz_s = star[:,6]*u.km / u.s,\n",
    "    m_dm = dark[:,0]*u.M_sun,\n",
    "    x_dm = dark[:,1]*u.kpc,\n",
    "    y_dm = dark[:,2]*u.kpc,\n",
    "    z_dm = dark[:,3]*u.kpc,\n",
    "    vx_dm = dark[:,4]*u.km / u.s,\n",
    "    vy_dm = dark[:,5]*u.km / u.s,\n",
    "    vz_dm = dark[:,6]*u.km / u.s,\n",
    "    m_g = gas[:,0]*u.M_sun,\n",
    "    x_g = gas[:,1]*u.kpc,\n",
    "    y_g = gas[:,2]*u.kpc,\n",
    "    z_g = gas[:,3]*u.kpc,\n",
    "    vx_g = gas[:,4]*u.km / u.s,\n",
    "    vy_g = gas[:,5]*u.km / u.s,\n",
    "    vz_g = gas[:,6]*u.km / u.s,\n",
    "    pot_s = pot_star*(u.km / u.s)**2,\n",
    "    pot_dm = pot_dark*(u.km / u.s)**2,\n",
    "    pot_g = pot_gas*(u.km / u.s)**2\n",
    ")"
   ]
  },
  {
   "cell_type": "markdown",
   "metadata": {},
   "source": [
    "`galaxy` is now an instantiated object with the Galaxy class."
   ]
  },
  {
   "cell_type": "markdown",
   "metadata": {},
   "source": [
    "### View the data\n",
    "\n",
    "To vizualize the loaded data, we can use the package `py-sphviewer` to plot the galaxy"
   ]
  },
  {
   "cell_type": "code",
   "execution_count": 90,
   "metadata": {
    "scrolled": true
   },
   "outputs": [],
   "source": [
    "rot_part = gc.align(star[:,0],\n",
    "                     star[:,1],\n",
    "                     star[:,2],\n",
    "                     star[:,3],\n",
    "                     star[:,4],\n",
    "                     star[:,5],\n",
    "                     star[:,6],\n",
    "                     dark[:,1],\n",
    "                     dark[:,2],\n",
    "                     dark[:,3],\n",
    "                     dark[:,4],\n",
    "                     dark[:,5],\n",
    "                     dark[:,6],\n",
    "                     gas[:,1],\n",
    "                     gas[:,2],\n",
    "                     gas[:,3],\n",
    "                     gas[:,4],\n",
    "                     gas[:,5],\n",
    "                     gas[:,6],\n",
    "                     r_cut=5\n",
    "                    )"
   ]
  },
  {
   "cell_type": "code",
   "execution_count": 95,
   "metadata": {},
   "outputs": [
    {
     "data": {
      "text/plain": [
       "<matplotlib.image.AxesImage at 0x7f4831e5fe80>"
      ]
     },
     "execution_count": 95,
     "metadata": {},
     "output_type": "execute_result"
    },
    {
     "data": {
      "image/png": "[encoded data removed]",
      "text/plain": [
       "<Figure size 1152x576 with 2 Axes>"
      ]
     },
     "metadata": {
      "needs_background": "light"
     },
     "output_type": "display_data"
    }
   ],
   "source": [
    "from sphviewer.tools import QuickView\n",
    "import matplotlib.pyplot as plt\n",
    "\n",
    "pos = np.ndarray([len(rot_part[0]),3])\n",
    "pos[:,0] = rot_part[0]\n",
    "pos[:,1] = rot_part[1]\n",
    "pos[:,2] = rot_part[2]\n",
    "mass = star[:,0]\n",
    "\n",
    "fig, ax =plt.subplots(nrows=1, ncols=2, figsize=(16,8))\n",
    "\n",
    "qv = QuickView(pos, mass, r='infinity', plot = False)\n",
    "img = qv.get_image()\n",
    "extent = qv.get_extent()\n",
    "ax[0].imshow(img, extent=extent, cmap='magma', vmin=0, vmax=8)\n",
    "\n",
    "qv = QuickView(pos, mass, r='infinity', plot = False, t = 90)\n",
    "img = qv.get_image()\n",
    "extent = qv.get_extent()\n",
    "ax[1].imshow(img, extent=extent, cmap='magma', vmin=0, vmax=8)\n"
   ]
  },
  {
   "cell_type": "code",
   "execution_count": 94,
   "metadata": {},
   "outputs": [
    {
     "data": {
      "text/plain": [
       "37393"
      ]
     },
     "execution_count": 94,
     "metadata": {},
     "output_type": "execute_result"
    }
   ],
   "source": [
    "len(rot_part[0])"
   ]
  },
  {
   "cell_type": "markdown",
   "metadata": {},
   "source": [
    "### Properties"
   ]
  },
  {
   "cell_type": "markdown",
   "metadata": {},
   "source": [
    "There are a number of galaxy properties that we can calculate if necessary\n",
    "\n",
    "* **Specific kinetical energy**\n",
    "* **Specific potential energy**\n",
    "* **Specific total energy**\n",
    "* **Specific angular momentum**\n",
    "* Pairs of points (x,y) used for interpolation of the **Circular Angular Moment** function\n",
    "* **Circularity parameter**: in the z-axis and in the plane."
   ]
  },
  {
   "cell_type": "markdown",
   "metadata": {},
   "source": [
    "**Note**\n",
    "\n",
    "In case it is not necessary to work or analyze any of the parameters mentioned above you can directly perform the dynamical decomposition. For this, you can proceed directly to the title **Dynamic decomposition methods**."
   ]
  },
  {
   "cell_type": "markdown",
   "metadata": {},
   "source": [
    "#### **Specific energy**"
   ]
  },
  {
   "cell_type": "code",
   "execution_count": 4,
   "metadata": {},
   "outputs": [],
   "source": [
    "E_s, E_dm, E_g = galaxy.energy"
   ]
  },
  {
   "cell_type": "markdown",
   "metadata": {},
   "source": [
    "This returns the total specific energy of the components of stars (s), dark matter (dm) and gas (g). \n",
    "If you prefer separately specific kinetic and/or potential energy, you can run:\n",
    "\n",
    "~~~\n",
    "k_s, k_dm, k_g = galaxy.kinetic_energy\n",
    "~~~\n",
    "\n",
    "for kinetic energy, or:\n",
    "\n",
    "~~~\n",
    "pot_s = galaxy.potential_energy().pot_s\n",
    "pot_dm = galaxy.potential_energy().pot_dm\n",
    "pot_g = galaxy.potential_energy().pot_g\n",
    "~~~\n",
    "\n",
    "for potential energy. "
   ]
  },
  {
   "cell_type": "markdown",
   "metadata": {},
   "source": [
    "**Note**\n",
    "\n",
    "You must note that `kinetic_energy` is a property of the class `Galaxy`, and `potential_energy` is a method. This is impremented in that way to allow entering potentials manually if you prefer."
   ]
  },
  {
   "cell_type": "markdown",
   "metadata": {},
   "source": [
    "#### Specific angular momentum"
   ]
  },
  {
   "cell_type": "code",
   "execution_count": 7,
   "metadata": {},
   "outputs": [],
   "source": [
    "J_part = galaxy.angular_momentum().J_part\n",
    "J_star = galaxy.angular_momentum().J_star\n",
    "Jr_part = galaxy.angular_momentum().Jr_part\n",
    "Jr_star = galaxy.angular_momentum().Jr_star"
   ]
  },
  {
   "cell_type": "markdown",
   "metadata": {},
   "source": [
    "This returns the parameters:\n",
    "\n",
    "* **J_part**: Specific angular momentum of stars, dark matter and gas.\n",
    "* **J_star**: Specific angular momentum for stars.\n",
    "* **Jr_part**: Absolute value of the specific angular momentum in the XY plane of all particles (stars, dark matter and gas).\n",
    "* **Jr_star**: Absolute value of the specific angular momentum in the XY plane of star particles."
   ]
  },
  {
   "cell_type": "markdown",
   "metadata": {},
   "source": [
    "#### Circular angular momentum"
   ]
  },
  {
   "cell_type": "code",
   "execution_count": null,
   "metadata": {},
   "outputs": [],
   "source": [
    "x = galaxy.jcirc().x\n",
    "y = galaxy.jcirc().y"
   ]
  },
  {
   "cell_type": "markdown",
   "metadata": {},
   "source": [
    "This returns a new galaxy with the parameters:\n",
    "\n",
    "* **x**: Normalized specific energy for the particle with the maximum z-component of the normalized specific angular momentum per bin.\n",
    "* **y**: Maximum value of the z-component of the normalized specific angular momentum per bin.\n",
    "\n",
    "For more information you can access the documentation of the jcirc method in the Notes section"
   ]
  },
  {
   "cell_type": "markdown",
   "metadata": {},
   "source": [
    "#### Circularity parameters"
   ]
  },
  {
   "cell_type": "code",
   "execution_count": 9,
   "metadata": {},
   "outputs": [],
   "source": [
    "E_star, eps, eps_r = galaxy.paramcirc"
   ]
  },
  {
   "cell_type": "markdown",
   "metadata": {},
   "source": [
    "This returns the **normalized specific stellar energy**, **circularity parameter in z** and **circularity parameter in plane**."
   ]
  },
  {
   "cell_type": "markdown",
   "metadata": {},
   "source": [
    "## Dynamic decomposition methods"
   ]
  },
  {
   "cell_type": "markdown",
   "metadata": {},
   "source": [
    "In GalaxyChop we present 4 methods to perform the dynamical decomposition of galaxies stellar component.\n",
    "\n",
    "* **GCAbadi**\n",
    "* **GCChop**\n",
    "* **GCKmeans**\n",
    "* **GCGmm**\n",
    "* **GCAutogmm**"
   ]
  },
  {
   "cell_type": "markdown",
   "metadata": {},
   "source": [
    "#### GCAbadi"
   ]
  },
  {
   "cell_type": "markdown",
   "metadata": {},
   "source": [
    "This is an implementation of the method for dynamically decomposing galaxies described by [Abadi et al.(2003)](https://ui.adsabs.harvard.edu/abs/2003ApJ...597...21Aabstract).\n",
    "\n",
    "First, we instantiate an object with the class `GCAbadi`."
   ]
  },
  {
   "cell_type": "code",
   "execution_count": 10,
   "metadata": {},
   "outputs": [],
   "source": [
    "gcabadi = gc.GCAbadi()"
   ]
  },
  {
   "cell_type": "markdown",
   "metadata": {},
   "source": [
    "Next, we decompose the previously instantiated galaxy"
   ]
  },
  {
   "cell_type": "code",
   "execution_count": 11,
   "metadata": {},
   "outputs": [
    {
     "data": {
      "text/plain": [
       "<galaxychop.models.GCAbadi at 0x11d657700>"
      ]
     },
     "execution_count": 11,
     "metadata": {},
     "output_type": "execute_result"
    }
   ],
   "source": [
    "gcabadi.decompose(galaxy)"
   ]
  },
  {
   "cell_type": "markdown",
   "metadata": {},
   "source": [
    "The previous method certifies that what we introduce an instantiated galaxy with the `Galaxy` class, and performs the decomposition.\n",
    "\n",
    "Then, we obtain the different groups to which each particle of the galaxy belongs: "
   ]
  },
  {
   "cell_type": "code",
   "execution_count": 12,
   "metadata": {},
   "outputs": [
    {
     "data": {
      "text/plain": [
       "array([-1, -1,  0, ...,  0,  0,  0])"
      ]
     },
     "execution_count": 12,
     "metadata": {},
     "output_type": "execute_result"
    }
   ],
   "source": [
    "gcabadi.labels_"
   ]
  },
  {
   "cell_type": "markdown",
   "metadata": {},
   "source": [
    "#### GCChop"
   ]
  },
  {
   "cell_type": "markdown",
   "metadata": {},
   "source": [
    "This is an implementation of the method for dynamically decomposing galaxies used in [Tissera et al.(2012)](https://ui.adsabs.harvard.edu/abs/2012MNRAS.420..255T/abstract), [Vogelsberger et al.(2014)](https://ui.adsabs.harvard.edu/abs/2014MNRAS.444.1518V/abstract), [Marinacci et al.(2014)](https://ui.adsabs.harvard.edu/abs/2014MNRAS.437.1750M/abstract), [Park et al.(2019)](https://ui.adsabs.harvard.edu/abs/2019ApJ...883...25P/abstract), etc.\n",
    "\n",
    "We instantiate an object with the class `GCChop`."
   ]
  },
  {
   "cell_type": "code",
   "execution_count": 13,
   "metadata": {},
   "outputs": [],
   "source": [
    "gcchop = gc.GCChop()"
   ]
  },
  {
   "cell_type": "markdown",
   "metadata": {},
   "source": [
    "Next, we decompose the previously instantiated galaxy"
   ]
  },
  {
   "cell_type": "code",
   "execution_count": 14,
   "metadata": {},
   "outputs": [
    {
     "data": {
      "text/plain": [
       "<galaxychop.models.GCChop at 0x11d6570d0>"
      ]
     },
     "execution_count": 14,
     "metadata": {},
     "output_type": "execute_result"
    }
   ],
   "source": [
    "gcchop.decompose(galaxy)"
   ]
  },
  {
   "cell_type": "markdown",
   "metadata": {},
   "source": [
    "The previous method certifies that what we introduce an instantiated galaxy with the `Galaxy` class, and performs the decomposition.\n",
    "\n",
    "Then, we obtain the different groups to which each particle of the galaxy belongs: "
   ]
  },
  {
   "cell_type": "code",
   "execution_count": 15,
   "metadata": {},
   "outputs": [
    {
     "data": {
      "text/plain": [
       "array([-1, -1,  0, ...,  0,  0,  1])"
      ]
     },
     "execution_count": 15,
     "metadata": {},
     "output_type": "execute_result"
    }
   ],
   "source": [
    "gcchop.labels_"
   ]
  },
  {
   "cell_type": "markdown",
   "metadata": {},
   "source": [
    "#### GCKmeans"
   ]
  },
  {
   "cell_type": "markdown",
   "metadata": {},
   "source": [
    "This is an implementation of [Skitlearn](https://scikit-learn.org/stable/about.html#citing-scikit-learn) K-means as a method for dynamically decomposing galaxies. \n",
    "\n",
    "First, we instantiate an object with the class `GCKmeans` by translating the amount of components that we want to obtain from the decomposition."
   ]
  },
  {
   "cell_type": "code",
   "execution_count": 16,
   "metadata": {},
   "outputs": [],
   "source": [
    "gckmeans = gc.GCKmeans(n_clusters=3)"
   ]
  },
  {
   "cell_type": "markdown",
   "metadata": {},
   "source": [
    "Then, we decompose the previously instantiated galaxy."
   ]
  },
  {
   "cell_type": "code",
   "execution_count": 17,
   "metadata": {},
   "outputs": [
    {
     "data": {
      "text/plain": [
       "GCKmeans()"
      ]
     },
     "execution_count": 17,
     "metadata": {},
     "output_type": "execute_result"
    }
   ],
   "source": [
    "gckmeans.decompose(galaxy)"
   ]
  },
  {
   "cell_type": "markdown",
   "metadata": {},
   "source": [
    "This method certifies that what we introduce an instantiated galaxy with the `Galaxy` class, and performs the decomposition.\n",
    "\n",
    "Then, we obtain the different groups to which each particle of the galaxy belongs runing:"
   ]
  },
  {
   "cell_type": "code",
   "execution_count": 18,
   "metadata": {},
   "outputs": [
    {
     "data": {
      "text/plain": [
       "array([-1, -1,  1, ...,  2,  1,  2])"
      ]
     },
     "execution_count": 18,
     "metadata": {},
     "output_type": "execute_result"
    }
   ],
   "source": [
    "gckmeans.labels_"
   ]
  },
  {
   "cell_type": "markdown",
   "metadata": {},
   "source": [
    "#### GCGmm"
   ]
  },
  {
   "cell_type": "markdown",
   "metadata": {},
   "source": [
    "This is an implementation of the method for dynamically decomposing galaxies described by [Obreja et al.(2019)](https://ui.adsabs.harvard.edu/abs/2019MNRAS.487.4424O/abstract)\n",
    "\n",
    "First we instantiate an object with the class `GCgmm`."
   ]
  },
  {
   "cell_type": "code",
   "execution_count": 19,
   "metadata": {},
   "outputs": [],
   "source": [
    "gcgmm = gc.GCGmm(n_components=3)"
   ]
  },
  {
   "cell_type": "markdown",
   "metadata": {},
   "source": [
    "Next, we decompose the previously instantiated galaxy"
   ]
  },
  {
   "cell_type": "code",
   "execution_count": 20,
   "metadata": {},
   "outputs": [
    {
     "data": {
      "text/plain": [
       "GCGmm()"
      ]
     },
     "execution_count": 20,
     "metadata": {},
     "output_type": "execute_result"
    }
   ],
   "source": [
    "gcgmm.decompose(galaxy)"
   ]
  },
  {
   "cell_type": "markdown",
   "metadata": {},
   "source": [
    "The previous method certifies that what we introduce an instantiated galaxy with the `Galaxy` class, and performs the decomposition.\n",
    "\n",
    "Then, we obtain the different groups to which each particle of the galaxy belongs: "
   ]
  },
  {
   "cell_type": "code",
   "execution_count": 21,
   "metadata": {},
   "outputs": [
    {
     "data": {
      "text/plain": [
       "array([-1, -1,  0, ...,  1,  1,  1])"
      ]
     },
     "execution_count": 21,
     "metadata": {},
     "output_type": "execute_result"
    }
   ],
   "source": [
    "gcgmm.labels_"
   ]
  },
  {
   "cell_type": "markdown",
   "metadata": {},
   "source": [
    "#### GCAutogmm"
   ]
  },
  {
   "cell_type": "markdown",
   "metadata": {},
   "source": [
    "This is an implementation of the method for dynamically decomposing galaxies described by [Du et al.(2019)](https://ui.adsabs.harvard.edu/abs/2019ApJ...884..129D/abstract)\n",
    "\n",
    "First we instantiate an object with the class `GCAutogmm`."
   ]
  },
  {
   "cell_type": "code",
   "execution_count": 22,
   "metadata": {},
   "outputs": [],
   "source": [
    "gcautogmm = gc.GCAutogmm()"
   ]
  },
  {
   "cell_type": "markdown",
   "metadata": {},
   "source": [
    "Next, we decompose the previously instantiated galaxy"
   ]
  },
  {
   "cell_type": "code",
   "execution_count": 23,
   "metadata": {},
   "outputs": [
    {
     "data": {
      "text/plain": [
       "<galaxychop.models.GCAutogmm at 0x11d63e1c0>"
      ]
     },
     "execution_count": 23,
     "metadata": {},
     "output_type": "execute_result"
    }
   ],
   "source": [
    "gcautogmm.decompose(galaxy)"
   ]
  },
  {
   "cell_type": "markdown",
   "metadata": {},
   "source": [
    "The previous method certifies that what we introduce an instantiated galaxy with the `Galaxy` class, and performs the decomposition.\n",
    "\n",
    "Then, we obtain the different groups to which each particle of the galaxy belongs: "
   ]
  },
  {
   "cell_type": "code",
   "execution_count": 24,
   "metadata": {
    "scrolled": true
   },
   "outputs": [
    {
     "data": {
      "text/plain": [
       "array([-1, -1,  1, ...,  0,  0,  3])"
      ]
     },
     "execution_count": 24,
     "metadata": {},
     "output_type": "execute_result"
    }
   ],
   "source": [
    "gcautogmm.labels_"
   ]
  }
 ],
 "metadata": {
  "kernelspec": {
   "display_name": "Python 3",
   "language": "python",
   "name": "python3"
  },
  "language_info": {
   "codemirror_mode": {
    "name": "ipython",
    "version": 3
   },
   "file_extension": ".py",
   "mimetype": "text/x-python",
   "name": "python",
   "nbconvert_exporter": "python",
   "pygments_lexer": "ipython3",
   "version": "3.8.5"
  }
 },
 "nbformat": 4,
 "nbformat_minor": 4
}
